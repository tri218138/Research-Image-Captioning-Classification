{
  "cells": [
    {
      "cell_type": "markdown",
      "metadata": {
        "id": "pdcMxVGEA9Cd"
      },
      "source": [
        "# **Fine-tuning for Image Classification with 🤗 Transformers**\n",
        "\n",
        "This notebook shows how to fine-tune any pretrained Vision model for Image Classification on a custom dataset. The idea is to add a randomly initialized classification head on top of a pre-trained encoder, and fine-tune the model altogether on a labeled dataset.\n",
        "\n",
        "## ImageFolder\n",
        "\n",
        "This notebook leverages the [ImageFolder](https://huggingface.co/docs/datasets/v2.0.0/en/image_process#imagefolder) feature to easily run the notebook on a custom dataset (namely, [EuroSAT](https://github.com/phelber/EuroSAT) in this tutorial). You can either load a `Dataset` from local folders or from local/remote files, like zip or tar.\n",
        "\n",
        "## Any model\n",
        "\n",
        "This notebook is built to run on any image classification dataset with any vision model checkpoint from the [Model Hub](https://huggingface.co/) as long as that model has a version with a Image Classification head, such as:\n",
        "* [ViT](https://huggingface.co/docs/transformers/model_doc/vit#transformers.ViTForImageClassification)\n",
        "* [Swin Transformer](https://huggingface.co/docs/transformers/model_doc/swin#transformers.SwinForImageClassification)\n",
        "* [ConvNeXT](https://huggingface.co/docs/transformers/master/en/model_doc/convnext#transformers.ConvNextForImageClassification)\n",
        "\n",
        "- in short, any model supported by [AutoModelForImageClassification](https://huggingface.co/docs/transformers/model_doc/auto#transformers.AutoModelForImageClassification).\n",
        "\n",
        "## Data augmentation\n",
        "\n",
        "This notebook leverages Torchvision's [transforms](https://pytorch.org/vision/stable/transforms.html) for applying data augmentation - note that we do provide alternative notebooks which leverage other libraries, including:\n",
        "\n",
        "* [Albumentations](https://github.com/huggingface/notebooks/blob/main/examples/image_classification_albumentations.ipynb)\n",
        "* [Kornia](https://github.com/huggingface/notebooks/blob/main/examples/image_classification_kornia.ipynb)\n",
        "* [imgaug](https://github.com/huggingface/notebooks/blob/main/examples/image_classification_imgaug.ipynb).\n",
        "\n",
        "---\n",
        "\n",
        "Depending on the model and the GPU you are using, you might need to adjust the batch size to avoid out-of-memory errors. Set those two parameters, then the rest of the notebook should run smoothly.\n",
        "\n",
        "In this notebook, we'll fine-tune from the https://huggingface.co/microsoft/swin-tiny-patch4-window7-224 checkpoint, but note that there are many, many more available on the [hub](https://huggingface.co/models?other=vision)."
      ]
    },
    {
      "cell_type": "code",
      "execution_count": 1,
      "metadata": {
        "colab": {
          "base_uri": "https://localhost:8080/"
        },
        "id": "Bkpk_JPlCww8",
        "outputId": "dc53e373-b425-429d-f859-c3e0f618496e"
      },
      "outputs": [
        {
          "output_type": "stream",
          "name": "stdout",
          "text": [
            "\n",
            "    _|    _|  _|    _|    _|_|_|    _|_|_|  _|_|_|  _|      _|    _|_|_|      _|_|_|_|    _|_|      _|_|_|  _|_|_|_|\n",
            "    _|    _|  _|    _|  _|        _|          _|    _|_|    _|  _|            _|        _|    _|  _|        _|\n",
            "    _|_|_|_|  _|    _|  _|  _|_|  _|  _|_|    _|    _|  _|  _|  _|  _|_|      _|_|_|    _|_|_|_|  _|        _|_|_|\n",
            "    _|    _|  _|    _|  _|    _|  _|    _|    _|    _|    _|_|  _|    _|      _|        _|    _|  _|        _|\n",
            "    _|    _|    _|_|      _|_|_|    _|_|_|  _|_|_|  _|      _|    _|_|_|      _|        _|    _|    _|_|_|  _|_|_|_|\n",
            "\n",
            "    To login, `huggingface_hub` requires a token generated from https://huggingface.co/settings/tokens .\n",
            "Token: \n",
            "Add token as git credential? (Y/n) Y\n",
            "Token is valid (permission: write).\n",
            "\u001b[1m\u001b[31mCannot authenticate through git-credential as no helper is defined on your machine.\n",
            "You might have to re-authenticate when pushing to the Hugging Face Hub.\n",
            "Run the following command in your terminal in case you want to set the 'store' credential helper as default.\n",
            "\n",
            "git config --global credential.helper store\n",
            "\n",
            "Read https://git-scm.com/book/en/v2/Git-Tools-Credential-Storage for more details.\u001b[0m\n",
            "Token has not been saved to git credential helper.\n",
            "Your token has been saved to /root/.cache/huggingface/token\n",
            "Login successful\n"
          ]
        }
      ],
      "source": [
        "!huggingface-cli login"
      ]
    },
    {
      "cell_type": "code",
      "execution_count": 2,
      "metadata": {
        "id": "5WMEawzyCEyG"
      },
      "outputs": [],
      "source": [
        "### Base model\n",
        "# model_checkpoint = \"microsoft/resnet-50\" # pre-trained model from which to fine-tune\n",
        "### My fine-tuned model\n",
        "model_checkpoint = \"TeeA/resnet-50-finetuned-pokemon\" # pre-trained model from which to fine-tune\n",
        "batch_size = 32 # batch size for training and evaluation"
      ]
    },
    {
      "cell_type": "markdown",
      "metadata": {
        "id": "NlArTG8KChJf"
      },
      "source": [
        "Before we start, let's install the `datasets` and `transformers` libraries."
      ]
    },
    {
      "cell_type": "markdown",
      "metadata": {
        "id": "snZ1tmaOC412"
      },
      "source": [
        "If you're opening this notebook locally, make sure your environment has an install from the last version of those libraries.\n",
        "\n",
        "To be able to share your model with the community and generate results like the one shown in the picture below via the inference API, there are a few more steps to follow.\n",
        "\n",
        "First you have to store your authentication token from the Hugging Face website (sign up [here](https://huggingface.co/join) if you haven't already!) then execute the following cell and input your token:"
      ]
    },
    {
      "cell_type": "code",
      "execution_count": 3,
      "metadata": {
        "colab": {
          "base_uri": "https://localhost:8080/"
        },
        "id": "L1532RVbJgQV",
        "outputId": "ad7541cb-e717-4d30-b553-75bb3b706255"
      },
      "outputs": [
        {
          "output_type": "stream",
          "name": "stdout",
          "text": [
            "\u001b[2K     \u001b[90m━━━━━━━━━━━━━━━━━━━━━━━━━━━━━━━━━━━━━━━━\u001b[0m \u001b[32m507.1/507.1 kB\u001b[0m \u001b[31m2.9 MB/s\u001b[0m eta \u001b[36m0:00:00\u001b[0m\n",
            "\u001b[2K     \u001b[90m━━━━━━━━━━━━━━━━━━━━━━━━━━━━━━━━━━━━━━━━\u001b[0m \u001b[32m84.1/84.1 kB\u001b[0m \u001b[31m9.1 MB/s\u001b[0m eta \u001b[36m0:00:00\u001b[0m\n",
            "\u001b[2K     \u001b[90m━━━━━━━━━━━━━━━━━━━━━━━━━━━━━━━━━━━━━━━━\u001b[0m \u001b[32m115.3/115.3 kB\u001b[0m \u001b[31m2.1 MB/s\u001b[0m eta \u001b[36m0:00:00\u001b[0m\n",
            "\u001b[2K     \u001b[90m━━━━━━━━━━━━━━━━━━━━━━━━━━━━━━━━━━━━━━━━\u001b[0m \u001b[32m134.8/134.8 kB\u001b[0m \u001b[31m13.0 MB/s\u001b[0m eta \u001b[36m0:00:00\u001b[0m\n",
            "\u001b[2K     \u001b[90m━━━━━━━━━━━━━━━━━━━━━━━━━━━━━━━━━━━━━━━━\u001b[0m \u001b[32m3.4/3.4 MB\u001b[0m \u001b[31m11.0 MB/s\u001b[0m eta \u001b[36m0:00:00\u001b[0m\n",
            "\u001b[2K     \u001b[90m━━━━━━━━━━━━━━━━━━━━━━━━━━━━━━━━━━━━━━━━\u001b[0m \u001b[32m265.7/265.7 kB\u001b[0m \u001b[31m2.6 MB/s\u001b[0m eta \u001b[36m0:00:00\u001b[0m\n",
            "\u001b[2K     \u001b[90m━━━━━━━━━━━━━━━━━━━━━━━━━━━━━━━━━━━━━━━━\u001b[0m \u001b[32m8.2/8.2 MB\u001b[0m \u001b[31m35.2 MB/s\u001b[0m eta \u001b[36m0:00:00\u001b[0m\n",
            "\u001b[?25h"
          ]
        }
      ],
      "source": [
        "!pip install datasets evaluate -q\n",
        "!pip install jiwer -q\n",
        "!pip install -U accelerate -q\n",
        "!pip install -U transformers -q"
      ]
    },
    {
      "cell_type": "markdown",
      "metadata": {
        "id": "JJ0986jTDZRC"
      },
      "source": [
        "\n",
        "Then you need to install Git-LFS to upload your model checkpoints:"
      ]
    },
    {
      "cell_type": "code",
      "execution_count": 4,
      "metadata": {
        "id": "t7JEhLjDDcVd"
      },
      "outputs": [],
      "source": [
        "%%capture\n",
        "!sudo apt -qq install git-lfs\n",
        "!git config --global credential.helper store"
      ]
    },
    {
      "cell_type": "markdown",
      "metadata": {
        "id": "esyaUx2dCzpO"
      },
      "source": [
        "We also quickly upload some telemetry - this tells us which examples and software versions are getting used so we know where to prioritize our maintenance efforts. We don't collect (or care about) any personally identifiable information, but if you'd prefer not to be counted, feel free to skip this step or delete this cell entirely."
      ]
    },
    {
      "cell_type": "code",
      "execution_count": 5,
      "metadata": {
        "id": "PcNMNhEpCzpP"
      },
      "outputs": [],
      "source": [
        "from transformers.utils import send_example_telemetry\n",
        "\n",
        "send_example_telemetry(\"image_classification_notebook\", framework=\"pytorch\")"
      ]
    },
    {
      "cell_type": "markdown",
      "metadata": {
        "id": "XalxdrirGkLl"
      },
      "source": [
        "## Fine-tuning a model on an image classification task"
      ]
    },
    {
      "cell_type": "markdown",
      "metadata": {
        "id": "cnRWZSq0GRRh"
      },
      "source": [
        "In this notebook, we will see how to fine-tune one of the [🤗 Transformers](https://github.com/huggingface/transformers) vision models on an Image Classification dataset.\n",
        "\n",
        "Given an image, the goal is to predict an appropriate class for it, like \"tiger\". The screenshot below is taken from a [ViT fine-tuned on ImageNet-1k](https://huggingface.co/google/vit-base-patch16-224) - try out the inference widget!"
      ]
    },
    {
      "cell_type": "markdown",
      "metadata": {
        "id": "lu8Od7EgFLwe"
      },
      "source": [
        "<img src=\"https://huggingface.co/datasets/huggingface/documentation-images/resolve/main/tiger_image.png\" alt=\"drawing\" width=\"600\"/>\n"
      ]
    },
    {
      "cell_type": "markdown",
      "metadata": {
        "id": "mcE455KaG687"
      },
      "source": [
        "### Loading the dataset"
      ]
    },
    {
      "cell_type": "markdown",
      "metadata": {
        "id": "RD_G2KJgG_bU"
      },
      "source": [
        "We will use the [🤗 Datasets](https://github.com/huggingface/datasets) library's [ImageFolder](https://huggingface.co/docs/datasets/v2.0.0/en/image_process#imagefolder) feature to download our custom dataset into a DatasetDict.\n",
        "\n",
        "In this case, the EuroSAT dataset is hosted remotely, so we provide the `data_files` argument. Alternatively, if you have local folders with images, you can load them using the `data_dir` argument."
      ]
    },
    {
      "cell_type": "code",
      "execution_count": 6,
      "metadata": {
        "colab": {
          "base_uri": "https://localhost:8080/",
          "height": 241,
          "referenced_widgets": [
            "55dcca518e674af4b1163223c3a6f367",
            "87a90eeab6a04eccba96497afbb28656",
            "7ee5e670ea904580b983ffa63d39c74a",
            "77f438ddcb4b4b46879cb5020458db97",
            "0da6e09c43284e59ac3a2fe2dd412e9e",
            "e893ce97e50b4d808be1ee52416e1306",
            "56f016c79fb24a9792e8f53a577f58c6",
            "f21184a7ba9e4ec58b17cd315b31daf9",
            "e3165337b7094e008e70641d7d39d9af",
            "f0a24ab5445b4ac4bb671d95b8d58485",
            "1822c0e7dc3e4736b696980463b934af",
            "20f2b0c91f1442758188cca81c863c26",
            "74e5fa51a4854dbf907aa3eda5d430f4",
            "3e2c1d2f95d44cf4960eb2459efaf60f",
            "630a1318a9134552bde7cfacda76bfcb",
            "a5f97012c7484d1c926fe421479d3b84",
            "bd0c5e1234444aba836d4d7999aece8a",
            "e19a528ea7174bd4a088e7be02a25d02",
            "c6e8ce669ff34e79911843e6377d9d3f",
            "ad6d435a31684d09b226090dacaed327",
            "04e6c1fa73264a1d91de481d19e75585",
            "dbccbcbd323944e0b7a61c7744999d0e",
            "fd78ac00c9b04fbd90cedec7f20f5370",
            "0c34ec0487954f3a920c96778a4f9a53",
            "2e8bd6aa2af74b3c9c3aba2c35273c16",
            "3ca36d97f9e64879a8ba83735401f10c",
            "c2b27ae046d7495996bc3a7acf6b6422",
            "a57abf5441734b61a1d9f746323bdd9e",
            "d049486d168144b9ae145e7bc4796e76",
            "355d22eec91b4b909af3293777adac97",
            "8462a36a5aa64a1590b3ce80f6a8302e",
            "9fad0dd04aae4ebea2c9e86609346726",
            "6fd29b58e94e423b9f35927a5b9917d8",
            "29c7b81d1b8e42a4b1c114a5647f49a5",
            "110619109b104bda9bb7ca142db0f2af",
            "c9b34e6c433c4018bb93a3531cc84216",
            "8213f957281c4002a6fc9b8ea9dd2ffa",
            "ad8bd252dda849a8b80b0e63a8fe154c",
            "99b76757417444119ee5080132a3b8c5",
            "a8c7bacf2aef4192929a93669e636806",
            "a516ea0de5fa47be8528cadd7d367d94",
            "9110d33c8556498b83dbe271ffc61343",
            "3552ecb9912a495faac6b0e66bfc9f82",
            "84f7842962444c67af2ea494fcf43958",
            "b5e2ea146678404c9db1d08d67908523",
            "f8cbe60bb3124c2bad36a7f0a95aa87e",
            "4f3b97eae25147f3ac04abf226a82a3f",
            "a231331dbdd648fa84c61532d415e8cf",
            "68fd24608f3445f2bfdab9991ac9d7ba",
            "9827afbf40a4441a99ef1e5d75bdd4a9",
            "85c227e962ce498a9027042064d76dcb",
            "90fe292742a340938e7cd28ef58f3b35",
            "8e3d95a653514b799333482df539a6a7",
            "28cd290f7ee44f1f8ed545434089bbb7",
            "0f5ca9a7227642ba904154dfa1e4de41",
            "7be5b685e69e4dc98054460622c4ec61",
            "7b21c2802cfb402e9d264772b7addda7",
            "00abc6570a264589971e8847e594bdc6",
            "2950b8611f3c4520b790a1241685949e",
            "2195f1e38c684a708bd79ccc9b17848b",
            "ec6d2cba6a7440c2bc8f7629349cf06c",
            "cb26b93e075a4632896b0d77ddaf9eaf",
            "a87ce9ee95f14bed957f22f2e4a9b820",
            "113ba92701944274933ef3cd4015cf69",
            "fd406d4acb5946bca163610d3cdd6c98",
            "fbe3f2683f0b4c5682eca59afe2a29e9",
            "3ce9ebcd222940b492914e83db04a65d",
            "7abdcdaf9330426ea723bd0b4ff92590",
            "963edd4e85414bfc83bab37dffda1867",
            "4171fab180fe45a8a5ced67bbd6e6b72",
            "46287c2bedf841068e3c7c3f4f1caa67",
            "ede378da005e4883b1f9059142bb4e60",
            "0d7c10fe494341878e06306f0f20761d",
            "d127d4a8a0874ea4add8351c43c4d7bb",
            "29f3e81683424c4585b393fb87c5bf4e",
            "0cef59da97f347a6a71f246f58db263a",
            "cc1ca27c92e34821a2adc57a0107a62b"
          ]
        },
        "id": "Mp9xJcHP2TTP",
        "outputId": "af5e591a-6efa-46af-cb2e-cfb264eb623d"
      },
      "outputs": [
        {
          "output_type": "display_data",
          "data": {
            "text/plain": [
              "Downloading readme:   0%|          | 0.00/4.34k [00:00<?, ?B/s]"
            ],
            "application/vnd.jupyter.widget-view+json": {
              "version_major": 2,
              "version_minor": 0,
              "model_id": "55dcca518e674af4b1163223c3a6f367"
            }
          },
          "metadata": {}
        },
        {
          "output_type": "display_data",
          "data": {
            "text/plain": [
              "Downloading data:   0%|          | 0.00/46.1M [00:00<?, ?B/s]"
            ],
            "application/vnd.jupyter.widget-view+json": {
              "version_major": 2,
              "version_minor": 0,
              "model_id": "20f2b0c91f1442758188cca81c863c26"
            }
          },
          "metadata": {}
        },
        {
          "output_type": "display_data",
          "data": {
            "text/plain": [
              "Downloading data:   0%|          | 0.00/13.5M [00:00<?, ?B/s]"
            ],
            "application/vnd.jupyter.widget-view+json": {
              "version_major": 2,
              "version_minor": 0,
              "model_id": "fd78ac00c9b04fbd90cedec7f20f5370"
            }
          },
          "metadata": {}
        },
        {
          "output_type": "display_data",
          "data": {
            "text/plain": [
              "Downloading data:   0%|          | 0.00/7.10M [00:00<?, ?B/s]"
            ],
            "application/vnd.jupyter.widget-view+json": {
              "version_major": 2,
              "version_minor": 0,
              "model_id": "29c7b81d1b8e42a4b1c114a5647f49a5"
            }
          },
          "metadata": {}
        },
        {
          "output_type": "display_data",
          "data": {
            "text/plain": [
              "Generating train split:   0%|          | 0/4869 [00:00<?, ? examples/s]"
            ],
            "application/vnd.jupyter.widget-view+json": {
              "version_major": 2,
              "version_minor": 0,
              "model_id": "b5e2ea146678404c9db1d08d67908523"
            }
          },
          "metadata": {}
        },
        {
          "output_type": "display_data",
          "data": {
            "text/plain": [
              "Generating validation split:   0%|          | 0/1390 [00:00<?, ? examples/s]"
            ],
            "application/vnd.jupyter.widget-view+json": {
              "version_major": 2,
              "version_minor": 0,
              "model_id": "7be5b685e69e4dc98054460622c4ec61"
            }
          },
          "metadata": {}
        },
        {
          "output_type": "display_data",
          "data": {
            "text/plain": [
              "Generating test split:   0%|          | 0/732 [00:00<?, ? examples/s]"
            ],
            "application/vnd.jupyter.widget-view+json": {
              "version_major": 2,
              "version_minor": 0,
              "model_id": "3ce9ebcd222940b492914e83db04a65d"
            }
          },
          "metadata": {}
        }
      ],
      "source": [
        "from datasets import load_dataset\n",
        "\n",
        "# load a custom dataset from local/remote files or folders using the ImageFolder feature\n",
        "\n",
        "# option 1: local/remote files (supporting the following formats: tar, gzip, zip, xz, rar, zstd)\n",
        "dataset = load_dataset(\"TeeA/Pokemon-Captioning-Classification\")\n",
        "\n",
        "# note that you can also provide several splits:\n",
        "# dataset = load_dataset(\"imagefolder\", data_files={\"train\": [\"path/to/file1\", \"path/to/file2\"], \"test\": [\"path/to/file3\", \"path/to/file4\"]})\n",
        "\n",
        "# note that you can push your dataset to the hub very easily (and reload afterwards using load_dataset)!\n",
        "# dataset.push_to_hub(\"nielsr/eurosat\")\n",
        "# dataset.push_to_hub(\"nielsr/eurosat\", private=True)\n",
        "\n",
        "# option 2: local folder\n",
        "# dataset = load_dataset(\"imagefolder\", data_dir=\"path_to_folder\")\n",
        "\n",
        "# option 3: just load any existing dataset from the hub, like CIFAR-10, FashionMNIST ...\n",
        "# dataset = load_dataset(\"cifar10\")"
      ]
    },
    {
      "cell_type": "markdown",
      "metadata": {
        "id": "eq8mwsZU2j6t"
      },
      "source": [
        "Let us also load the Accuracy metric, which we'll use to evaluate our model both during and after training."
      ]
    },
    {
      "cell_type": "code",
      "execution_count": 7,
      "metadata": {
        "colab": {
          "base_uri": "https://localhost:8080/",
          "height": 173,
          "referenced_widgets": [
            "7cddf6f30c24443d9d710dc8ba52f0a2",
            "6979787ee5da41109af9d4aee5fe81bd",
            "de6a3dfbc516495ea279a579b7eff371",
            "34b8c7bc0c9c4d0b949f6b981a3b23e6",
            "5f6776ac7a67471a89d891b5eea27472",
            "b7621ce13ad64fdd8d0786d630a7dfcb",
            "cc38445bd03841a2b8dbd2cf3b301b29",
            "fcca3d6270384cb883db7f73a5d9f62c",
            "62cb2170f5d34793a8d9d4984786a839",
            "5090bb0cbb2d4d4b89994cbfbfe2aa4d",
            "7ddf62ec3f424976b7e8cf9bbf9beff9"
          ]
        },
        "id": "8UGse36eLeeb",
        "outputId": "46dd26fd-70ce-44b5-fd6f-769b5dd269df"
      },
      "outputs": [
        {
          "output_type": "stream",
          "name": "stderr",
          "text": [
            "<ipython-input-7-350fcae91df9>:3: FutureWarning: load_metric is deprecated and will be removed in the next major version of datasets. Use 'evaluate.load' instead, from the new library 🤗 Evaluate: https://huggingface.co/docs/evaluate\n",
            "  metric = load_metric(\"accuracy\")\n",
            "/usr/local/lib/python3.10/dist-packages/datasets/load.py:752: FutureWarning: The repository for accuracy contains custom code which must be executed to correctly load the metric. You can inspect the repository content at https://raw.githubusercontent.com/huggingface/datasets/2.16.1/metrics/accuracy/accuracy.py\n",
            "You can avoid this message in future by passing the argument `trust_remote_code=True`.\n",
            "Passing `trust_remote_code=True` will be mandatory to load this metric from the next major release of `datasets`.\n",
            "  warnings.warn(\n"
          ]
        },
        {
          "output_type": "display_data",
          "data": {
            "text/plain": [
              "Downloading builder script:   0%|          | 0.00/1.65k [00:00<?, ?B/s]"
            ],
            "application/vnd.jupyter.widget-view+json": {
              "version_major": 2,
              "version_minor": 0,
              "model_id": "7cddf6f30c24443d9d710dc8ba52f0a2"
            }
          },
          "metadata": {}
        }
      ],
      "source": [
        "from datasets import load_metric\n",
        "\n",
        "metric = load_metric(\"accuracy\")"
      ]
    },
    {
      "cell_type": "markdown",
      "metadata": {
        "id": "r8mTmFdlHOmN"
      },
      "source": [
        "The `dataset` object itself is a [`DatasetDict`](https://huggingface.co/docs/datasets/package_reference/main_classes.html#datasetdict), which contains one key per split (in this case, only \"train\" for a training split)."
      ]
    },
    {
      "cell_type": "code",
      "execution_count": 8,
      "metadata": {
        "colab": {
          "base_uri": "https://localhost:8080/"
        },
        "id": "7tjOWPQYLq4u",
        "outputId": "7c69a08d-0238-449c-d63e-a8398e7e0d0a"
      },
      "outputs": [
        {
          "output_type": "execute_result",
          "data": {
            "text/plain": [
              "DatasetDict({\n",
              "    train: Dataset({\n",
              "        features: ['image_file_path', 'image', 'labels', 'caption'],\n",
              "        num_rows: 4869\n",
              "    })\n",
              "    validation: Dataset({\n",
              "        features: ['image_file_path', 'image', 'labels', 'caption'],\n",
              "        num_rows: 1390\n",
              "    })\n",
              "    test: Dataset({\n",
              "        features: ['image_file_path', 'image', 'labels', 'caption'],\n",
              "        num_rows: 732\n",
              "    })\n",
              "})"
            ]
          },
          "metadata": {},
          "execution_count": 8
        }
      ],
      "source": [
        "dataset"
      ]
    },
    {
      "cell_type": "code",
      "source": [
        "for split in dataset.keys():\n",
        "    dataset[split] = dataset[split].select_columns(['image', 'labels']).rename_column('labels', 'label')\n",
        "\n",
        "dataset"
      ],
      "metadata": {
        "colab": {
          "base_uri": "https://localhost:8080/"
        },
        "id": "mNrFL8xTD6g2",
        "outputId": "560bc691-a281-4be1-eb78-bb91b88d0c77"
      },
      "execution_count": 9,
      "outputs": [
        {
          "output_type": "execute_result",
          "data": {
            "text/plain": [
              "DatasetDict({\n",
              "    train: Dataset({\n",
              "        features: ['image', 'label'],\n",
              "        num_rows: 4869\n",
              "    })\n",
              "    validation: Dataset({\n",
              "        features: ['image', 'label'],\n",
              "        num_rows: 1390\n",
              "    })\n",
              "    test: Dataset({\n",
              "        features: ['image', 'label'],\n",
              "        num_rows: 732\n",
              "    })\n",
              "})"
            ]
          },
          "metadata": {},
          "execution_count": 9
        }
      ]
    },
    {
      "cell_type": "markdown",
      "metadata": {
        "id": "nfPPNjthI3u2"
      },
      "source": [
        "To access an actual element, you need to select a split first, then give an index:"
      ]
    },
    {
      "cell_type": "code",
      "execution_count": 10,
      "metadata": {
        "colab": {
          "base_uri": "https://localhost:8080/"
        },
        "id": "BujWoSgyMQlw",
        "outputId": "fa30e187-ed8d-4d0b-8975-49b190d4de64"
      },
      "outputs": [
        {
          "output_type": "execute_result",
          "data": {
            "text/plain": [
              "{'image': <PIL.JpegImagePlugin.JpegImageFile image mode=RGB size=224x224>,\n",
              " 'label': 57}"
            ]
          },
          "metadata": {},
          "execution_count": 10
        }
      ],
      "source": [
        "example = dataset[\"train\"][10]\n",
        "example"
      ]
    },
    {
      "cell_type": "markdown",
      "metadata": {
        "id": "9g0APa21I_Rx"
      },
      "source": [
        "Each example consists of an image and a corresponding label. We can also verify this by checking the features of the dataset:"
      ]
    },
    {
      "cell_type": "code",
      "execution_count": 11,
      "metadata": {
        "colab": {
          "base_uri": "https://localhost:8080/"
        },
        "id": "BnnL3yHBI7Z3",
        "outputId": "9dc4ccb9-191a-4bf0-d6b2-1d5af30467e7"
      },
      "outputs": [
        {
          "output_type": "execute_result",
          "data": {
            "text/plain": [
              "{'image': Image(decode=True, id=None),\n",
              " 'label': ClassLabel(names=['Porygon', 'Goldeen', 'Hitmonlee', 'Hitmonchan', 'Gloom', 'Aerodactyl', 'Mankey', 'Seadra', 'Gengar', 'Venonat', 'Articuno', 'Seaking', 'Dugtrio', 'Machop', 'Jynx', 'Oddish', 'Dodrio', 'Dragonair', 'Weedle', 'Golduck', 'Flareon', 'Krabby', 'Parasect', 'Ninetales', 'Nidoqueen', 'Kabutops', 'Drowzee', 'Caterpie', 'Jigglypuff', 'Machamp', 'Clefairy', 'Kangaskhan', 'Dragonite', 'Weepinbell', 'Fearow', 'Bellsprout', 'Grimer', 'Nidorina', 'Staryu', 'Horsea', 'Electabuzz', 'Dratini', 'Machoke', 'Magnemite', 'Squirtle', 'Gyarados', 'Pidgeot', 'Bulbasaur', 'Nidoking', 'Golem', 'Dewgong', 'Moltres', 'Zapdos', 'Poliwrath', 'Vulpix', 'Beedrill', 'Charmander', 'Abra', 'Zubat', 'Golbat', 'Wigglytuff', 'Charizard', 'Slowpoke', 'Poliwag', 'Tentacruel', 'Rhyhorn', 'Onix', 'Butterfree', 'Exeggcute', 'Sandslash', 'Pinsir', 'Rattata', 'Growlithe', 'Haunter', 'Pidgey', 'Ditto', 'Farfetchd', 'Pikachu', 'Raticate', 'Wartortle', 'Vaporeon', 'Cloyster', 'Hypno', 'Arbok', 'Metapod', 'Tangela', 'Kingler', 'Exeggutor', 'Kadabra', 'Seel', 'Voltorb', 'Chansey', 'Venomoth', 'Ponyta', 'Vileplume', 'Koffing', 'Blastoise', 'Tentacool', 'Lickitung', 'Paras', 'Clefable', 'Cubone', 'Marowak', 'Nidorino', 'Jolteon', 'Muk', 'Magikarp', 'Slowbro', 'Tauros', 'Kabuto', 'Spearow', 'Sandshrew', 'Eevee', 'Kakuna', 'Omastar', 'Ekans', 'Geodude', 'Magmar', 'Snorlax', 'Meowth', 'Pidgeotto', 'Venusaur', 'Persian', 'Rhydon', 'Starmie', 'Charmeleon', 'Lapras', 'Alakazam', 'Graveler', 'Psyduck', 'Rapidash', 'Doduo', 'Magneton', 'Arcanine', 'Electrode', 'Omanyte', 'Poliwhirl', 'Mew', 'Alolan Sandslash', 'Mewtwo', 'Weezing', 'Gastly', 'Victreebel', 'Ivysaur', 'MrMime', 'Shellder', 'Scyther', 'Diglett', 'Primeape', 'Raichu'], id=None)}"
            ]
          },
          "metadata": {},
          "execution_count": 11
        }
      ],
      "source": [
        "dataset[\"train\"].features"
      ]
    },
    {
      "cell_type": "markdown",
      "metadata": {
        "id": "SZ7rLOsAkJ8F"
      },
      "source": [
        "The cool thing is that we can directly view the image (as the 'image' field is an [Image feature](https://huggingface.co/docs/datasets/package_reference/main_classes.html#datasets.Image)), as follows:"
      ]
    },
    {
      "cell_type": "code",
      "execution_count": 12,
      "metadata": {
        "colab": {
          "base_uri": "https://localhost:8080/",
          "height": 241
        },
        "id": "32iolZyTkNlI",
        "outputId": "84c6f0ec-8457-4918-c78b-2230257a22ad"
      },
      "outputs": [
        {
          "output_type": "execute_result",
          "data": {
            "text/plain": [
              "<PIL.JpegImagePlugin.JpegImageFile image mode=RGB size=224x224>"
            ],
            "image/png": "[encoded data removed]"
          },
          "metadata": {},
          "execution_count": 12
        }
      ],
      "source": [
        "example['image']"
      ]
    },
    {
      "cell_type": "markdown",
      "metadata": {
        "id": "y1TqooRukQf3"
      },
      "source": [
        "Let's make it a little bigger as the images in the EuroSAT dataset are of low resolution (64x64 pixels):"
      ]
    },
    {
      "cell_type": "code",
      "execution_count": 13,
      "metadata": {
        "colab": {
          "base_uri": "https://localhost:8080/",
          "height": 217
        },
        "id": "QdO2VFHRkYfT",
        "outputId": "923c108c-16fb-42da-9e63-8fc0081643d2"
      },
      "outputs": [
        {
          "output_type": "execute_result",
          "data": {
            "text/plain": [
              "<PIL.Image.Image image mode=RGB size=200x200>"
            ],
            "image/png": "[encoded data removed]"
          },
          "metadata": {},
          "execution_count": 13
        }
      ],
      "source": [
        "example['image'].resize((200, 200))"
      ]
    },
    {
      "cell_type": "markdown",
      "metadata": {
        "id": "WMH8dh9w7I86"
      },
      "source": [
        "Let's print the corresponding label:"
      ]
    },
    {
      "cell_type": "code",
      "execution_count": 14,
      "metadata": {
        "colab": {
          "base_uri": "https://localhost:8080/"
        },
        "id": "XFYtvw4I7KS2",
        "outputId": "36e61eec-a2b4-40c3-de84-b24a4495a69f"
      },
      "outputs": [
        {
          "output_type": "execute_result",
          "data": {
            "text/plain": [
              "57"
            ]
          },
          "metadata": {},
          "execution_count": 14
        }
      ],
      "source": [
        "example['label']"
      ]
    },
    {
      "cell_type": "markdown",
      "metadata": {
        "id": "f8GpxwfnJCkF"
      },
      "source": [
        "As you can see, the `label` field is not an actual string label. By default the `ClassLabel` fields are encoded into integers for convenience:"
      ]
    },
    {
      "cell_type": "code",
      "execution_count": 15,
      "metadata": {
        "colab": {
          "base_uri": "https://localhost:8080/"
        },
        "id": "n33LZz_ZMU3o",
        "outputId": "5cf8a714-0ef8-49a4-bf9d-0223d71f28de"
      },
      "outputs": [
        {
          "output_type": "execute_result",
          "data": {
            "text/plain": [
              "ClassLabel(names=['Porygon', 'Goldeen', 'Hitmonlee', 'Hitmonchan', 'Gloom', 'Aerodactyl', 'Mankey', 'Seadra', 'Gengar', 'Venonat', 'Articuno', 'Seaking', 'Dugtrio', 'Machop', 'Jynx', 'Oddish', 'Dodrio', 'Dragonair', 'Weedle', 'Golduck', 'Flareon', 'Krabby', 'Parasect', 'Ninetales', 'Nidoqueen', 'Kabutops', 'Drowzee', 'Caterpie', 'Jigglypuff', 'Machamp', 'Clefairy', 'Kangaskhan', 'Dragonite', 'Weepinbell', 'Fearow', 'Bellsprout', 'Grimer', 'Nidorina', 'Staryu', 'Horsea', 'Electabuzz', 'Dratini', 'Machoke', 'Magnemite', 'Squirtle', 'Gyarados', 'Pidgeot', 'Bulbasaur', 'Nidoking', 'Golem', 'Dewgong', 'Moltres', 'Zapdos', 'Poliwrath', 'Vulpix', 'Beedrill', 'Charmander', 'Abra', 'Zubat', 'Golbat', 'Wigglytuff', 'Charizard', 'Slowpoke', 'Poliwag', 'Tentacruel', 'Rhyhorn', 'Onix', 'Butterfree', 'Exeggcute', 'Sandslash', 'Pinsir', 'Rattata', 'Growlithe', 'Haunter', 'Pidgey', 'Ditto', 'Farfetchd', 'Pikachu', 'Raticate', 'Wartortle', 'Vaporeon', 'Cloyster', 'Hypno', 'Arbok', 'Metapod', 'Tangela', 'Kingler', 'Exeggutor', 'Kadabra', 'Seel', 'Voltorb', 'Chansey', 'Venomoth', 'Ponyta', 'Vileplume', 'Koffing', 'Blastoise', 'Tentacool', 'Lickitung', 'Paras', 'Clefable', 'Cubone', 'Marowak', 'Nidorino', 'Jolteon', 'Muk', 'Magikarp', 'Slowbro', 'Tauros', 'Kabuto', 'Spearow', 'Sandshrew', 'Eevee', 'Kakuna', 'Omastar', 'Ekans', 'Geodude', 'Magmar', 'Snorlax', 'Meowth', 'Pidgeotto', 'Venusaur', 'Persian', 'Rhydon', 'Starmie', 'Charmeleon', 'Lapras', 'Alakazam', 'Graveler', 'Psyduck', 'Rapidash', 'Doduo', 'Magneton', 'Arcanine', 'Electrode', 'Omanyte', 'Poliwhirl', 'Mew', 'Alolan Sandslash', 'Mewtwo', 'Weezing', 'Gastly', 'Victreebel', 'Ivysaur', 'MrMime', 'Shellder', 'Scyther', 'Diglett', 'Primeape', 'Raichu'], id=None)"
            ]
          },
          "metadata": {},
          "execution_count": 15
        }
      ],
      "source": [
        "dataset[\"train\"].features[\"label\"]"
      ]
    },
    {
      "cell_type": "markdown",
      "metadata": {
        "id": "5LdpDtScLgeD"
      },
      "source": [
        "Let's create an `id2label` dictionary to decode them back to strings and see what they are. The inverse `label2id` will be useful too, when we load the model later."
      ]
    },
    {
      "cell_type": "code",
      "execution_count": 16,
      "metadata": {
        "colab": {
          "base_uri": "https://localhost:8080/",
          "height": 36
        },
        "id": "UuyXDtQqNUZW",
        "outputId": "95c08d75-c7f2-476c-de6f-ef5f210d53b8"
      },
      "outputs": [
        {
          "output_type": "execute_result",
          "data": {
            "text/plain": [
              "'Hitmonlee'"
            ],
            "application/vnd.google.colaboratory.intrinsic+json": {
              "type": "string"
            }
          },
          "metadata": {},
          "execution_count": 16
        }
      ],
      "source": [
        "labels = dataset[\"train\"].features[\"label\"].names\n",
        "label2id, id2label = dict(), dict()\n",
        "for i, label in enumerate(labels):\n",
        "    label2id[label] = i\n",
        "    id2label[i] = label\n",
        "\n",
        "id2label[2]"
      ]
    },
    {
      "cell_type": "markdown",
      "metadata": {
        "id": "4zxoikSOjs0K"
      },
      "source": [
        "### Preprocessing the data"
      ]
    },
    {
      "cell_type": "markdown",
      "metadata": {
        "id": "WTupOU88p1lK"
      },
      "source": [
        "Before we can feed these images to our model, we need to preprocess them.\n",
        "\n",
        "Preprocessing images typically comes down to (1) resizing them to a particular size (2) normalizing the color channels (R,G,B) using a mean and standard deviation. These are referred to as **image transformations**.\n",
        "\n",
        "In addition, one typically performs what is called **data augmentation** during training (like random cropping and flipping) to make the model more robust and achieve higher accuracy. Data augmentation is also a great technique to increase the size of the training data.\n",
        "\n",
        "We will use `torchvision.transforms` for the image transformations/data augmentation in this tutorial, but note that one can use any other package (like [albumentations](https://albumentations.ai/), [imgaug](https://github.com/aleju/imgaug), [Kornia](https://kornia.readthedocs.io/en/latest/) etc.).\n",
        "\n",
        "To make sure we (1) resize to the appropriate size (2) use the appropriate image mean and standard deviation for the model architecture we are going to use, we instantiate what is called an image processor with the `AutoImageProcessor.from_pretrained` method.\n",
        "\n",
        "This image processor is a minimal preprocessor that can be used to prepare images for inference."
      ]
    },
    {
      "cell_type": "code",
      "execution_count": 18,
      "metadata": {
        "colab": {
          "base_uri": "https://localhost:8080/"
        },
        "id": "G1bX4lGAO_d9",
        "outputId": "5a7e042a-6e44-48fd-afc3-4871c05e3dc6"
      },
      "outputs": [
        {
          "output_type": "execute_result",
          "data": {
            "text/plain": [
              "ConvNextImageProcessor {\n",
              "  \"crop_pct\": 0.875,\n",
              "  \"do_normalize\": true,\n",
              "  \"do_rescale\": true,\n",
              "  \"do_resize\": true,\n",
              "  \"image_mean\": [\n",
              "    0.485,\n",
              "    0.456,\n",
              "    0.406\n",
              "  ],\n",
              "  \"image_processor_type\": \"ConvNextImageProcessor\",\n",
              "  \"image_std\": [\n",
              "    0.229,\n",
              "    0.224,\n",
              "    0.225\n",
              "  ],\n",
              "  \"resample\": 3,\n",
              "  \"rescale_factor\": 0.00392156862745098,\n",
              "  \"size\": {\n",
              "    \"shortest_edge\": 224\n",
              "  }\n",
              "}"
            ]
          },
          "metadata": {},
          "execution_count": 18
        }
      ],
      "source": [
        "from transformers import AutoImageProcessor\n",
        "\n",
        "image_processor  = AutoImageProcessor.from_pretrained(model_checkpoint)\n",
        "image_processor.push_to_hub(\"TeeA/resnet-50-finetuned-pokemon\")\n",
        "image_processor"
      ]
    },
    {
      "cell_type": "markdown",
      "metadata": {
        "id": "qUtxmoMvqml1"
      },
      "source": [
        "The Datasets library is made for processing data very easily. We can write custom functions, which can then be applied on an entire dataset (either using [`.map()`](https://huggingface.co/docs/datasets/package_reference/main_classes.html?highlight=map#datasets.Dataset.map) or [`.set_transform()`](https://huggingface.co/docs/datasets/package_reference/main_classes.html?highlight=set_transform#datasets.Dataset.set_transform)).\n",
        "\n",
        "Here we define 2 separate functions, one for training (which includes data augmentation) and one for validation (which only includes resizing, center cropping and normalizing)."
      ]
    },
    {
      "cell_type": "code",
      "execution_count": 11,
      "metadata": {
        "id": "4O_p3WrpRyej"
      },
      "outputs": [],
      "source": [
        "from torchvision.transforms import (\n",
        "    CenterCrop,\n",
        "    Compose,\n",
        "    Normalize,\n",
        "    RandomHorizontalFlip,\n",
        "    RandomResizedCrop,\n",
        "    Resize,\n",
        "    ToTensor,\n",
        ")\n",
        "\n",
        "normalize = Normalize(mean=image_processor.image_mean, std=image_processor.image_std)\n",
        "if \"height\" in image_processor.size:\n",
        "    size = (image_processor.size[\"height\"], image_processor.size[\"width\"])\n",
        "    crop_size = size\n",
        "    max_size = None\n",
        "elif \"shortest_edge\" in image_processor.size:\n",
        "    size = image_processor.size[\"shortest_edge\"]\n",
        "    crop_size = (size, size)\n",
        "    max_size = image_processor.size.get(\"longest_edge\")\n",
        "\n",
        "train_transforms = Compose(\n",
        "        [\n",
        "            RandomResizedCrop(crop_size),\n",
        "            RandomHorizontalFlip(),\n",
        "            ToTensor(),\n",
        "            normalize,\n",
        "        ]\n",
        "    )\n",
        "\n",
        "val_transforms = Compose(\n",
        "        [\n",
        "            Resize(size),\n",
        "            CenterCrop(crop_size),\n",
        "            ToTensor(),\n",
        "            normalize,\n",
        "        ]\n",
        "    )\n",
        "\n",
        "def preprocess_train(example_batch):\n",
        "    \"\"\"Apply train_transforms across a batch.\"\"\"\n",
        "    example_batch[\"pixel_values\"] = [\n",
        "        train_transforms(image.convert(\"RGB\")) for image in example_batch[\"image\"]\n",
        "    ]\n",
        "    return example_batch\n",
        "\n",
        "def preprocess_val(example_batch):\n",
        "    \"\"\"Apply val_transforms across a batch.\"\"\"\n",
        "    example_batch[\"pixel_values\"] = [val_transforms(image.convert(\"RGB\")) for image in example_batch[\"image\"]]\n",
        "    return example_batch"
      ]
    },
    {
      "cell_type": "markdown",
      "metadata": {
        "id": "RF4O0KFBGXir"
      },
      "source": [
        "Next, we can preprocess our dataset by applying these functions. We will use the `set_transform` functionality, which allows to apply the functions above on-the-fly (meaning that they will only be applied when the images are loaded in RAM)."
      ]
    },
    {
      "cell_type": "code",
      "execution_count": 19,
      "metadata": {
        "id": "P13tqfFTZ_F4"
      },
      "outputs": [],
      "source": [
        "train_ds = dataset['train']\n",
        "val_ds = dataset['validation']"
      ]
    },
    {
      "cell_type": "code",
      "execution_count": 20,
      "metadata": {
        "id": "TUs56-mprQi1"
      },
      "outputs": [],
      "source": [
        "train_ds.set_transform(preprocess_train)\n",
        "val_ds.set_transform(preprocess_val)"
      ]
    },
    {
      "cell_type": "markdown",
      "metadata": {
        "id": "MMw_wQS58a7o"
      },
      "source": [
        "Let's access an element to see that we've added a \"pixel_values\" feature:"
      ]
    },
    {
      "cell_type": "code",
      "execution_count": 21,
      "metadata": {
        "colab": {
          "base_uri": "https://localhost:8080/"
        },
        "id": "Ng9TAlDV8d7r",
        "outputId": "00f57696-ac74-43ef-ab1c-2ab9380e48cc"
      },
      "outputs": [
        {
          "output_type": "execute_result",
          "data": {
            "text/plain": [
              "{'image': <PIL.JpegImagePlugin.JpegImageFile image mode=RGB size=224x224>,\n",
              " 'label': 57,\n",
              " 'pixel_values': tensor([[[2.2489, 2.2489, 2.2489,  ..., 2.2489, 2.2147, 2.1975],\n",
              "          [2.2489, 2.2489, 2.2489,  ..., 2.2489, 2.2147, 2.1975],\n",
              "          [2.2489, 2.2489, 2.2489,  ..., 2.2489, 2.2147, 2.1975],\n",
              "          ...,\n",
              "          [2.1633, 2.1804, 2.1975,  ..., 2.1804, 2.1975, 2.1804],\n",
              "          [2.1462, 2.1633, 2.1975,  ..., 2.1804, 2.1804, 2.1633],\n",
              "          [2.1462, 2.1633, 2.1975,  ..., 2.1804, 2.1804, 2.1633]],\n",
              " \n",
              "         [[0.8179, 0.7654, 0.6954,  ..., 0.9405, 0.9055, 0.8880],\n",
              "          [0.8354, 0.7829, 0.6954,  ..., 0.9405, 0.9055, 0.8880],\n",
              "          [0.8529, 0.8004, 0.7129,  ..., 0.9405, 0.9055, 0.8880],\n",
              "          ...,\n",
              "          [1.2031, 1.2206, 1.2206,  ..., 1.6232, 1.5532, 1.4657],\n",
              "          [1.1681, 1.1856, 1.1856,  ..., 1.5882, 1.5182, 1.4307],\n",
              "          [1.1506, 1.1681, 1.1681,  ..., 1.5532, 1.4832, 1.3957]],\n",
              " \n",
              "         [[1.9603, 1.8905, 1.8383,  ..., 1.5245, 1.4548, 1.4374],\n",
              "          [1.9603, 1.8905, 1.8383,  ..., 1.5245, 1.4548, 1.4374],\n",
              "          [1.9428, 1.8731, 1.8208,  ..., 1.5245, 1.4548, 1.4374],\n",
              "          ...,\n",
              "          [2.5703, 2.5877, 2.6051,  ..., 1.8383, 1.7511, 1.6814],\n",
              "          [2.5703, 2.5877, 2.6051,  ..., 1.7685, 1.6814, 1.6117],\n",
              "          [2.5703, 2.5877, 2.6051,  ..., 1.7337, 1.6465, 1.5768]]])}"
            ]
          },
          "metadata": {},
          "execution_count": 21
        }
      ],
      "source": [
        "train_ds[0]"
      ]
    },
    {
      "cell_type": "markdown",
      "metadata": {
        "id": "HOXmyPQ76Qv9"
      },
      "source": [
        "### Training the model"
      ]
    },
    {
      "cell_type": "markdown",
      "metadata": {
        "id": "0a-2YT7O6ayC"
      },
      "source": [
        "Now that our data is ready, we can download the pretrained model and fine-tune it. For classification we use the `AutoModelForImageClassification` class. Calling the `from_pretrained` method on it will download and cache the weights for us. As the label ids and the number of labels are dataset dependent, we pass `label2id`, and `id2label` alongside the `model_checkpoint` here. This will make sure a custom classification head will be created (with a custom number of output neurons).\n",
        "\n",
        "NOTE: in case you're planning to fine-tune an already fine-tuned checkpoint, like [facebook/convnext-tiny-224](https://huggingface.co/facebook/convnext-tiny-224) (which has already been fine-tuned on ImageNet-1k), then you need to provide the additional argument `ignore_mismatched_sizes=True` to the `from_pretrained` method. This will make sure the output head (with 1000 output neurons) is thrown away and replaced by a new, randomly initialized classification head that includes a custom number of output neurons. You don't need to specify this argument in case the pre-trained model doesn't include a head."
      ]
    },
    {
      "cell_type": "code",
      "execution_count": 13,
      "metadata": {
        "colab": {
          "base_uri": "https://localhost:8080/",
          "height": 459
        },
        "id": "X9DDujL0q1ac",
        "outputId": "1ec5f805-e663-413a-8f2e-85feff4f9a5d"
      },
      "outputs": [
        {
          "output_type": "error",
          "ename": "RuntimeError",
          "evalue": "ignored",
          "traceback": [
            "\u001b[0;31m---------------------------------------------------------------------------\u001b[0m",
            "\u001b[0;31mImportError\u001b[0m                               Traceback (most recent call last)",
            "\u001b[0;32m/usr/local/lib/python3.10/dist-packages/transformers/utils/import_utils.py\u001b[0m in \u001b[0;36m_get_module\u001b[0;34m(self, module_name)\u001b[0m\n\u001b[1;32m   1352\u001b[0m         \u001b[0mself\u001b[0m\u001b[0;34m.\u001b[0m\u001b[0m_objects\u001b[0m \u001b[0;34m=\u001b[0m \u001b[0;34m{\u001b[0m\u001b[0;34m}\u001b[0m \u001b[0;32mif\u001b[0m \u001b[0mextra_objects\u001b[0m \u001b[0;32mis\u001b[0m \u001b[0;32mNone\u001b[0m \u001b[0;32melse\u001b[0m \u001b[0mextra_objects\u001b[0m\u001b[0;34m\u001b[0m\u001b[0;34m\u001b[0m\u001b[0m\n\u001b[0;32m-> 1353\u001b[0;31m         \u001b[0mself\u001b[0m\u001b[0;34m.\u001b[0m\u001b[0m_name\u001b[0m \u001b[0;34m=\u001b[0m \u001b[0mname\u001b[0m\u001b[0;34m\u001b[0m\u001b[0;34m\u001b[0m\u001b[0m\n\u001b[0m\u001b[1;32m   1354\u001b[0m         \u001b[0mself\u001b[0m\u001b[0;34m.\u001b[0m\u001b[0m_import_structure\u001b[0m \u001b[0;34m=\u001b[0m \u001b[0mimport_structure\u001b[0m\u001b[0;34m\u001b[0m\u001b[0;34m\u001b[0m\u001b[0m\n",
            "\u001b[0;32m/usr/lib/python3.10/importlib/__init__.py\u001b[0m in \u001b[0;36mimport_module\u001b[0;34m(name, package)\u001b[0m\n\u001b[1;32m    125\u001b[0m             \u001b[0mlevel\u001b[0m \u001b[0;34m+=\u001b[0m \u001b[0;36m1\u001b[0m\u001b[0;34m\u001b[0m\u001b[0;34m\u001b[0m\u001b[0m\n\u001b[0;32m--> 126\u001b[0;31m     \u001b[0;32mreturn\u001b[0m \u001b[0m_bootstrap\u001b[0m\u001b[0;34m.\u001b[0m\u001b[0m_gcd_import\u001b[0m\u001b[0;34m(\u001b[0m\u001b[0mname\u001b[0m\u001b[0;34m[\u001b[0m\u001b[0mlevel\u001b[0m\u001b[0;34m:\u001b[0m\u001b[0;34m]\u001b[0m\u001b[0;34m,\u001b[0m \u001b[0mpackage\u001b[0m\u001b[0;34m,\u001b[0m \u001b[0mlevel\u001b[0m\u001b[0;34m)\u001b[0m\u001b[0;34m\u001b[0m\u001b[0;34m\u001b[0m\u001b[0m\n\u001b[0m\u001b[1;32m    127\u001b[0m \u001b[0;34m\u001b[0m\u001b[0m\n",
            "\u001b[0;32m/usr/lib/python3.10/importlib/_bootstrap.py\u001b[0m in \u001b[0;36m_gcd_import\u001b[0;34m(name, package, level)\u001b[0m\n",
            "\u001b[0;32m/usr/lib/python3.10/importlib/_bootstrap.py\u001b[0m in \u001b[0;36m_find_and_load\u001b[0;34m(name, import_)\u001b[0m\n",
            "\u001b[0;32m/usr/lib/python3.10/importlib/_bootstrap.py\u001b[0m in \u001b[0;36m_find_and_load_unlocked\u001b[0;34m(name, import_)\u001b[0m\n",
            "\u001b[0;32m/usr/lib/python3.10/importlib/_bootstrap.py\u001b[0m in \u001b[0;36m_load_unlocked\u001b[0;34m(spec)\u001b[0m\n",
            "\u001b[0;32m/usr/lib/python3.10/importlib/_bootstrap_external.py\u001b[0m in \u001b[0;36mexec_module\u001b[0;34m(self, module)\u001b[0m\n",
            "\u001b[0;32m/usr/lib/python3.10/importlib/_bootstrap.py\u001b[0m in \u001b[0;36m_call_with_frames_removed\u001b[0;34m(f, *args, **kwds)\u001b[0m\n",
            "\u001b[0;32m/usr/local/lib/python3.10/dist-packages/transformers/trainer.py\u001b[0m in \u001b[0;36m<module>\u001b[0;34m\u001b[0m\n\u001b[1;32m     63\u001b[0m \u001b[0;32mfrom\u001b[0m \u001b[0;34m.\u001b[0m\u001b[0mmodelcard\u001b[0m \u001b[0;32mimport\u001b[0m \u001b[0mTrainingSummary\u001b[0m\u001b[0;34m\u001b[0m\u001b[0;34m\u001b[0m\u001b[0m\n\u001b[0;32m---> 64\u001b[0;31m \u001b[0;32mfrom\u001b[0m \u001b[0;34m.\u001b[0m\u001b[0mmodeling_utils\u001b[0m \u001b[0;32mimport\u001b[0m \u001b[0mPreTrainedModel\u001b[0m\u001b[0;34m,\u001b[0m \u001b[0mload_sharded_checkpoint\u001b[0m\u001b[0;34m,\u001b[0m \u001b[0munwrap_model\u001b[0m\u001b[0;34m\u001b[0m\u001b[0;34m\u001b[0m\u001b[0m\n\u001b[0m\u001b[1;32m     65\u001b[0m \u001b[0;32mfrom\u001b[0m \u001b[0;34m.\u001b[0m\u001b[0mmodels\u001b[0m\u001b[0;34m.\u001b[0m\u001b[0mauto\u001b[0m\u001b[0;34m.\u001b[0m\u001b[0mmodeling_auto\u001b[0m \u001b[0;32mimport\u001b[0m \u001b[0mMODEL_FOR_CAUSAL_LM_MAPPING_NAMES\u001b[0m\u001b[0;34m,\u001b[0m \u001b[0mMODEL_MAPPING_NAMES\u001b[0m\u001b[0;34m\u001b[0m\u001b[0;34m\u001b[0m\u001b[0m\n",
            "\u001b[0;32m/usr/local/lib/python3.10/dist-packages/transformers/modeling_utils.py\u001b[0m in \u001b[0;36m<module>\u001b[0;34m\u001b[0m\n\u001b[1;32m     53\u001b[0m \u001b[0;32mfrom\u001b[0m \u001b[0;34m.\u001b[0m\u001b[0msafetensors_conversion\u001b[0m \u001b[0;32mimport\u001b[0m \u001b[0mauto_conversion\u001b[0m\u001b[0;34m\u001b[0m\u001b[0;34m\u001b[0m\u001b[0m\n\u001b[0;32m---> 54\u001b[0;31m from .utils import (\n\u001b[0m\u001b[1;32m     55\u001b[0m     \u001b[0mADAPTER_SAFE_WEIGHTS_NAME\u001b[0m\u001b[0;34m,\u001b[0m\u001b[0;34m\u001b[0m\u001b[0;34m\u001b[0m\u001b[0m\n",
            "\u001b[0;31mImportError\u001b[0m: cannot import name 'is_torch_sdpa_available' from 'transformers.utils' (/usr/local/lib/python3.10/dist-packages/transformers/utils/__init__.py)",
            "\nThe above exception was the direct cause of the following exception:\n",
            "\u001b[0;31mRuntimeError\u001b[0m                              Traceback (most recent call last)",
            "\u001b[0;32m<ipython-input-13-9160d0dec651>\u001b[0m in \u001b[0;36m<cell line: 1>\u001b[0;34m()\u001b[0m\n\u001b[0;32m----> 1\u001b[0;31m \u001b[0;32mfrom\u001b[0m \u001b[0mtransformers\u001b[0m \u001b[0;32mimport\u001b[0m \u001b[0mAutoModelForImageClassification\u001b[0m\u001b[0;34m,\u001b[0m \u001b[0mTrainingArguments\u001b[0m\u001b[0;34m,\u001b[0m \u001b[0mTrainer\u001b[0m\u001b[0;34m\u001b[0m\u001b[0;34m\u001b[0m\u001b[0m\n\u001b[0m\u001b[1;32m      2\u001b[0m \u001b[0;34m\u001b[0m\u001b[0m\n\u001b[1;32m      3\u001b[0m model = AutoModelForImageClassification.from_pretrained(\n\u001b[1;32m      4\u001b[0m     \u001b[0mmodel_checkpoint\u001b[0m\u001b[0;34m,\u001b[0m\u001b[0;34m\u001b[0m\u001b[0;34m\u001b[0m\u001b[0m\n\u001b[1;32m      5\u001b[0m     \u001b[0mlabel2id\u001b[0m\u001b[0;34m=\u001b[0m\u001b[0mlabel2id\u001b[0m\u001b[0;34m,\u001b[0m\u001b[0;34m\u001b[0m\u001b[0;34m\u001b[0m\u001b[0m\n",
            "\u001b[0;32m/usr/lib/python3.10/importlib/_bootstrap.py\u001b[0m in \u001b[0;36m_handle_fromlist\u001b[0;34m(module, fromlist, import_, recursive)\u001b[0m\n",
            "\u001b[0;32m/usr/local/lib/python3.10/dist-packages/transformers/utils/import_utils.py\u001b[0m in \u001b[0;36m__getattr__\u001b[0;34m(self, name)\u001b[0m\n\u001b[1;32m   1341\u001b[0m         \u001b[0msuper\u001b[0m\u001b[0;34m(\u001b[0m\u001b[0;34m)\u001b[0m\u001b[0;34m.\u001b[0m\u001b[0m__init__\u001b[0m\u001b[0;34m(\u001b[0m\u001b[0mname\u001b[0m\u001b[0;34m)\u001b[0m\u001b[0;34m\u001b[0m\u001b[0;34m\u001b[0m\u001b[0m\n\u001b[1;32m   1342\u001b[0m         \u001b[0mself\u001b[0m\u001b[0;34m.\u001b[0m\u001b[0m_modules\u001b[0m \u001b[0;34m=\u001b[0m \u001b[0mset\u001b[0m\u001b[0;34m(\u001b[0m\u001b[0mimport_structure\u001b[0m\u001b[0;34m.\u001b[0m\u001b[0mkeys\u001b[0m\u001b[0;34m(\u001b[0m\u001b[0;34m)\u001b[0m\u001b[0;34m)\u001b[0m\u001b[0;34m\u001b[0m\u001b[0;34m\u001b[0m\u001b[0m\n\u001b[0;32m-> 1343\u001b[0;31m         \u001b[0mself\u001b[0m\u001b[0;34m.\u001b[0m\u001b[0m_class_to_module\u001b[0m \u001b[0;34m=\u001b[0m \u001b[0;34m{\u001b[0m\u001b[0;34m}\u001b[0m\u001b[0;34m\u001b[0m\u001b[0;34m\u001b[0m\u001b[0m\n\u001b[0m\u001b[1;32m   1344\u001b[0m         \u001b[0;32mfor\u001b[0m \u001b[0mkey\u001b[0m\u001b[0;34m,\u001b[0m \u001b[0mvalues\u001b[0m \u001b[0;32min\u001b[0m \u001b[0mimport_structure\u001b[0m\u001b[0;34m.\u001b[0m\u001b[0mitems\u001b[0m\u001b[0;34m(\u001b[0m\u001b[0;34m)\u001b[0m\u001b[0;34m:\u001b[0m\u001b[0;34m\u001b[0m\u001b[0;34m\u001b[0m\u001b[0m\n\u001b[1;32m   1345\u001b[0m             \u001b[0;32mfor\u001b[0m \u001b[0mvalue\u001b[0m \u001b[0;32min\u001b[0m \u001b[0mvalues\u001b[0m\u001b[0;34m:\u001b[0m\u001b[0;34m\u001b[0m\u001b[0;34m\u001b[0m\u001b[0m\n",
            "\u001b[0;32m/usr/local/lib/python3.10/dist-packages/transformers/utils/import_utils.py\u001b[0m in \u001b[0;36m_get_module\u001b[0;34m(self, module_name)\u001b[0m\n\u001b[1;32m   1353\u001b[0m         \u001b[0mself\u001b[0m\u001b[0;34m.\u001b[0m\u001b[0m_name\u001b[0m \u001b[0;34m=\u001b[0m \u001b[0mname\u001b[0m\u001b[0;34m\u001b[0m\u001b[0;34m\u001b[0m\u001b[0m\n\u001b[1;32m   1354\u001b[0m         \u001b[0mself\u001b[0m\u001b[0;34m.\u001b[0m\u001b[0m_import_structure\u001b[0m \u001b[0;34m=\u001b[0m \u001b[0mimport_structure\u001b[0m\u001b[0;34m\u001b[0m\u001b[0;34m\u001b[0m\u001b[0m\n\u001b[0;32m-> 1355\u001b[0;31m \u001b[0;34m\u001b[0m\u001b[0m\n\u001b[0m\u001b[1;32m   1356\u001b[0m     \u001b[0;31m# Needed for autocompletion in an IDE\u001b[0m\u001b[0;34m\u001b[0m\u001b[0;34m\u001b[0m\u001b[0m\n\u001b[1;32m   1357\u001b[0m     \u001b[0;32mdef\u001b[0m \u001b[0m__dir__\u001b[0m\u001b[0;34m(\u001b[0m\u001b[0mself\u001b[0m\u001b[0;34m)\u001b[0m\u001b[0;34m:\u001b[0m\u001b[0;34m\u001b[0m\u001b[0;34m\u001b[0m\u001b[0m\n",
            "\u001b[0;31mRuntimeError\u001b[0m: Failed to import transformers.trainer because of the following error (look up to see its traceback):\ncannot import name 'is_torch_sdpa_available' from 'transformers.utils' (/usr/local/lib/python3.10/dist-packages/transformers/utils/__init__.py)"
          ]
        }
      ],
      "source": [
        "from transformers import AutoModelForImageClassification, TrainingArguments, Trainer\n",
        "\n",
        "model = AutoModelForImageClassification.from_pretrained(\n",
        "    model_checkpoint,\n",
        "    label2id=label2id,\n",
        "    id2label=id2label,\n",
        "    ignore_mismatched_sizes = True, # provide this in case you're planning to fine-tune an already fine-tuned checkpoint\n",
        ")\n"
      ]
    },
    {
      "cell_type": "markdown",
      "metadata": {
        "id": "U8EmET_f6458"
      },
      "source": [
        "The warning is telling us we are throwing away some weights (the weights and bias of the `classifier` layer) and randomly initializing some other (the weights and bias of a new `classifier` layer). This is expected in this case, because we are adding a new head for which we don't have pretrained weights, so the library warns us we should fine-tune this model before using it for inference, which is exactly what we are going to do."
      ]
    },
    {
      "cell_type": "markdown",
      "metadata": {
        "id": "FEfyuq1U8hDT"
      },
      "source": [
        "To instantiate a `Trainer`, we will need to define the training configuration and the evaluation metric. The most important is the [`TrainingArguments`](https://huggingface.co/transformers/main_classes/trainer.html#transformers.TrainingArguments), which is a class that contains all the attributes to customize the training. It requires one folder name, which will be used to save the checkpoints of the model.\n",
        "\n",
        "Most of the training arguments are pretty self-explanatory, but one that is quite important here is `remove_unused_columns=False`. This one will drop any features not used by the model's call function. By default it's `True` because usually it's ideal to drop unused feature columns, making it easier to unpack inputs into the model's call function. But, in our case, we need the unused features ('image' in particular) in order to create 'pixel_values'."
      ]
    },
    {
      "cell_type": "code",
      "execution_count": 23,
      "metadata": {
        "id": "xc_MTm0Ks3DF"
      },
      "outputs": [],
      "source": [
        "model_name = model_checkpoint.split(\"/\")[-1]\n",
        "\n",
        "args = TrainingArguments(\n",
        "    f\"{model_name}-finetuned-pokemon\",\n",
        "    remove_unused_columns=False,\n",
        "    evaluation_strategy = \"epoch\",\n",
        "    save_strategy = \"epoch\",\n",
        "    learning_rate=5e-5,\n",
        "    per_device_train_batch_size=batch_size,\n",
        "    gradient_accumulation_steps=4,\n",
        "    per_device_eval_batch_size=batch_size,\n",
        "    num_train_epochs=100,\n",
        "    warmup_ratio=0.1,\n",
        "    logging_steps=10,\n",
        "    load_best_model_at_end=True,\n",
        "    metric_for_best_model=\"accuracy\",\n",
        "    push_to_hub=True,\n",
        ")"
      ]
    },
    {
      "cell_type": "markdown",
      "metadata": {
        "id": "xi6JYNYs8lJO"
      },
      "source": [
        "Here we set the evaluation to be done at the end of each epoch, tweak the learning rate, use the `batch_size` defined at the top of the notebook and customize the number of epochs for training, as well as the weight decay. Since the best model might not be the one at the end of training, we ask the `Trainer` to load the best model it saved (according to `metric_name`) at the end of training.\n",
        "\n",
        "The last argument `push_to_hub` allows the Trainer to push the model to the [Hub](https://huggingface.co/models) regularly during training. Remove it if you didn't follow the installation steps at the top of the notebook. If you want to save your model locally with a name that is different from the name of the repository, or if you want to push your model under an organization and not your name space, use the `hub_model_id` argument to set the repo name (it needs to be the full name, including your namespace: for instance `\"nielsr/vit-finetuned-cifar10\"` or `\"huggingface/nielsr/vit-finetuned-cifar10\"`)."
      ]
    },
    {
      "cell_type": "markdown",
      "metadata": {
        "id": "2VE_HSha9RZk"
      },
      "source": [
        "Next, we need to define a function for how to compute the metrics from the predictions, which will just use the `metric` we loaded earlier. The only preprocessing we have to do is to take the argmax of our predicted logits:"
      ]
    },
    {
      "cell_type": "code",
      "execution_count": 24,
      "metadata": {
        "id": "EVWfiBuv2uCS"
      },
      "outputs": [],
      "source": [
        "import numpy as np\n",
        "\n",
        "# the compute_metrics function takes a Named Tuple as input:\n",
        "# predictions, which are the logits of the model as Numpy arrays,\n",
        "# and label_ids, which are the ground-truth labels as Numpy arrays.\n",
        "def compute_metrics(eval_pred):\n",
        "    \"\"\"Computes accuracy on a batch of predictions\"\"\"\n",
        "    predictions = np.argmax(eval_pred.predictions, axis=1)\n",
        "    return metric.compute(predictions=predictions, references=eval_pred.label_ids)"
      ]
    },
    {
      "cell_type": "markdown",
      "metadata": {
        "id": "Y0PqjzHQVutb"
      },
      "source": [
        "We also define a `collate_fn`, which will be used to batch examples together.\n",
        "Each batch consists of 2 keys, namely `pixel_values` and `labels`."
      ]
    },
    {
      "cell_type": "code",
      "execution_count": 25,
      "metadata": {
        "id": "u0WcwsX7rW9w"
      },
      "outputs": [],
      "source": [
        "import torch\n",
        "\n",
        "def collate_fn(examples):\n",
        "    pixel_values = torch.stack([example[\"pixel_values\"] for example in examples])\n",
        "    labels = torch.tensor([example[\"label\"] for example in examples])\n",
        "    return {\"pixel_values\": pixel_values, \"labels\": labels}"
      ]
    },
    {
      "cell_type": "markdown",
      "metadata": {
        "id": "yTF0dWw49fB9"
      },
      "source": [
        "Then we just need to pass all of this along with our datasets to the `Trainer`:"
      ]
    },
    {
      "cell_type": "code",
      "execution_count": 26,
      "metadata": {
        "id": "McVoaCPr3Cj-"
      },
      "outputs": [],
      "source": [
        "trainer = Trainer(\n",
        "    model,\n",
        "    args,\n",
        "    train_dataset=train_ds,\n",
        "    eval_dataset=val_ds,\n",
        "    tokenizer=image_processor,\n",
        "    compute_metrics=compute_metrics,\n",
        "    data_collator=collate_fn,\n",
        ")"
      ]
    },
    {
      "cell_type": "markdown",
      "metadata": {
        "id": "ltokP9mO9pjI"
      },
      "source": [
        "You might wonder why we pass along the `image_processor` as a tokenizer when we already preprocessed our data. This is only to make sure the image processor configuration file (stored as JSON) will also be uploaded to the repo on the hub."
      ]
    },
    {
      "cell_type": "markdown",
      "metadata": {
        "id": "9j6VNsGP97LG"
      },
      "source": [
        "Now we can finetune our model by calling the `train` method:"
      ]
    },
    {
      "cell_type": "code",
      "execution_count": 27,
      "metadata": {
        "colab": {
          "base_uri": "https://localhost:8080/",
          "height": 1000,
          "referenced_widgets": [
            "8abec6938a1440f7a5bdaa45322d35d7",
            "8360b8521f3b4d61983e32087166214e",
            "3357d2d881564bd3ad704d7bbbfee1a7",
            "7862715ed2a24dbfbb6b82f1957dad67",
            "c6b5e6b8700d451aa27bf300d7fd4251",
            "5ac9a1edcb554cf78bbce258946db39a",
            "f6de3131960e488a8b18b45b7b68ef45",
            "4a040a0ca28c4e3182f2c351f976a5bd",
            "a89fae93612a40e0a7c735e611105eff",
            "a60d504fa8bb4a83b0ba3c81c4678878",
            "a8d8ab5a88234c53adfd0ba946e5e61f"
          ]
        },
        "id": "Pps61vF_4QaH",
        "outputId": "2eb7f872-47f8-4c9d-c7f4-7e3957a9d344"
      },
      "outputs": [
        {
          "output_type": "display_data",
          "data": {
            "text/plain": [
              "<IPython.core.display.HTML object>"
            ],
            "text/html": [
              "\n",
              "    <div>\n",
              "      \n",
              "      <progress value='3800' max='3800' style='width:300px; height:20px; vertical-align: middle;'></progress>\n",
              "      [3800/3800 1:47:48, Epoch 99/100]\n",
              "    </div>\n",
              "    <table border=\"1\" class=\"dataframe\">\n",
              "  <thead>\n",
              " <tr style=\"text-align: left;\">\n",
              "      <th>Epoch</th>\n",
              "      <th>Training Loss</th>\n",
              "      <th>Validation Loss</th>\n",
              "      <th>Accuracy</th>\n",
              "    </tr>\n",
              "  </thead>\n",
              "  <tbody>\n",
              "    <tr>\n",
              "      <td>0</td>\n",
              "      <td>1.189400</td>\n",
              "      <td>9.211542</td>\n",
              "      <td>0.013669</td>\n",
              "    </tr>\n",
              "    <tr>\n",
              "      <td>1</td>\n",
              "      <td>1.138900</td>\n",
              "      <td>9.252068</td>\n",
              "      <td>0.012950</td>\n",
              "    </tr>\n",
              "    <tr>\n",
              "      <td>2</td>\n",
              "      <td>1.043200</td>\n",
              "      <td>9.476502</td>\n",
              "      <td>0.014388</td>\n",
              "    </tr>\n",
              "    <tr>\n",
              "      <td>4</td>\n",
              "      <td>1.080500</td>\n",
              "      <td>10.252642</td>\n",
              "      <td>0.013669</td>\n",
              "    </tr>\n",
              "    <tr>\n",
              "      <td>5</td>\n",
              "      <td>1.035300</td>\n",
              "      <td>10.323753</td>\n",
              "      <td>0.012950</td>\n",
              "    </tr>\n",
              "    <tr>\n",
              "      <td>6</td>\n",
              "      <td>0.974700</td>\n",
              "      <td>10.577895</td>\n",
              "      <td>0.016547</td>\n",
              "    </tr>\n",
              "    <tr>\n",
              "      <td>8</td>\n",
              "      <td>0.888600</td>\n",
              "      <td>11.007187</td>\n",
              "      <td>0.019424</td>\n",
              "    </tr>\n",
              "    <tr>\n",
              "      <td>9</td>\n",
              "      <td>0.840800</td>\n",
              "      <td>11.317118</td>\n",
              "      <td>0.022302</td>\n",
              "    </tr>\n",
              "    <tr>\n",
              "      <td>10</td>\n",
              "      <td>0.802000</td>\n",
              "      <td>11.554548</td>\n",
              "      <td>0.024460</td>\n",
              "    </tr>\n",
              "    <tr>\n",
              "      <td>12</td>\n",
              "      <td>0.755300</td>\n",
              "      <td>11.983402</td>\n",
              "      <td>0.035252</td>\n",
              "    </tr>\n",
              "    <tr>\n",
              "      <td>13</td>\n",
              "      <td>0.741300</td>\n",
              "      <td>11.981475</td>\n",
              "      <td>0.044604</td>\n",
              "    </tr>\n",
              "    <tr>\n",
              "      <td>14</td>\n",
              "      <td>0.627200</td>\n",
              "      <td>12.087124</td>\n",
              "      <td>0.049640</td>\n",
              "    </tr>\n",
              "    <tr>\n",
              "      <td>16</td>\n",
              "      <td>0.632200</td>\n",
              "      <td>12.682552</td>\n",
              "      <td>0.055396</td>\n",
              "    </tr>\n",
              "    <tr>\n",
              "      <td>17</td>\n",
              "      <td>0.613100</td>\n",
              "      <td>12.481950</td>\n",
              "      <td>0.061151</td>\n",
              "    </tr>\n",
              "    <tr>\n",
              "      <td>18</td>\n",
              "      <td>0.591600</td>\n",
              "      <td>12.624632</td>\n",
              "      <td>0.064748</td>\n",
              "    </tr>\n",
              "    <tr>\n",
              "      <td>20</td>\n",
              "      <td>0.520100</td>\n",
              "      <td>12.886053</td>\n",
              "      <td>0.066187</td>\n",
              "    </tr>\n",
              "    <tr>\n",
              "      <td>21</td>\n",
              "      <td>0.473100</td>\n",
              "      <td>12.743083</td>\n",
              "      <td>0.065468</td>\n",
              "    </tr>\n",
              "    <tr>\n",
              "      <td>22</td>\n",
              "      <td>0.513200</td>\n",
              "      <td>12.778566</td>\n",
              "      <td>0.070504</td>\n",
              "    </tr>\n",
              "    <tr>\n",
              "      <td>24</td>\n",
              "      <td>0.486300</td>\n",
              "      <td>13.041874</td>\n",
              "      <td>0.072662</td>\n",
              "    </tr>\n",
              "    <tr>\n",
              "      <td>25</td>\n",
              "      <td>0.485200</td>\n",
              "      <td>13.057332</td>\n",
              "      <td>0.073381</td>\n",
              "    </tr>\n",
              "    <tr>\n",
              "      <td>26</td>\n",
              "      <td>0.498300</td>\n",
              "      <td>13.131018</td>\n",
              "      <td>0.071942</td>\n",
              "    </tr>\n",
              "    <tr>\n",
              "      <td>28</td>\n",
              "      <td>0.455600</td>\n",
              "      <td>13.412815</td>\n",
              "      <td>0.074820</td>\n",
              "    </tr>\n",
              "    <tr>\n",
              "      <td>29</td>\n",
              "      <td>0.472900</td>\n",
              "      <td>13.353046</td>\n",
              "      <td>0.074101</td>\n",
              "    </tr>\n",
              "    <tr>\n",
              "      <td>30</td>\n",
              "      <td>0.465900</td>\n",
              "      <td>13.230796</td>\n",
              "      <td>0.076259</td>\n",
              "    </tr>\n",
              "    <tr>\n",
              "      <td>32</td>\n",
              "      <td>0.456000</td>\n",
              "      <td>13.350556</td>\n",
              "      <td>0.074101</td>\n",
              "    </tr>\n",
              "    <tr>\n",
              "      <td>33</td>\n",
              "      <td>0.442300</td>\n",
              "      <td>13.360702</td>\n",
              "      <td>0.078417</td>\n",
              "    </tr>\n",
              "    <tr>\n",
              "      <td>34</td>\n",
              "      <td>0.403700</td>\n",
              "      <td>13.252113</td>\n",
              "      <td>0.073381</td>\n",
              "    </tr>\n",
              "    <tr>\n",
              "      <td>36</td>\n",
              "      <td>0.399200</td>\n",
              "      <td>13.476213</td>\n",
              "      <td>0.077698</td>\n",
              "    </tr>\n",
              "    <tr>\n",
              "      <td>37</td>\n",
              "      <td>0.401400</td>\n",
              "      <td>13.538167</td>\n",
              "      <td>0.079137</td>\n",
              "    </tr>\n",
              "    <tr>\n",
              "      <td>38</td>\n",
              "      <td>0.354900</td>\n",
              "      <td>13.555008</td>\n",
              "      <td>0.079137</td>\n",
              "    </tr>\n",
              "    <tr>\n",
              "      <td>40</td>\n",
              "      <td>0.371100</td>\n",
              "      <td>13.511997</td>\n",
              "      <td>0.077698</td>\n",
              "    </tr>\n",
              "    <tr>\n",
              "      <td>41</td>\n",
              "      <td>0.383400</td>\n",
              "      <td>13.923030</td>\n",
              "      <td>0.079856</td>\n",
              "    </tr>\n",
              "    <tr>\n",
              "      <td>42</td>\n",
              "      <td>0.347500</td>\n",
              "      <td>13.860241</td>\n",
              "      <td>0.079137</td>\n",
              "    </tr>\n",
              "    <tr>\n",
              "      <td>44</td>\n",
              "      <td>0.368200</td>\n",
              "      <td>13.777404</td>\n",
              "      <td>0.078417</td>\n",
              "    </tr>\n",
              "    <tr>\n",
              "      <td>45</td>\n",
              "      <td>0.361300</td>\n",
              "      <td>14.023485</td>\n",
              "      <td>0.079137</td>\n",
              "    </tr>\n",
              "    <tr>\n",
              "      <td>46</td>\n",
              "      <td>0.368000</td>\n",
              "      <td>13.928884</td>\n",
              "      <td>0.081295</td>\n",
              "    </tr>\n",
              "    <tr>\n",
              "      <td>48</td>\n",
              "      <td>0.365000</td>\n",
              "      <td>14.111425</td>\n",
              "      <td>0.081295</td>\n",
              "    </tr>\n",
              "    <tr>\n",
              "      <td>49</td>\n",
              "      <td>0.325900</td>\n",
              "      <td>13.970950</td>\n",
              "      <td>0.080576</td>\n",
              "    </tr>\n",
              "    <tr>\n",
              "      <td>50</td>\n",
              "      <td>0.299800</td>\n",
              "      <td>14.028828</td>\n",
              "      <td>0.080576</td>\n",
              "    </tr>\n",
              "    <tr>\n",
              "      <td>52</td>\n",
              "      <td>0.310400</td>\n",
              "      <td>14.025542</td>\n",
              "      <td>0.082014</td>\n",
              "    </tr>\n",
              "    <tr>\n",
              "      <td>53</td>\n",
              "      <td>0.323200</td>\n",
              "      <td>13.935452</td>\n",
              "      <td>0.082734</td>\n",
              "    </tr>\n",
              "    <tr>\n",
              "      <td>54</td>\n",
              "      <td>0.352100</td>\n",
              "      <td>13.862702</td>\n",
              "      <td>0.080576</td>\n",
              "    </tr>\n",
              "    <tr>\n",
              "      <td>56</td>\n",
              "      <td>0.312900</td>\n",
              "      <td>13.964024</td>\n",
              "      <td>0.082014</td>\n",
              "    </tr>\n",
              "    <tr>\n",
              "      <td>57</td>\n",
              "      <td>0.315900</td>\n",
              "      <td>14.199702</td>\n",
              "      <td>0.079856</td>\n",
              "    </tr>\n",
              "    <tr>\n",
              "      <td>58</td>\n",
              "      <td>0.311800</td>\n",
              "      <td>14.163899</td>\n",
              "      <td>0.082014</td>\n",
              "    </tr>\n",
              "    <tr>\n",
              "      <td>60</td>\n",
              "      <td>0.301000</td>\n",
              "      <td>13.995382</td>\n",
              "      <td>0.082014</td>\n",
              "    </tr>\n",
              "    <tr>\n",
              "      <td>61</td>\n",
              "      <td>0.314200</td>\n",
              "      <td>14.143210</td>\n",
              "      <td>0.079856</td>\n",
              "    </tr>\n",
              "    <tr>\n",
              "      <td>62</td>\n",
              "      <td>0.319200</td>\n",
              "      <td>14.026898</td>\n",
              "      <td>0.078417</td>\n",
              "    </tr>\n",
              "    <tr>\n",
              "      <td>64</td>\n",
              "      <td>0.304500</td>\n",
              "      <td>14.174621</td>\n",
              "      <td>0.084892</td>\n",
              "    </tr>\n",
              "    <tr>\n",
              "      <td>65</td>\n",
              "      <td>0.299100</td>\n",
              "      <td>14.319220</td>\n",
              "      <td>0.080576</td>\n",
              "    </tr>\n",
              "    <tr>\n",
              "      <td>66</td>\n",
              "      <td>0.322800</td>\n",
              "      <td>14.178192</td>\n",
              "      <td>0.078417</td>\n",
              "    </tr>\n",
              "    <tr>\n",
              "      <td>68</td>\n",
              "      <td>0.247300</td>\n",
              "      <td>14.230320</td>\n",
              "      <td>0.082734</td>\n",
              "    </tr>\n",
              "    <tr>\n",
              "      <td>69</td>\n",
              "      <td>0.328700</td>\n",
              "      <td>14.274972</td>\n",
              "      <td>0.082734</td>\n",
              "    </tr>\n",
              "    <tr>\n",
              "      <td>70</td>\n",
              "      <td>0.267300</td>\n",
              "      <td>14.230312</td>\n",
              "      <td>0.082014</td>\n",
              "    </tr>\n",
              "    <tr>\n",
              "      <td>72</td>\n",
              "      <td>0.309900</td>\n",
              "      <td>14.518421</td>\n",
              "      <td>0.082734</td>\n",
              "    </tr>\n",
              "    <tr>\n",
              "      <td>73</td>\n",
              "      <td>0.310200</td>\n",
              "      <td>14.276801</td>\n",
              "      <td>0.083453</td>\n",
              "    </tr>\n",
              "    <tr>\n",
              "      <td>74</td>\n",
              "      <td>0.291100</td>\n",
              "      <td>14.100984</td>\n",
              "      <td>0.083453</td>\n",
              "    </tr>\n",
              "    <tr>\n",
              "      <td>76</td>\n",
              "      <td>0.296700</td>\n",
              "      <td>14.358075</td>\n",
              "      <td>0.082014</td>\n",
              "    </tr>\n",
              "    <tr>\n",
              "      <td>77</td>\n",
              "      <td>0.244600</td>\n",
              "      <td>14.456215</td>\n",
              "      <td>0.083453</td>\n",
              "    </tr>\n",
              "    <tr>\n",
              "      <td>78</td>\n",
              "      <td>0.303500</td>\n",
              "      <td>14.268140</td>\n",
              "      <td>0.083453</td>\n",
              "    </tr>\n",
              "    <tr>\n",
              "      <td>80</td>\n",
              "      <td>0.248600</td>\n",
              "      <td>14.424173</td>\n",
              "      <td>0.082014</td>\n",
              "    </tr>\n",
              "    <tr>\n",
              "      <td>81</td>\n",
              "      <td>0.262200</td>\n",
              "      <td>14.381049</td>\n",
              "      <td>0.083453</td>\n",
              "    </tr>\n",
              "    <tr>\n",
              "      <td>82</td>\n",
              "      <td>0.289200</td>\n",
              "      <td>14.463671</td>\n",
              "      <td>0.082734</td>\n",
              "    </tr>\n",
              "    <tr>\n",
              "      <td>84</td>\n",
              "      <td>0.252700</td>\n",
              "      <td>14.309777</td>\n",
              "      <td>0.082014</td>\n",
              "    </tr>\n",
              "    <tr>\n",
              "      <td>85</td>\n",
              "      <td>0.263600</td>\n",
              "      <td>14.374098</td>\n",
              "      <td>0.083453</td>\n",
              "    </tr>\n",
              "    <tr>\n",
              "      <td>86</td>\n",
              "      <td>0.247000</td>\n",
              "      <td>14.536934</td>\n",
              "      <td>0.084173</td>\n",
              "    </tr>\n",
              "    <tr>\n",
              "      <td>88</td>\n",
              "      <td>0.269200</td>\n",
              "      <td>14.616063</td>\n",
              "      <td>0.083453</td>\n",
              "    </tr>\n",
              "    <tr>\n",
              "      <td>89</td>\n",
              "      <td>0.280000</td>\n",
              "      <td>14.524379</td>\n",
              "      <td>0.083453</td>\n",
              "    </tr>\n",
              "    <tr>\n",
              "      <td>90</td>\n",
              "      <td>0.253500</td>\n",
              "      <td>14.406178</td>\n",
              "      <td>0.084173</td>\n",
              "    </tr>\n",
              "    <tr>\n",
              "      <td>92</td>\n",
              "      <td>0.257000</td>\n",
              "      <td>14.344242</td>\n",
              "      <td>0.084173</td>\n",
              "    </tr>\n",
              "    <tr>\n",
              "      <td>93</td>\n",
              "      <td>0.262700</td>\n",
              "      <td>14.469304</td>\n",
              "      <td>0.083453</td>\n",
              "    </tr>\n",
              "    <tr>\n",
              "      <td>94</td>\n",
              "      <td>0.280400</td>\n",
              "      <td>14.322315</td>\n",
              "      <td>0.083453</td>\n",
              "    </tr>\n",
              "    <tr>\n",
              "      <td>96</td>\n",
              "      <td>0.232700</td>\n",
              "      <td>14.428402</td>\n",
              "      <td>0.083453</td>\n",
              "    </tr>\n",
              "    <tr>\n",
              "      <td>97</td>\n",
              "      <td>0.264300</td>\n",
              "      <td>14.556747</td>\n",
              "      <td>0.083453</td>\n",
              "    </tr>\n",
              "    <tr>\n",
              "      <td>98</td>\n",
              "      <td>0.284000</td>\n",
              "      <td>14.673846</td>\n",
              "      <td>0.081295</td>\n",
              "    </tr>\n",
              "    <tr>\n",
              "      <td>99</td>\n",
              "      <td>0.250300</td>\n",
              "      <td>14.536263</td>\n",
              "      <td>0.084173</td>\n",
              "    </tr>\n",
              "  </tbody>\n",
              "</table><p>"
            ]
          },
          "metadata": {}
        },
        {
          "output_type": "display_data",
          "data": {
            "text/plain": [
              "events.out.tfevents.1704087738.495197ec28a5.415.0:   0%|          | 0.00/103k [00:00<?, ?B/s]"
            ],
            "application/vnd.jupyter.widget-view+json": {
              "version_major": 2,
              "version_minor": 0,
              "model_id": "8abec6938a1440f7a5bdaa45322d35d7"
            }
          },
          "metadata": {}
        },
        {
          "output_type": "stream",
          "name": "stdout",
          "text": [
            "***** train metrics *****\n",
            "  epoch                    =        99.35\n",
            "  total_flos               = 9690061932GF\n",
            "  train_loss               =       0.4478\n",
            "  train_runtime            =   1:47:53.24\n",
            "  train_samples_per_second =       75.217\n",
            "  train_steps_per_second   =        0.587\n"
          ]
        }
      ],
      "source": [
        "train_results = trainer.train()\n",
        "# rest is optional but nice to have\n",
        "trainer.save_model()\n",
        "trainer.log_metrics(\"train\", train_results.metrics)\n",
        "trainer.save_metrics(\"train\", train_results.metrics)\n",
        "trainer.save_state()"
      ]
    },
    {
      "cell_type": "markdown",
      "metadata": {
        "id": "Vyb-58x_-A0e"
      },
      "source": [
        "We can check with the `evaluate` method that our `Trainer` did reload the best model properly (if it was not the last one):"
      ]
    },
    {
      "cell_type": "code",
      "execution_count": 28,
      "metadata": {
        "colab": {
          "base_uri": "https://localhost:8080/",
          "height": 158
        },
        "id": "niniUAnb5IrR",
        "outputId": "5457b078-f542-4f9f-8686-f2663d496d88"
      },
      "outputs": [
        {
          "output_type": "display_data",
          "data": {
            "text/plain": [
              "<IPython.core.display.HTML object>"
            ],
            "text/html": [
              "\n",
              "    <div>\n",
              "      \n",
              "      <progress value='44' max='44' style='width:300px; height:20px; vertical-align: middle;'></progress>\n",
              "      [44/44 00:05]\n",
              "    </div>\n",
              "    "
            ]
          },
          "metadata": {}
        },
        {
          "output_type": "stream",
          "name": "stdout",
          "text": [
            "***** eval metrics *****\n",
            "  epoch                   =      99.35\n",
            "  eval_accuracy           =     0.0849\n",
            "  eval_loss               =    14.1746\n",
            "  eval_runtime            = 0:00:05.97\n",
            "  eval_samples_per_second =    232.569\n",
            "  eval_steps_per_second   =      7.362\n"
          ]
        }
      ],
      "source": [
        "metrics = trainer.evaluate()\n",
        "# some nice to haves:\n",
        "trainer.log_metrics(\"eval\", metrics)\n",
        "trainer.save_metrics(\"eval\", metrics)"
      ]
    },
    {
      "cell_type": "markdown",
      "metadata": {
        "id": "ymwN-SIR-NDF"
      },
      "source": [
        "You can now upload the result of the training to the Hub, just execute this instruction (note that the Trainer will automatically create a model card as well as Tensorboard logs - see the \"Training metrics\" tab - amazing isn't it?):"
      ]
    },
    {
      "cell_type": "code",
      "execution_count": 29,
      "metadata": {
        "colab": {
          "base_uri": "https://localhost:8080/",
          "height": 68,
          "referenced_widgets": [
            "5190b92837234c3daea4c150fc2381b8",
            "2fba0d540f1f460a9a917ec0cc66419f",
            "abe562722fac406db0f35459ad465fb5",
            "532f1e908df64a418e549dab6c255da4",
            "02c8e4ee2b2f4067852d75760145753b",
            "c96611b5492d4641986d6a5c9c72c454",
            "34b00b22e94d4514a24de865d458b02f",
            "fb963b10d36847d0bcbf1f9d5d3f66de",
            "a94e8164161949c59da85edbc9aa7d3d",
            "51cb951838a84d92a05d2e248dc21863",
            "eb2a8f97978c46feb20eff7244f4dbab"
          ]
        },
        "id": "4aNMErFz-GzX",
        "outputId": "1676eb8c-8264-4e98-cab2-cff9f978a24b"
      },
      "outputs": [
        {
          "output_type": "display_data",
          "data": {
            "text/plain": [
              "events.out.tfevents.1704094225.495197ec28a5.415.1:   0%|          | 0.00/411 [00:00<?, ?B/s]"
            ],
            "application/vnd.jupyter.widget-view+json": {
              "version_major": 2,
              "version_minor": 0,
              "model_id": "5190b92837234c3daea4c150fc2381b8"
            }
          },
          "metadata": {}
        },
        {
          "output_type": "execute_result",
          "data": {
            "text/plain": [
              "'https://huggingface.co/TeeA/resnet-50-finetuned-pokemon-finetuned-pokemon/tree/main/'"
            ],
            "application/vnd.google.colaboratory.intrinsic+json": {
              "type": "string"
            }
          },
          "metadata": {},
          "execution_count": 29
        }
      ],
      "source": [
        "trainer.push_to_hub()"
      ]
    },
    {
      "cell_type": "markdown",
      "metadata": {
        "id": "cZQnNUsI-Q4S"
      },
      "source": [
        "You can now share this model with all your friends, family, favorite pets: they can all load it with the identifier `\"your-username/the-name-you-picked\"` so for instance:\n",
        "\n",
        "```python\n",
        "from transformers import AutoModelForImageClassification, AutoImageProcessor\n",
        "\n",
        "image_processor = AutoImageProcessor.from_pretrained(\"nielsr/my-awesome-model\")\n",
        "model = AutoModelForImageClassification.from_pretrained(\"nielsr/my-awesome-model\")\n",
        "\n",
        "```"
      ]
    },
    {
      "cell_type": "markdown",
      "metadata": {
        "id": "049gH1wt-Akp"
      },
      "source": [
        "## Inference\n",
        "\n",
        "Let's say you have a new image, on which you'd like to make a prediction. Let's load a satellite image of a forest (that's not part of the EuroSAT dataset), and see how the model does."
      ]
    },
    {
      "cell_type": "code",
      "execution_count": 20,
      "metadata": {
        "colab": {
          "base_uri": "https://localhost:8080/",
          "height": 81,
          "referenced_widgets": [
            "daf8a4bb2d63418880b11e6a6844c134",
            "91866f09f5254ce9a74245e54ea84133",
            "1080d114fb144119ad2f00d627da7afa",
            "345c65ef27614f44be78da35675b0eaa",
            "072a4c614cc944dabeaf5e1b43c6022e",
            "19868a7337724bb1a8b486f4fc7de81e",
            "6c9b69a49cce48d3bd10d039d6efb53b",
            "3a48b2aea4b84b0ab8f17f708935bd96",
            "37830020333f4ea2a9760f36f5901be0",
            "d1aaac31372542908fbd43d2059f8d89",
            "52648508907e4353aef82cd32095b048",
            "7ce65f6893a74ac280004e366cad3009",
            "149984d3d0a9425caf73db8763d78b00",
            "966169e017f04ce685e8b76390d40edd",
            "2321021e3fff43a481e07eae1bab4389",
            "ed408f6e566b4a30b85e3ba45ed6ee0b",
            "fda835e4deca4d41a7c6c4975e242b63",
            "8a763dc751f14dbfae7a539a17fb8a03",
            "26ea43cd7808406799e937c21907cb13",
            "bf485b538fab474cb286513416e7d4e2",
            "715f0775aa564af1893ef15fdba3fc70",
            "3e4df14655734ed9a788f8b0262f6307"
          ]
        },
        "id": "xzwvix8X-st3",
        "outputId": "992e4c9c-1485-4a25-f033-e40b70b94e70"
      },
      "outputs": [
        {
          "output_type": "display_data",
          "data": {
            "text/plain": [
              "config.json:   0%|          | 0.00/6.91k [00:00<?, ?B/s]"
            ],
            "application/vnd.jupyter.widget-view+json": {
              "version_major": 2,
              "version_minor": 0,
              "model_id": "daf8a4bb2d63418880b11e6a6844c134"
            }
          },
          "metadata": {}
        },
        {
          "output_type": "display_data",
          "data": {
            "text/plain": [
              "model.safetensors:   0%|          | 0.00/95.5M [00:00<?, ?B/s]"
            ],
            "application/vnd.jupyter.widget-view+json": {
              "version_major": 2,
              "version_minor": 0,
              "model_id": "7ce65f6893a74ac280004e366cad3009"
            }
          },
          "metadata": {}
        }
      ],
      "source": [
        "from transformers import AutoModelForImageClassification, AutoImageProcessor\n",
        "\n",
        "repo_name = \"TeeA/resnet-50-finetuned-pokemon\"\n",
        "\n",
        "image_processor = AutoImageProcessor.from_pretrained(repo_name)\n",
        "model = AutoModelForImageClassification.from_pretrained(repo_name)"
      ]
    },
    {
      "cell_type": "code",
      "execution_count": 36,
      "metadata": {
        "colab": {
          "base_uri": "https://localhost:8080/",
          "height": 260
        },
        "id": "UX6dwmT7GP91",
        "outputId": "08a264db-4313-4a4c-84e9-49e571291b7b"
      },
      "outputs": [
        {
          "output_type": "display_data",
          "data": {
            "text/plain": [
              "<PIL.JpegImagePlugin.JpegImageFile image mode=RGB size=224x224>"
            ],
            "image/png": "[encoded data removed]"
          },
          "metadata": {}
        },
        {
          "output_type": "execute_result",
          "data": {
            "text/plain": [
              "'Seaking'"
            ],
            "application/vnd.google.colaboratory.intrinsic+json": {
              "type": "string"
            }
          },
          "metadata": {},
          "execution_count": 36
        }
      ],
      "source": [
        "from PIL import Image\n",
        "import requests\n",
        "\n",
        "example = dataset['test'][200]\n",
        "image = example['image']\n",
        "display(image)\n",
        "model.config.id2label[example['label']]"
      ]
    },
    {
      "cell_type": "markdown",
      "metadata": {
        "id": "91-Ibh1--oI3"
      },
      "source": [
        "We'll load the image processor and model from the hub (here, we use the [Auto Classes](https://huggingface.co/docs/transformers/model_doc/auto#transformers.AutoModelForImageClassification), which will make sure the appropriate classes will be loaded automatically based on the `config.json` and `preprocessor_config.json` files of the repo on the hub):"
      ]
    },
    {
      "cell_type": "code",
      "execution_count": 37,
      "metadata": {
        "colab": {
          "base_uri": "https://localhost:8080/"
        },
        "id": "298o50gr-Rwt",
        "outputId": "0564aaf6-7760-4dac-d1f6-997160642741"
      },
      "outputs": [
        {
          "output_type": "stream",
          "name": "stdout",
          "text": [
            "torch.Size([1, 3, 224, 224])\n"
          ]
        }
      ],
      "source": [
        "# prepare image for the model\n",
        "encoding = image_processor(image.convert(\"RGB\"), return_tensors=\"pt\")\n",
        "print(encoding.pixel_values.shape)"
      ]
    },
    {
      "cell_type": "code",
      "execution_count": 38,
      "metadata": {
        "id": "33E44G86_RtL"
      },
      "outputs": [],
      "source": [
        "import torch\n",
        "\n",
        "# forward pass\n",
        "with torch.no_grad():\n",
        "    outputs = model(**encoding)\n",
        "    logits = outputs.logits"
      ]
    },
    {
      "cell_type": "code",
      "execution_count": 39,
      "metadata": {
        "colab": {
          "base_uri": "https://localhost:8080/"
        },
        "id": "4ctUvqfs_Yyn",
        "outputId": "20c24b15-2a48-46db-fbb5-b38344d060f7"
      },
      "outputs": [
        {
          "output_type": "stream",
          "name": "stdout",
          "text": [
            "Predicted class: Goldeen\n"
          ]
        }
      ],
      "source": [
        "predicted_class_idx = logits.argmax(-1).item()\n",
        "print(\"Predicted class:\", model.config.id2label[predicted_class_idx])"
      ]
    },
    {
      "cell_type": "markdown",
      "metadata": {
        "id": "N3yJFIIP_k01"
      },
      "source": [
        "Looks like our model got it correct!"
      ]
    },
    {
      "cell_type": "markdown",
      "metadata": {
        "id": "-2A5W8dF_qYt"
      },
      "source": [
        "## Pipeline API\n",
        "\n",
        "An alternative way to quickly perform inference with any model on the hub is by leveraging the [Pipeline API](https://huggingface.co/docs/transformers/main_classes/pipelines), which abstracts away all the steps we did manually above for us. It will perform the preprocessing, forward pass and postprocessing all in a single object.\n",
        "\n",
        "Let's showcase this for our trained model:"
      ]
    },
    {
      "cell_type": "code",
      "execution_count": 40,
      "metadata": {
        "id": "I7mz7QTo_jWa"
      },
      "outputs": [],
      "source": [
        "from transformers import pipeline\n",
        "\n",
        "pipe = pipeline(\"image-classification\", \"TeeA/resnet-50-finetuned-pokemon\")"
      ]
    },
    {
      "cell_type": "code",
      "execution_count": 41,
      "metadata": {
        "colab": {
          "base_uri": "https://localhost:8080/"
        },
        "id": "fPiuLDx3_9SY",
        "outputId": "3ee52250-0563-4c04-94ca-663f21b2cb4c"
      },
      "outputs": [
        {
          "output_type": "execute_result",
          "data": {
            "text/plain": [
              "[{'score': 0.47840413451194763, 'label': 'Goldeen'},\n",
              " {'score': 0.08846709132194519, 'label': 'Paras'},\n",
              " {'score': 0.06299450248479843, 'label': 'Krabby'},\n",
              " {'score': 0.05393082648515701, 'label': 'Magikarp'},\n",
              " {'score': 0.03530094027519226, 'label': 'Wigglytuff'}]"
            ]
          },
          "metadata": {},
          "execution_count": 41
        }
      ],
      "source": [
        "pipe(image)"
      ]
    },
    {
      "cell_type": "markdown",
      "metadata": {
        "id": "BVXM6-g4AJmy"
      },
      "source": [
        "As we can see, it does not only show the class label with the highest probability, but does return the top 5 labels, with their corresponding scores. Note that the pipelines also work with local models and mage processors:"
      ]
    },
    {
      "cell_type": "code",
      "execution_count": 42,
      "metadata": {
        "id": "B8kmO1NMAAXs"
      },
      "outputs": [],
      "source": [
        "pipe = pipeline(\"image-classification\",\n",
        "                model=model,\n",
        "                feature_extractor=image_processor)"
      ]
    },
    {
      "cell_type": "code",
      "execution_count": 43,
      "metadata": {
        "colab": {
          "base_uri": "https://localhost:8080/"
        },
        "id": "NfFH9eLMAdCX",
        "outputId": "d1bc4e31-c8d2-4447-e763-3f1f49126a84"
      },
      "outputs": [
        {
          "output_type": "execute_result",
          "data": {
            "text/plain": [
              "[{'score': 0.47840413451194763, 'label': 'Goldeen'},\n",
              " {'score': 0.08846709132194519, 'label': 'Paras'},\n",
              " {'score': 0.06299450248479843, 'label': 'Krabby'},\n",
              " {'score': 0.05393082648515701, 'label': 'Magikarp'},\n",
              " {'score': 0.03530094027519226, 'label': 'Wigglytuff'}]"
            ]
          },
          "metadata": {},
          "execution_count": 43
        }
      ],
      "source": [
        "pipe(image)"
      ]
    },
    {
      "cell_type": "code",
      "execution_count": 38,
      "metadata": {
        "id": "DF6iR_0BAdmK"
      },
      "outputs": [],
      "source": []
    },
    {
      "cell_type": "markdown",
      "source": [
        "# Appendix"
      ],
      "metadata": {
        "id": "AVFP_IIgNHgL"
      }
    },
    {
      "cell_type": "markdown",
      "source": [
        "![image.png](data:image/png;base64,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)\n",
        "![image.png](data:image/png;base64,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)\n",
        "![image.png](data:image/png;base64,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)"
      ],
      "metadata": {
        "id": "6KbXKcLJNJbY"
      }
    },
    {
      "cell_type": "markdown",
      "source": [],
      "metadata": {
        "id": "TUnU2uqRo-MJ"
      }
    },
    {
      "cell_type": "code",
      "source": [],
      "metadata": {
        "id": "nBpi1obQNK4D"
      },
      "execution_count": null,
      "outputs": []
    }
  ],
  "metadata": {
    "accelerator": "GPU",
    "colab": {
      "provenance": []
    },
    "kernelspec": {
      "display_name": "Python 3 (ipykernel)",
      "language": "python",
      "name": "python3"
    },
    "language_info": {
      "codemirror_mode": {
        "name": "ipython",
        "version": 3
      },
      "file_extension": ".py",
      "mimetype": "text/x-python",
      "name": "python",
      "nbconvert_exporter": "python",
      "pygments_lexer": "ipython3",
      "version": "3.10.10"
    },
    "widgets": {
      "application/vnd.jupyter.widget-state+json": {
        "55dcca518e674af4b1163223c3a6f367": {
          "model_module": "@jupyter-widgets/controls",
          "model_name": "HBoxModel",
          "model_module_version": "1.5.0",
          "state": {
            "_dom_classes": [],
            "_model_module": "@jupyter-widgets/controls",
            "_model_module_version": "1.5.0",
            "_model_name": "HBoxModel",
            "_view_count": null,
            "_view_module": "@jupyter-widgets/controls",
            "_view_module_version": "1.5.0",
            "_view_name": "HBoxView",
            "box_style": "",
            "children": [
              "IPY_MODEL_87a90eeab6a04eccba96497afbb28656",
              "IPY_MODEL_7ee5e670ea904580b983ffa63d39c74a",
              "IPY_MODEL_77f438ddcb4b4b46879cb5020458db97"
            ],
            "layout": "IPY_MODEL_0da6e09c43284e59ac3a2fe2dd412e9e"
          }
        },
        "87a90eeab6a04eccba96497afbb28656": {
          "model_module": "@jupyter-widgets/controls",
          "model_name": "HTMLModel",
          "model_module_version": "1.5.0",
          "state": {
            "_dom_classes": [],
            "_model_module": "@jupyter-widgets/controls",
            "_model_module_version": "1.5.0",
            "_model_name": "HTMLModel",
            "_view_count": null,
            "_view_module": "@jupyter-widgets/controls",
            "_view_module_version": "1.5.0",
            "_view_name": "HTMLView",
            "description": "",
            "description_tooltip": null,
            "layout": "IPY_MODEL_e893ce97e50b4d808be1ee52416e1306",
            "placeholder": "​",
            "style": "IPY_MODEL_56f016c79fb24a9792e8f53a577f58c6",
            "value": "Downloading readme: 100%"
          }
        },
        "7ee5e670ea904580b983ffa63d39c74a": {
          "model_module": "@jupyter-widgets/controls",
          "model_name": "FloatProgressModel",
          "model_module_version": "1.5.0",
          "state": {
            "_dom_classes": [],
            "_model_module": "@jupyter-widgets/controls",
            "_model_module_version": "1.5.0",
            "_model_name": "FloatProgressModel",
            "_view_count": null,
            "_view_module": "@jupyter-widgets/controls",
            "_view_module_version": "1.5.0",
            "_view_name": "ProgressView",
            "bar_style": "success",
            "description": "",
            "description_tooltip": null,
            "layout": "IPY_MODEL_f21184a7ba9e4ec58b17cd315b31daf9",
            "max": 4338,
            "min": 0,
            "orientation": "horizontal",
            "style": "IPY_MODEL_e3165337b7094e008e70641d7d39d9af",
            "value": 4338
          }
        },
        "77f438ddcb4b4b46879cb5020458db97": {
          "model_module": "@jupyter-widgets/controls",
          "model_name": "HTMLModel",
          "model_module_version": "1.5.0",
          "state": {
            "_dom_classes": [],
            "_model_module": "@jupyter-widgets/controls",
            "_model_module_version": "1.5.0",
            "_model_name": "HTMLModel",
            "_view_count": null,
            "_view_module": "@jupyter-widgets/controls",
            "_view_module_version": "1.5.0",
            "_view_name": "HTMLView",
            "description": "",
            "description_tooltip": null,
            "layout": "IPY_MODEL_f0a24ab5445b4ac4bb671d95b8d58485",
            "placeholder": "​",
            "style": "IPY_MODEL_1822c0e7dc3e4736b696980463b934af",
            "value": " 4.34k/4.34k [00:00&lt;00:00, 158kB/s]"
          }
        },
        "0da6e09c43284e59ac3a2fe2dd412e9e": {
          "model_module": "@jupyter-widgets/base",
          "model_name": "LayoutModel",
          "model_module_version": "1.2.0",
          "state": {
            "_model_module": "@jupyter-widgets/base",
            "_model_module_version": "1.2.0",
            "_model_name": "LayoutModel",
            "_view_count": null,
            "_view_module": "@jupyter-widgets/base",
            "_view_module_version": "1.2.0",
            "_view_name": "LayoutView",
            "align_content": null,
            "align_items": null,
            "align_self": null,
            "border": null,
            "bottom": null,
            "display": null,
            "flex": null,
            "flex_flow": null,
            "grid_area": null,
            "grid_auto_columns": null,
            "grid_auto_flow": null,
            "grid_auto_rows": null,
            "grid_column": null,
            "grid_gap": null,
            "grid_row": null,
            "grid_template_areas": null,
            "grid_template_columns": null,
            "grid_template_rows": null,
            "height": null,
            "justify_content": null,
            "justify_items": null,
            "left": null,
            "margin": null,
            "max_height": null,
            "max_width": null,
            "min_height": null,
            "min_width": null,
            "object_fit": null,
            "object_position": null,
            "order": null,
            "overflow": null,
            "overflow_x": null,
            "overflow_y": null,
            "padding": null,
            "right": null,
            "top": null,
            "visibility": null,
            "width": null
          }
        },
        "e893ce97e50b4d808be1ee52416e1306": {
          "model_module": "@jupyter-widgets/base",
          "model_name": "LayoutModel",
          "model_module_version": "1.2.0",
          "state": {
            "_model_module": "@jupyter-widgets/base",
            "_model_module_version": "1.2.0",
            "_model_name": "LayoutModel",
            "_view_count": null,
            "_view_module": "@jupyter-widgets/base",
            "_view_module_version": "1.2.0",
            "_view_name": "LayoutView",
            "align_content": null,
            "align_items": null,
            "align_self": null,
            "border": null,
            "bottom": null,
            "display": null,
            "flex": null,
            "flex_flow": null,
            "grid_area": null,
            "grid_auto_columns": null,
            "grid_auto_flow": null,
            "grid_auto_rows": null,
            "grid_column": null,
            "grid_gap": null,
            "grid_row": null,
            "grid_template_areas": null,
            "grid_template_columns": null,
            "grid_template_rows": null,
            "height": null,
            "justify_content": null,
            "justify_items": null,
            "left": null,
            "margin": null,
            "max_height": null,
            "max_width": null,
            "min_height": null,
            "min_width": null,
            "object_fit": null,
            "object_position": null,
            "order": null,
            "overflow": null,
            "overflow_x": null,
            "overflow_y": null,
            "padding": null,
            "right": null,
            "top": null,
            "visibility": null,
            "width": null
          }
        },
        "56f016c79fb24a9792e8f53a577f58c6": {
          "model_module": "@jupyter-widgets/controls",
          "model_name": "DescriptionStyleModel",
          "model_module_version": "1.5.0",
          "state": {
            "_model_module": "@jupyter-widgets/controls",
            "_model_module_version": "1.5.0",
            "_model_name": "DescriptionStyleModel",
            "_view_count": null,
            "_view_module": "@jupyter-widgets/base",
            "_view_module_version": "1.2.0",
            "_view_name": "StyleView",
            "description_width": ""
          }
        },
        "f21184a7ba9e4ec58b17cd315b31daf9": {
          "model_module": "@jupyter-widgets/base",
          "model_name": "LayoutModel",
          "model_module_version": "1.2.0",
          "state": {
            "_model_module": "@jupyter-widgets/base",
            "_model_module_version": "1.2.0",
            "_model_name": "LayoutModel",
            "_view_count": null,
            "_view_module": "@jupyter-widgets/base",
            "_view_module_version": "1.2.0",
            "_view_name": "LayoutView",
            "align_content": null,
            "align_items": null,
            "align_self": null,
            "border": null,
            "bottom": null,
            "display": null,
            "flex": null,
            "flex_flow": null,
            "grid_area": null,
            "grid_auto_columns": null,
            "grid_auto_flow": null,
            "grid_auto_rows": null,
            "grid_column": null,
            "grid_gap": null,
            "grid_row": null,
            "grid_template_areas": null,
            "grid_template_columns": null,
            "grid_template_rows": null,
            "height": null,
            "justify_content": null,
            "justify_items": null,
            "left": null,
            "margin": null,
            "max_height": null,
            "max_width": null,
            "min_height": null,
            "min_width": null,
            "object_fit": null,
            "object_position": null,
            "order": null,
            "overflow": null,
            "overflow_x": null,
            "overflow_y": null,
            "padding": null,
            "right": null,
            "top": null,
            "visibility": null,
            "width": null
          }
        },
        "e3165337b7094e008e70641d7d39d9af": {
          "model_module": "@jupyter-widgets/controls",
          "model_name": "ProgressStyleModel",
          "model_module_version": "1.5.0",
          "state": {
            "_model_module": "@jupyter-widgets/controls",
            "_model_module_version": "1.5.0",
            "_model_name": "ProgressStyleModel",
            "_view_count": null,
            "_view_module": "@jupyter-widgets/base",
            "_view_module_version": "1.2.0",
            "_view_name": "StyleView",
            "bar_color": null,
            "description_width": ""
          }
        },
        "f0a24ab5445b4ac4bb671d95b8d58485": {
          "model_module": "@jupyter-widgets/base",
          "model_name": "LayoutModel",
          "model_module_version": "1.2.0",
          "state": {
            "_model_module": "@jupyter-widgets/base",
            "_model_module_version": "1.2.0",
            "_model_name": "LayoutModel",
            "_view_count": null,
            "_view_module": "@jupyter-widgets/base",
            "_view_module_version": "1.2.0",
            "_view_name": "LayoutView",
            "align_content": null,
            "align_items": null,
            "align_self": null,
            "border": null,
            "bottom": null,
            "display": null,
            "flex": null,
            "flex_flow": null,
            "grid_area": null,
            "grid_auto_columns": null,
            "grid_auto_flow": null,
            "grid_auto_rows": null,
            "grid_column": null,
            "grid_gap": null,
            "grid_row": null,
            "grid_template_areas": null,
            "grid_template_columns": null,
            "grid_template_rows": null,
            "height": null,
            "justify_content": null,
            "justify_items": null,
            "left": null,
            "margin": null,
            "max_height": null,
            "max_width": null,
            "min_height": null,
            "min_width": null,
            "object_fit": null,
            "object_position": null,
            "order": null,
            "overflow": null,
            "overflow_x": null,
            "overflow_y": null,
            "padding": null,
            "right": null,
            "top": null,
            "visibility": null,
            "width": null
          }
        },
        "1822c0e7dc3e4736b696980463b934af": {
          "model_module": "@jupyter-widgets/controls",
          "model_name": "DescriptionStyleModel",
          "model_module_version": "1.5.0",
          "state": {
            "_model_module": "@jupyter-widgets/controls",
            "_model_module_version": "1.5.0",
            "_model_name": "DescriptionStyleModel",
            "_view_count": null,
            "_view_module": "@jupyter-widgets/base",
            "_view_module_version": "1.2.0",
            "_view_name": "StyleView",
            "description_width": ""
          }
        },
        "20f2b0c91f1442758188cca81c863c26": {
          "model_module": "@jupyter-widgets/controls",
          "model_name": "HBoxModel",
          "model_module_version": "1.5.0",
          "state": {
            "_dom_classes": [],
            "_model_module": "@jupyter-widgets/controls",
            "_model_module_version": "1.5.0",
            "_model_name": "HBoxModel",
            "_view_count": null,
            "_view_module": "@jupyter-widgets/controls",
            "_view_module_version": "1.5.0",
            "_view_name": "HBoxView",
            "box_style": "",
            "children": [
              "IPY_MODEL_74e5fa51a4854dbf907aa3eda5d430f4",
              "IPY_MODEL_3e2c1d2f95d44cf4960eb2459efaf60f",
              "IPY_MODEL_630a1318a9134552bde7cfacda76bfcb"
            ],
            "layout": "IPY_MODEL_a5f97012c7484d1c926fe421479d3b84"
          }
        },
        "74e5fa51a4854dbf907aa3eda5d430f4": {
          "model_module": "@jupyter-widgets/controls",
          "model_name": "HTMLModel",
          "model_module_version": "1.5.0",
          "state": {
            "_dom_classes": [],
            "_model_module": "@jupyter-widgets/controls",
            "_model_module_version": "1.5.0",
            "_model_name": "HTMLModel",
            "_view_count": null,
            "_view_module": "@jupyter-widgets/controls",
            "_view_module_version": "1.5.0",
            "_view_name": "HTMLView",
            "description": "",
            "description_tooltip": null,
            "layout": "IPY_MODEL_bd0c5e1234444aba836d4d7999aece8a",
            "placeholder": "​",
            "style": "IPY_MODEL_e19a528ea7174bd4a088e7be02a25d02",
            "value": "Downloading data: 100%"
          }
        },
        "3e2c1d2f95d44cf4960eb2459efaf60f": {
          "model_module": "@jupyter-widgets/controls",
          "model_name": "FloatProgressModel",
          "model_module_version": "1.5.0",
          "state": {
            "_dom_classes": [],
            "_model_module": "@jupyter-widgets/controls",
            "_model_module_version": "1.5.0",
            "_model_name": "FloatProgressModel",
            "_view_count": null,
            "_view_module": "@jupyter-widgets/controls",
            "_view_module_version": "1.5.0",
            "_view_name": "ProgressView",
            "bar_style": "success",
            "description": "",
            "description_tooltip": null,
            "layout": "IPY_MODEL_c6e8ce669ff34e79911843e6377d9d3f",
            "max": 46140565,
            "min": 0,
            "orientation": "horizontal",
            "style": "IPY_MODEL_ad6d435a31684d09b226090dacaed327",
            "value": 46140565
          }
        },
        "630a1318a9134552bde7cfacda76bfcb": {
          "model_module": "@jupyter-widgets/controls",
          "model_name": "HTMLModel",
          "model_module_version": "1.5.0",
          "state": {
            "_dom_classes": [],
            "_model_module": "@jupyter-widgets/controls",
            "_model_module_version": "1.5.0",
            "_model_name": "HTMLModel",
            "_view_count": null,
            "_view_module": "@jupyter-widgets/controls",
            "_view_module_version": "1.5.0",
            "_view_name": "HTMLView",
            "description": "",
            "description_tooltip": null,
            "layout": "IPY_MODEL_04e6c1fa73264a1d91de481d19e75585",
            "placeholder": "​",
            "style": "IPY_MODEL_dbccbcbd323944e0b7a61c7744999d0e",
            "value": " 46.1M/46.1M [00:07&lt;00:00, 6.43MB/s]"
          }
        },
        "a5f97012c7484d1c926fe421479d3b84": {
          "model_module": "@jupyter-widgets/base",
          "model_name": "LayoutModel",
          "model_module_version": "1.2.0",
          "state": {
            "_model_module": "@jupyter-widgets/base",
            "_model_module_version": "1.2.0",
            "_model_name": "LayoutModel",
            "_view_count": null,
            "_view_module": "@jupyter-widgets/base",
            "_view_module_version": "1.2.0",
            "_view_name": "LayoutView",
            "align_content": null,
            "align_items": null,
            "align_self": null,
            "border": null,
            "bottom": null,
            "display": null,
            "flex": null,
            "flex_flow": null,
            "grid_area": null,
            "grid_auto_columns": null,
            "grid_auto_flow": null,
            "grid_auto_rows": null,
            "grid_column": null,
            "grid_gap": null,
            "grid_row": null,
            "grid_template_areas": null,
            "grid_template_columns": null,
            "grid_template_rows": null,
            "height": null,
            "justify_content": null,
            "justify_items": null,
            "left": null,
            "margin": null,
            "max_height": null,
            "max_width": null,
            "min_height": null,
            "min_width": null,
            "object_fit": null,
            "object_position": null,
            "order": null,
            "overflow": null,
            "overflow_x": null,
            "overflow_y": null,
            "padding": null,
            "right": null,
            "top": null,
            "visibility": null,
            "width": null
          }
        },
        "bd0c5e1234444aba836d4d7999aece8a": {
          "model_module": "@jupyter-widgets/base",
          "model_name": "LayoutModel",
          "model_module_version": "1.2.0",
          "state": {
            "_model_module": "@jupyter-widgets/base",
            "_model_module_version": "1.2.0",
            "_model_name": "LayoutModel",
            "_view_count": null,
            "_view_module": "@jupyter-widgets/base",
            "_view_module_version": "1.2.0",
            "_view_name": "LayoutView",
            "align_content": null,
            "align_items": null,
            "align_self": null,
            "border": null,
            "bottom": null,
            "display": null,
            "flex": null,
            "flex_flow": null,
            "grid_area": null,
            "grid_auto_columns": null,
            "grid_auto_flow": null,
            "grid_auto_rows": null,
            "grid_column": null,
            "grid_gap": null,
            "grid_row": null,
            "grid_template_areas": null,
            "grid_template_columns": null,
            "grid_template_rows": null,
            "height": null,
            "justify_content": null,
            "justify_items": null,
            "left": null,
            "margin": null,
            "max_height": null,
            "max_width": null,
            "min_height": null,
            "min_width": null,
            "object_fit": null,
            "object_position": null,
            "order": null,
            "overflow": null,
            "overflow_x": null,
            "overflow_y": null,
            "padding": null,
            "right": null,
            "top": null,
            "visibility": null,
            "width": null
          }
        },
        "e19a528ea7174bd4a088e7be02a25d02": {
          "model_module": "@jupyter-widgets/controls",
          "model_name": "DescriptionStyleModel",
          "model_module_version": "1.5.0",
          "state": {
            "_model_module": "@jupyter-widgets/controls",
            "_model_module_version": "1.5.0",
            "_model_name": "DescriptionStyleModel",
            "_view_count": null,
            "_view_module": "@jupyter-widgets/base",
            "_view_module_version": "1.2.0",
            "_view_name": "StyleView",
            "description_width": ""
          }
        },
        "c6e8ce669ff34e79911843e6377d9d3f": {
          "model_module": "@jupyter-widgets/base",
          "model_name": "LayoutModel",
          "model_module_version": "1.2.0",
          "state": {
            "_model_module": "@jupyter-widgets/base",
            "_model_module_version": "1.2.0",
            "_model_name": "LayoutModel",
            "_view_count": null,
            "_view_module": "@jupyter-widgets/base",
            "_view_module_version": "1.2.0",
            "_view_name": "LayoutView",
            "align_content": null,
            "align_items": null,
            "align_self": null,
            "border": null,
            "bottom": null,
            "display": null,
            "flex": null,
            "flex_flow": null,
            "grid_area": null,
            "grid_auto_columns": null,
            "grid_auto_flow": null,
            "grid_auto_rows": null,
            "grid_column": null,
            "grid_gap": null,
            "grid_row": null,
            "grid_template_areas": null,
            "grid_template_columns": null,
            "grid_template_rows": null,
            "height": null,
            "justify_content": null,
            "justify_items": null,
            "left": null,
            "margin": null,
            "max_height": null,
            "max_width": null,
            "min_height": null,
            "min_width": null,
            "object_fit": null,
            "object_position": null,
            "order": null,
            "overflow": null,
            "overflow_x": null,
            "overflow_y": null,
            "padding": null,
            "right": null,
            "top": null,
            "visibility": null,
            "width": null
          }
        },
        "ad6d435a31684d09b226090dacaed327": {
          "model_module": "@jupyter-widgets/controls",
          "model_name": "ProgressStyleModel",
          "model_module_version": "1.5.0",
          "state": {
            "_model_module": "@jupyter-widgets/controls",
            "_model_module_version": "1.5.0",
            "_model_name": "ProgressStyleModel",
            "_view_count": null,
            "_view_module": "@jupyter-widgets/base",
            "_view_module_version": "1.2.0",
            "_view_name": "StyleView",
            "bar_color": null,
            "description_width": ""
          }
        },
        "04e6c1fa73264a1d91de481d19e75585": {
          "model_module": "@jupyter-widgets/base",
          "model_name": "LayoutModel",
          "model_module_version": "1.2.0",
          "state": {
            "_model_module": "@jupyter-widgets/base",
            "_model_module_version": "1.2.0",
            "_model_name": "LayoutModel",
            "_view_count": null,
            "_view_module": "@jupyter-widgets/base",
            "_view_module_version": "1.2.0",
            "_view_name": "LayoutView",
            "align_content": null,
            "align_items": null,
            "align_self": null,
            "border": null,
            "bottom": null,
            "display": null,
            "flex": null,
            "flex_flow": null,
            "grid_area": null,
            "grid_auto_columns": null,
            "grid_auto_flow": null,
            "grid_auto_rows": null,
            "grid_column": null,
            "grid_gap": null,
            "grid_row": null,
            "grid_template_areas": null,
            "grid_template_columns": null,
            "grid_template_rows": null,
            "height": null,
            "justify_content": null,
            "justify_items": null,
            "left": null,
            "margin": null,
            "max_height": null,
            "max_width": null,
            "min_height": null,
            "min_width": null,
            "object_fit": null,
            "object_position": null,
            "order": null,
            "overflow": null,
            "overflow_x": null,
            "overflow_y": null,
            "padding": null,
            "right": null,
            "top": null,
            "visibility": null,
            "width": null
          }
        },
        "dbccbcbd323944e0b7a61c7744999d0e": {
          "model_module": "@jupyter-widgets/controls",
          "model_name": "DescriptionStyleModel",
          "model_module_version": "1.5.0",
          "state": {
            "_model_module": "@jupyter-widgets/controls",
            "_model_module_version": "1.5.0",
            "_model_name": "DescriptionStyleModel",
            "_view_count": null,
            "_view_module": "@jupyter-widgets/base",
            "_view_module_version": "1.2.0",
            "_view_name": "StyleView",
            "description_width": ""
          }
        },
        "fd78ac00c9b04fbd90cedec7f20f5370": {
          "model_module": "@jupyter-widgets/controls",
          "model_name": "HBoxModel",
          "model_module_version": "1.5.0",
          "state": {
            "_dom_classes": [],
            "_model_module": "@jupyter-widgets/controls",
            "_model_module_version": "1.5.0",
            "_model_name": "HBoxModel",
            "_view_count": null,
            "_view_module": "@jupyter-widgets/controls",
            "_view_module_version": "1.5.0",
            "_view_name": "HBoxView",
            "box_style": "",
            "children": [
              "IPY_MODEL_0c34ec0487954f3a920c96778a4f9a53",
              "IPY_MODEL_2e8bd6aa2af74b3c9c3aba2c35273c16",
              "IPY_MODEL_3ca36d97f9e64879a8ba83735401f10c"
            ],
            "layout": "IPY_MODEL_c2b27ae046d7495996bc3a7acf6b6422"
          }
        },
        "0c34ec0487954f3a920c96778a4f9a53": {
          "model_module": "@jupyter-widgets/controls",
          "model_name": "HTMLModel",
          "model_module_version": "1.5.0",
          "state": {
            "_dom_classes": [],
            "_model_module": "@jupyter-widgets/controls",
            "_model_module_version": "1.5.0",
            "_model_name": "HTMLModel",
            "_view_count": null,
            "_view_module": "@jupyter-widgets/controls",
            "_view_module_version": "1.5.0",
            "_view_name": "HTMLView",
            "description": "",
            "description_tooltip": null,
            "layout": "IPY_MODEL_a57abf5441734b61a1d9f746323bdd9e",
            "placeholder": "​",
            "style": "IPY_MODEL_d049486d168144b9ae145e7bc4796e76",
            "value": "Downloading data: 100%"
          }
        },
        "2e8bd6aa2af74b3c9c3aba2c35273c16": {
          "model_module": "@jupyter-widgets/controls",
          "model_name": "FloatProgressModel",
          "model_module_version": "1.5.0",
          "state": {
            "_dom_classes": [],
            "_model_module": "@jupyter-widgets/controls",
            "_model_module_version": "1.5.0",
            "_model_name": "FloatProgressModel",
            "_view_count": null,
            "_view_module": "@jupyter-widgets/controls",
            "_view_module_version": "1.5.0",
            "_view_name": "ProgressView",
            "bar_style": "success",
            "description": "",
            "description_tooltip": null,
            "layout": "IPY_MODEL_355d22eec91b4b909af3293777adac97",
            "max": 13474457,
            "min": 0,
            "orientation": "horizontal",
            "style": "IPY_MODEL_8462a36a5aa64a1590b3ce80f6a8302e",
            "value": 13474457
          }
        },
        "3ca36d97f9e64879a8ba83735401f10c": {
          "model_module": "@jupyter-widgets/controls",
          "model_name": "HTMLModel",
          "model_module_version": "1.5.0",
          "state": {
            "_dom_classes": [],
            "_model_module": "@jupyter-widgets/controls",
            "_model_module_version": "1.5.0",
            "_model_name": "HTMLModel",
            "_view_count": null,
            "_view_module": "@jupyter-widgets/controls",
            "_view_module_version": "1.5.0",
            "_view_name": "HTMLView",
            "description": "",
            "description_tooltip": null,
            "layout": "IPY_MODEL_9fad0dd04aae4ebea2c9e86609346726",
            "placeholder": "​",
            "style": "IPY_MODEL_6fd29b58e94e423b9f35927a5b9917d8",
            "value": " 13.5M/13.5M [00:02&lt;00:00, 6.50MB/s]"
          }
        },
        "c2b27ae046d7495996bc3a7acf6b6422": {
          "model_module": "@jupyter-widgets/base",
          "model_name": "LayoutModel",
          "model_module_version": "1.2.0",
          "state": {
            "_model_module": "@jupyter-widgets/base",
            "_model_module_version": "1.2.0",
            "_model_name": "LayoutModel",
            "_view_count": null,
            "_view_module": "@jupyter-widgets/base",
            "_view_module_version": "1.2.0",
            "_view_name": "LayoutView",
            "align_content": null,
            "align_items": null,
            "align_self": null,
            "border": null,
            "bottom": null,
            "display": null,
            "flex": null,
            "flex_flow": null,
            "grid_area": null,
            "grid_auto_columns": null,
            "grid_auto_flow": null,
            "grid_auto_rows": null,
            "grid_column": null,
            "grid_gap": null,
            "grid_row": null,
            "grid_template_areas": null,
            "grid_template_columns": null,
            "grid_template_rows": null,
            "height": null,
            "justify_content": null,
            "justify_items": null,
            "left": null,
            "margin": null,
            "max_height": null,
            "max_width": null,
            "min_height": null,
            "min_width": null,
            "object_fit": null,
            "object_position": null,
            "order": null,
            "overflow": null,
            "overflow_x": null,
            "overflow_y": null,
            "padding": null,
            "right": null,
            "top": null,
            "visibility": null,
            "width": null
          }
        },
        "a57abf5441734b61a1d9f746323bdd9e": {
          "model_module": "@jupyter-widgets/base",
          "model_name": "LayoutModel",
          "model_module_version": "1.2.0",
          "state": {
            "_model_module": "@jupyter-widgets/base",
            "_model_module_version": "1.2.0",
            "_model_name": "LayoutModel",
            "_view_count": null,
            "_view_module": "@jupyter-widgets/base",
            "_view_module_version": "1.2.0",
            "_view_name": "LayoutView",
            "align_content": null,
            "align_items": null,
            "align_self": null,
            "border": null,
            "bottom": null,
            "display": null,
            "flex": null,
            "flex_flow": null,
            "grid_area": null,
            "grid_auto_columns": null,
            "grid_auto_flow": null,
            "grid_auto_rows": null,
            "grid_column": null,
            "grid_gap": null,
            "grid_row": null,
            "grid_template_areas": null,
            "grid_template_columns": null,
            "grid_template_rows": null,
            "height": null,
            "justify_content": null,
            "justify_items": null,
            "left": null,
            "margin": null,
            "max_height": null,
            "max_width": null,
            "min_height": null,
            "min_width": null,
            "object_fit": null,
            "object_position": null,
            "order": null,
            "overflow": null,
            "overflow_x": null,
            "overflow_y": null,
            "padding": null,
            "right": null,
            "top": null,
            "visibility": null,
            "width": null
          }
        },
        "d049486d168144b9ae145e7bc4796e76": {
          "model_module": "@jupyter-widgets/controls",
          "model_name": "DescriptionStyleModel",
          "model_module_version": "1.5.0",
          "state": {
            "_model_module": "@jupyter-widgets/controls",
            "_model_module_version": "1.5.0",
            "_model_name": "DescriptionStyleModel",
            "_view_count": null,
            "_view_module": "@jupyter-widgets/base",
            "_view_module_version": "1.2.0",
            "_view_name": "StyleView",
            "description_width": ""
          }
        },
        "355d22eec91b4b909af3293777adac97": {
          "model_module": "@jupyter-widgets/base",
          "model_name": "LayoutModel",
          "model_module_version": "1.2.0",
          "state": {
            "_model_module": "@jupyter-widgets/base",
            "_model_module_version": "1.2.0",
            "_model_name": "LayoutModel",
            "_view_count": null,
            "_view_module": "@jupyter-widgets/base",
            "_view_module_version": "1.2.0",
            "_view_name": "LayoutView",
            "align_content": null,
            "align_items": null,
            "align_self": null,
            "border": null,
            "bottom": null,
            "display": null,
            "flex": null,
            "flex_flow": null,
            "grid_area": null,
            "grid_auto_columns": null,
            "grid_auto_flow": null,
            "grid_auto_rows": null,
            "grid_column": null,
            "grid_gap": null,
            "grid_row": null,
            "grid_template_areas": null,
            "grid_template_columns": null,
            "grid_template_rows": null,
            "height": null,
            "justify_content": null,
            "justify_items": null,
            "left": null,
            "margin": null,
            "max_height": null,
            "max_width": null,
            "min_height": null,
            "min_width": null,
            "object_fit": null,
            "object_position": null,
            "order": null,
            "overflow": null,
            "overflow_x": null,
            "overflow_y": null,
            "padding": null,
            "right": null,
            "top": null,
            "visibility": null,
            "width": null
          }
        },
        "8462a36a5aa64a1590b3ce80f6a8302e": {
          "model_module": "@jupyter-widgets/controls",
          "model_name": "ProgressStyleModel",
          "model_module_version": "1.5.0",
          "state": {
            "_model_module": "@jupyter-widgets/controls",
            "_model_module_version": "1.5.0",
            "_model_name": "ProgressStyleModel",
            "_view_count": null,
            "_view_module": "@jupyter-widgets/base",
            "_view_module_version": "1.2.0",
            "_view_name": "StyleView",
            "bar_color": null,
            "description_width": ""
          }
        },
        "9fad0dd04aae4ebea2c9e86609346726": {
          "model_module": "@jupyter-widgets/base",
          "model_name": "LayoutModel",
          "model_module_version": "1.2.0",
          "state": {
            "_model_module": "@jupyter-widgets/base",
            "_model_module_version": "1.2.0",
            "_model_name": "LayoutModel",
            "_view_count": null,
            "_view_module": "@jupyter-widgets/base",
            "_view_module_version": "1.2.0",
            "_view_name": "LayoutView",
            "align_content": null,
            "align_items": null,
            "align_self": null,
            "border": null,
            "bottom": null,
            "display": null,
            "flex": null,
            "flex_flow": null,
            "grid_area": null,
            "grid_auto_columns": null,
            "grid_auto_flow": null,
            "grid_auto_rows": null,
            "grid_column": null,
            "grid_gap": null,
            "grid_row": null,
            "grid_template_areas": null,
            "grid_template_columns": null,
            "grid_template_rows": null,
            "height": null,
            "justify_content": null,
            "justify_items": null,
            "left": null,
            "margin": null,
            "max_height": null,
            "max_width": null,
            "min_height": null,
            "min_width": null,
            "object_fit": null,
            "object_position": null,
            "order": null,
            "overflow": null,
            "overflow_x": null,
            "overflow_y": null,
            "padding": null,
            "right": null,
            "top": null,
            "visibility": null,
            "width": null
          }
        },
        "6fd29b58e94e423b9f35927a5b9917d8": {
          "model_module": "@jupyter-widgets/controls",
          "model_name": "DescriptionStyleModel",
          "model_module_version": "1.5.0",
          "state": {
            "_model_module": "@jupyter-widgets/controls",
            "_model_module_version": "1.5.0",
            "_model_name": "DescriptionStyleModel",
            "_view_count": null,
            "_view_module": "@jupyter-widgets/base",
            "_view_module_version": "1.2.0",
            "_view_name": "StyleView",
            "description_width": ""
          }
        },
        "29c7b81d1b8e42a4b1c114a5647f49a5": {
          "model_module": "@jupyter-widgets/controls",
          "model_name": "HBoxModel",
          "model_module_version": "1.5.0",
          "state": {
            "_dom_classes": [],
            "_model_module": "@jupyter-widgets/controls",
            "_model_module_version": "1.5.0",
            "_model_name": "HBoxModel",
            "_view_count": null,
            "_view_module": "@jupyter-widgets/controls",
            "_view_module_version": "1.5.0",
            "_view_name": "HBoxView",
            "box_style": "",
            "children": [
              "IPY_MODEL_110619109b104bda9bb7ca142db0f2af",
              "IPY_MODEL_c9b34e6c433c4018bb93a3531cc84216",
              "IPY_MODEL_8213f957281c4002a6fc9b8ea9dd2ffa"
            ],
            "layout": "IPY_MODEL_ad8bd252dda849a8b80b0e63a8fe154c"
          }
        },
        "110619109b104bda9bb7ca142db0f2af": {
          "model_module": "@jupyter-widgets/controls",
          "model_name": "HTMLModel",
          "model_module_version": "1.5.0",
          "state": {
            "_dom_classes": [],
            "_model_module": "@jupyter-widgets/controls",
            "_model_module_version": "1.5.0",
            "_model_name": "HTMLModel",
            "_view_count": null,
            "_view_module": "@jupyter-widgets/controls",
            "_view_module_version": "1.5.0",
            "_view_name": "HTMLView",
            "description": "",
            "description_tooltip": null,
            "layout": "IPY_MODEL_99b76757417444119ee5080132a3b8c5",
            "placeholder": "​",
            "style": "IPY_MODEL_a8c7bacf2aef4192929a93669e636806",
            "value": "Downloading data: 100%"
          }
        },
        "c9b34e6c433c4018bb93a3531cc84216": {
          "model_module": "@jupyter-widgets/controls",
          "model_name": "FloatProgressModel",
          "model_module_version": "1.5.0",
          "state": {
            "_dom_classes": [],
            "_model_module": "@jupyter-widgets/controls",
            "_model_module_version": "1.5.0",
            "_model_name": "FloatProgressModel",
            "_view_count": null,
            "_view_module": "@jupyter-widgets/controls",
            "_view_module_version": "1.5.0",
            "_view_name": "ProgressView",
            "bar_style": "success",
            "description": "",
            "description_tooltip": null,
            "layout": "IPY_MODEL_a516ea0de5fa47be8528cadd7d367d94",
            "max": 7104110,
            "min": 0,
            "orientation": "horizontal",
            "style": "IPY_MODEL_9110d33c8556498b83dbe271ffc61343",
            "value": 7104110
          }
        },
        "8213f957281c4002a6fc9b8ea9dd2ffa": {
          "model_module": "@jupyter-widgets/controls",
          "model_name": "HTMLModel",
          "model_module_version": "1.5.0",
          "state": {
            "_dom_classes": [],
            "_model_module": "@jupyter-widgets/controls",
            "_model_module_version": "1.5.0",
            "_model_name": "HTMLModel",
            "_view_count": null,
            "_view_module": "@jupyter-widgets/controls",
            "_view_module_version": "1.5.0",
            "_view_name": "HTMLView",
            "description": "",
            "description_tooltip": null,
            "layout": "IPY_MODEL_3552ecb9912a495faac6b0e66bfc9f82",
            "placeholder": "​",
            "style": "IPY_MODEL_84f7842962444c67af2ea494fcf43958",
            "value": " 7.10M/7.10M [00:00&lt;00:00, 4.88MB/s]"
          }
        },
        "ad8bd252dda849a8b80b0e63a8fe154c": {
          "model_module": "@jupyter-widgets/base",
          "model_name": "LayoutModel",
          "model_module_version": "1.2.0",
          "state": {
            "_model_module": "@jupyter-widgets/base",
            "_model_module_version": "1.2.0",
            "_model_name": "LayoutModel",
            "_view_count": null,
            "_view_module": "@jupyter-widgets/base",
            "_view_module_version": "1.2.0",
            "_view_name": "LayoutView",
            "align_content": null,
            "align_items": null,
            "align_self": null,
            "border": null,
            "bottom": null,
            "display": null,
            "flex": null,
            "flex_flow": null,
            "grid_area": null,
            "grid_auto_columns": null,
            "grid_auto_flow": null,
            "grid_auto_rows": null,
            "grid_column": null,
            "grid_gap": null,
            "grid_row": null,
            "grid_template_areas": null,
            "grid_template_columns": null,
            "grid_template_rows": null,
            "height": null,
            "justify_content": null,
            "justify_items": null,
            "left": null,
            "margin": null,
            "max_height": null,
            "max_width": null,
            "min_height": null,
            "min_width": null,
            "object_fit": null,
            "object_position": null,
            "order": null,
            "overflow": null,
            "overflow_x": null,
            "overflow_y": null,
            "padding": null,
            "right": null,
            "top": null,
            "visibility": null,
            "width": null
          }
        },
        "99b76757417444119ee5080132a3b8c5": {
          "model_module": "@jupyter-widgets/base",
          "model_name": "LayoutModel",
          "model_module_version": "1.2.0",
          "state": {
            "_model_module": "@jupyter-widgets/base",
            "_model_module_version": "1.2.0",
            "_model_name": "LayoutModel",
            "_view_count": null,
            "_view_module": "@jupyter-widgets/base",
            "_view_module_version": "1.2.0",
            "_view_name": "LayoutView",
            "align_content": null,
            "align_items": null,
            "align_self": null,
            "border": null,
            "bottom": null,
            "display": null,
            "flex": null,
            "flex_flow": null,
            "grid_area": null,
            "grid_auto_columns": null,
            "grid_auto_flow": null,
            "grid_auto_rows": null,
            "grid_column": null,
            "grid_gap": null,
            "grid_row": null,
            "grid_template_areas": null,
            "grid_template_columns": null,
            "grid_template_rows": null,
            "height": null,
            "justify_content": null,
            "justify_items": null,
            "left": null,
            "margin": null,
            "max_height": null,
            "max_width": null,
            "min_height": null,
            "min_width": null,
            "object_fit": null,
            "object_position": null,
            "order": null,
            "overflow": null,
            "overflow_x": null,
            "overflow_y": null,
            "padding": null,
            "right": null,
            "top": null,
            "visibility": null,
            "width": null
          }
        },
        "a8c7bacf2aef4192929a93669e636806": {
          "model_module": "@jupyter-widgets/controls",
          "model_name": "DescriptionStyleModel",
          "model_module_version": "1.5.0",
          "state": {
            "_model_module": "@jupyter-widgets/controls",
            "_model_module_version": "1.5.0",
            "_model_name": "DescriptionStyleModel",
            "_view_count": null,
            "_view_module": "@jupyter-widgets/base",
            "_view_module_version": "1.2.0",
            "_view_name": "StyleView",
            "description_width": ""
          }
        },
        "a516ea0de5fa47be8528cadd7d367d94": {
          "model_module": "@jupyter-widgets/base",
          "model_name": "LayoutModel",
          "model_module_version": "1.2.0",
          "state": {
            "_model_module": "@jupyter-widgets/base",
            "_model_module_version": "1.2.0",
            "_model_name": "LayoutModel",
            "_view_count": null,
            "_view_module": "@jupyter-widgets/base",
            "_view_module_version": "1.2.0",
            "_view_name": "LayoutView",
            "align_content": null,
            "align_items": null,
            "align_self": null,
            "border": null,
            "bottom": null,
            "display": null,
            "flex": null,
            "flex_flow": null,
            "grid_area": null,
            "grid_auto_columns": null,
            "grid_auto_flow": null,
            "grid_auto_rows": null,
            "grid_column": null,
            "grid_gap": null,
            "grid_row": null,
            "grid_template_areas": null,
            "grid_template_columns": null,
            "grid_template_rows": null,
            "height": null,
            "justify_content": null,
            "justify_items": null,
            "left": null,
            "margin": null,
            "max_height": null,
            "max_width": null,
            "min_height": null,
            "min_width": null,
            "object_fit": null,
            "object_position": null,
            "order": null,
            "overflow": null,
            "overflow_x": null,
            "overflow_y": null,
            "padding": null,
            "right": null,
            "top": null,
            "visibility": null,
            "width": null
          }
        },
        "9110d33c8556498b83dbe271ffc61343": {
          "model_module": "@jupyter-widgets/controls",
          "model_name": "ProgressStyleModel",
          "model_module_version": "1.5.0",
          "state": {
            "_model_module": "@jupyter-widgets/controls",
            "_model_module_version": "1.5.0",
            "_model_name": "ProgressStyleModel",
            "_view_count": null,
            "_view_module": "@jupyter-widgets/base",
            "_view_module_version": "1.2.0",
            "_view_name": "StyleView",
            "bar_color": null,
            "description_width": ""
          }
        },
        "3552ecb9912a495faac6b0e66bfc9f82": {
          "model_module": "@jupyter-widgets/base",
          "model_name": "LayoutModel",
          "model_module_version": "1.2.0",
          "state": {
            "_model_module": "@jupyter-widgets/base",
            "_model_module_version": "1.2.0",
            "_model_name": "LayoutModel",
            "_view_count": null,
            "_view_module": "@jupyter-widgets/base",
            "_view_module_version": "1.2.0",
            "_view_name": "LayoutView",
            "align_content": null,
            "align_items": null,
            "align_self": null,
            "border": null,
            "bottom": null,
            "display": null,
            "flex": null,
            "flex_flow": null,
            "grid_area": null,
            "grid_auto_columns": null,
            "grid_auto_flow": null,
            "grid_auto_rows": null,
            "grid_column": null,
            "grid_gap": null,
            "grid_row": null,
            "grid_template_areas": null,
            "grid_template_columns": null,
            "grid_template_rows": null,
            "height": null,
            "justify_content": null,
            "justify_items": null,
            "left": null,
            "margin": null,
            "max_height": null,
            "max_width": null,
            "min_height": null,
            "min_width": null,
            "object_fit": null,
            "object_position": null,
            "order": null,
            "overflow": null,
            "overflow_x": null,
            "overflow_y": null,
            "padding": null,
            "right": null,
            "top": null,
            "visibility": null,
            "width": null
          }
        },
        "84f7842962444c67af2ea494fcf43958": {
          "model_module": "@jupyter-widgets/controls",
          "model_name": "DescriptionStyleModel",
          "model_module_version": "1.5.0",
          "state": {
            "_model_module": "@jupyter-widgets/controls",
            "_model_module_version": "1.5.0",
            "_model_name": "DescriptionStyleModel",
            "_view_count": null,
            "_view_module": "@jupyter-widgets/base",
            "_view_module_version": "1.2.0",
            "_view_name": "StyleView",
            "description_width": ""
          }
        },
        "b5e2ea146678404c9db1d08d67908523": {
          "model_module": "@jupyter-widgets/controls",
          "model_name": "HBoxModel",
          "model_module_version": "1.5.0",
          "state": {
            "_dom_classes": [],
            "_model_module": "@jupyter-widgets/controls",
            "_model_module_version": "1.5.0",
            "_model_name": "HBoxModel",
            "_view_count": null,
            "_view_module": "@jupyter-widgets/controls",
            "_view_module_version": "1.5.0",
            "_view_name": "HBoxView",
            "box_style": "",
            "children": [
              "IPY_MODEL_f8cbe60bb3124c2bad36a7f0a95aa87e",
              "IPY_MODEL_4f3b97eae25147f3ac04abf226a82a3f",
              "IPY_MODEL_a231331dbdd648fa84c61532d415e8cf"
            ],
            "layout": "IPY_MODEL_68fd24608f3445f2bfdab9991ac9d7ba"
          }
        },
        "f8cbe60bb3124c2bad36a7f0a95aa87e": {
          "model_module": "@jupyter-widgets/controls",
          "model_name": "HTMLModel",
          "model_module_version": "1.5.0",
          "state": {
            "_dom_classes": [],
            "_model_module": "@jupyter-widgets/controls",
            "_model_module_version": "1.5.0",
            "_model_name": "HTMLModel",
            "_view_count": null,
            "_view_module": "@jupyter-widgets/controls",
            "_view_module_version": "1.5.0",
            "_view_name": "HTMLView",
            "description": "",
            "description_tooltip": null,
            "layout": "IPY_MODEL_9827afbf40a4441a99ef1e5d75bdd4a9",
            "placeholder": "​",
            "style": "IPY_MODEL_85c227e962ce498a9027042064d76dcb",
            "value": "Generating train split: 100%"
          }
        },
        "4f3b97eae25147f3ac04abf226a82a3f": {
          "model_module": "@jupyter-widgets/controls",
          "model_name": "FloatProgressModel",
          "model_module_version": "1.5.0",
          "state": {
            "_dom_classes": [],
            "_model_module": "@jupyter-widgets/controls",
            "_model_module_version": "1.5.0",
            "_model_name": "FloatProgressModel",
            "_view_count": null,
            "_view_module": "@jupyter-widgets/controls",
            "_view_module_version": "1.5.0",
            "_view_name": "ProgressView",
            "bar_style": "success",
            "description": "",
            "description_tooltip": null,
            "layout": "IPY_MODEL_90fe292742a340938e7cd28ef58f3b35",
            "max": 4869,
            "min": 0,
            "orientation": "horizontal",
            "style": "IPY_MODEL_8e3d95a653514b799333482df539a6a7",
            "value": 4869
          }
        },
        "a231331dbdd648fa84c61532d415e8cf": {
          "model_module": "@jupyter-widgets/controls",
          "model_name": "HTMLModel",
          "model_module_version": "1.5.0",
          "state": {
            "_dom_classes": [],
            "_model_module": "@jupyter-widgets/controls",
            "_model_module_version": "1.5.0",
            "_model_name": "HTMLModel",
            "_view_count": null,
            "_view_module": "@jupyter-widgets/controls",
            "_view_module_version": "1.5.0",
            "_view_name": "HTMLView",
            "description": "",
            "description_tooltip": null,
            "layout": "IPY_MODEL_28cd290f7ee44f1f8ed545434089bbb7",
            "placeholder": "​",
            "style": "IPY_MODEL_0f5ca9a7227642ba904154dfa1e4de41",
            "value": " 4869/4869 [00:00&lt;00:00, 9645.57 examples/s]"
          }
        },
        "68fd24608f3445f2bfdab9991ac9d7ba": {
          "model_module": "@jupyter-widgets/base",
          "model_name": "LayoutModel",
          "model_module_version": "1.2.0",
          "state": {
            "_model_module": "@jupyter-widgets/base",
            "_model_module_version": "1.2.0",
            "_model_name": "LayoutModel",
            "_view_count": null,
            "_view_module": "@jupyter-widgets/base",
            "_view_module_version": "1.2.0",
            "_view_name": "LayoutView",
            "align_content": null,
            "align_items": null,
            "align_self": null,
            "border": null,
            "bottom": null,
            "display": null,
            "flex": null,
            "flex_flow": null,
            "grid_area": null,
            "grid_auto_columns": null,
            "grid_auto_flow": null,
            "grid_auto_rows": null,
            "grid_column": null,
            "grid_gap": null,
            "grid_row": null,
            "grid_template_areas": null,
            "grid_template_columns": null,
            "grid_template_rows": null,
            "height": null,
            "justify_content": null,
            "justify_items": null,
            "left": null,
            "margin": null,
            "max_height": null,
            "max_width": null,
            "min_height": null,
            "min_width": null,
            "object_fit": null,
            "object_position": null,
            "order": null,
            "overflow": null,
            "overflow_x": null,
            "overflow_y": null,
            "padding": null,
            "right": null,
            "top": null,
            "visibility": null,
            "width": null
          }
        },
        "9827afbf40a4441a99ef1e5d75bdd4a9": {
          "model_module": "@jupyter-widgets/base",
          "model_name": "LayoutModel",
          "model_module_version": "1.2.0",
          "state": {
            "_model_module": "@jupyter-widgets/base",
            "_model_module_version": "1.2.0",
            "_model_name": "LayoutModel",
            "_view_count": null,
            "_view_module": "@jupyter-widgets/base",
            "_view_module_version": "1.2.0",
            "_view_name": "LayoutView",
            "align_content": null,
            "align_items": null,
            "align_self": null,
            "border": null,
            "bottom": null,
            "display": null,
            "flex": null,
            "flex_flow": null,
            "grid_area": null,
            "grid_auto_columns": null,
            "grid_auto_flow": null,
            "grid_auto_rows": null,
            "grid_column": null,
            "grid_gap": null,
            "grid_row": null,
            "grid_template_areas": null,
            "grid_template_columns": null,
            "grid_template_rows": null,
            "height": null,
            "justify_content": null,
            "justify_items": null,
            "left": null,
            "margin": null,
            "max_height": null,
            "max_width": null,
            "min_height": null,
            "min_width": null,
            "object_fit": null,
            "object_position": null,
            "order": null,
            "overflow": null,
            "overflow_x": null,
            "overflow_y": null,
            "padding": null,
            "right": null,
            "top": null,
            "visibility": null,
            "width": null
          }
        },
        "85c227e962ce498a9027042064d76dcb": {
          "model_module": "@jupyter-widgets/controls",
          "model_name": "DescriptionStyleModel",
          "model_module_version": "1.5.0",
          "state": {
            "_model_module": "@jupyter-widgets/controls",
            "_model_module_version": "1.5.0",
            "_model_name": "DescriptionStyleModel",
            "_view_count": null,
            "_view_module": "@jupyter-widgets/base",
            "_view_module_version": "1.2.0",
            "_view_name": "StyleView",
            "description_width": ""
          }
        },
        "90fe292742a340938e7cd28ef58f3b35": {
          "model_module": "@jupyter-widgets/base",
          "model_name": "LayoutModel",
          "model_module_version": "1.2.0",
          "state": {
            "_model_module": "@jupyter-widgets/base",
            "_model_module_version": "1.2.0",
            "_model_name": "LayoutModel",
            "_view_count": null,
            "_view_module": "@jupyter-widgets/base",
            "_view_module_version": "1.2.0",
            "_view_name": "LayoutView",
            "align_content": null,
            "align_items": null,
            "align_self": null,
            "border": null,
            "bottom": null,
            "display": null,
            "flex": null,
            "flex_flow": null,
            "grid_area": null,
            "grid_auto_columns": null,
            "grid_auto_flow": null,
            "grid_auto_rows": null,
            "grid_column": null,
            "grid_gap": null,
            "grid_row": null,
            "grid_template_areas": null,
            "grid_template_columns": null,
            "grid_template_rows": null,
            "height": null,
            "justify_content": null,
            "justify_items": null,
            "left": null,
            "margin": null,
            "max_height": null,
            "max_width": null,
            "min_height": null,
            "min_width": null,
            "object_fit": null,
            "object_position": null,
            "order": null,
            "overflow": null,
            "overflow_x": null,
            "overflow_y": null,
            "padding": null,
            "right": null,
            "top": null,
            "visibility": null,
            "width": null
          }
        },
        "8e3d95a653514b799333482df539a6a7": {
          "model_module": "@jupyter-widgets/controls",
          "model_name": "ProgressStyleModel",
          "model_module_version": "1.5.0",
          "state": {
            "_model_module": "@jupyter-widgets/controls",
            "_model_module_version": "1.5.0",
            "_model_name": "ProgressStyleModel",
            "_view_count": null,
            "_view_module": "@jupyter-widgets/base",
            "_view_module_version": "1.2.0",
            "_view_name": "StyleView",
            "bar_color": null,
            "description_width": ""
          }
        },
        "28cd290f7ee44f1f8ed545434089bbb7": {
          "model_module": "@jupyter-widgets/base",
          "model_name": "LayoutModel",
          "model_module_version": "1.2.0",
          "state": {
            "_model_module": "@jupyter-widgets/base",
            "_model_module_version": "1.2.0",
            "_model_name": "LayoutModel",
            "_view_count": null,
            "_view_module": "@jupyter-widgets/base",
            "_view_module_version": "1.2.0",
            "_view_name": "LayoutView",
            "align_content": null,
            "align_items": null,
            "align_self": null,
            "border": null,
            "bottom": null,
            "display": null,
            "flex": null,
            "flex_flow": null,
            "grid_area": null,
            "grid_auto_columns": null,
            "grid_auto_flow": null,
            "grid_auto_rows": null,
            "grid_column": null,
            "grid_gap": null,
            "grid_row": null,
            "grid_template_areas": null,
            "grid_template_columns": null,
            "grid_template_rows": null,
            "height": null,
            "justify_content": null,
            "justify_items": null,
            "left": null,
            "margin": null,
            "max_height": null,
            "max_width": null,
            "min_height": null,
            "min_width": null,
            "object_fit": null,
            "object_position": null,
            "order": null,
            "overflow": null,
            "overflow_x": null,
            "overflow_y": null,
            "padding": null,
            "right": null,
            "top": null,
            "visibility": null,
            "width": null
          }
        },
        "0f5ca9a7227642ba904154dfa1e4de41": {
          "model_module": "@jupyter-widgets/controls",
          "model_name": "DescriptionStyleModel",
          "model_module_version": "1.5.0",
          "state": {
            "_model_module": "@jupyter-widgets/controls",
            "_model_module_version": "1.5.0",
            "_model_name": "DescriptionStyleModel",
            "_view_count": null,
            "_view_module": "@jupyter-widgets/base",
            "_view_module_version": "1.2.0",
            "_view_name": "StyleView",
            "description_width": ""
          }
        },
        "7be5b685e69e4dc98054460622c4ec61": {
          "model_module": "@jupyter-widgets/controls",
          "model_name": "HBoxModel",
          "model_module_version": "1.5.0",
          "state": {
            "_dom_classes": [],
            "_model_module": "@jupyter-widgets/controls",
            "_model_module_version": "1.5.0",
            "_model_name": "HBoxModel",
            "_view_count": null,
            "_view_module": "@jupyter-widgets/controls",
            "_view_module_version": "1.5.0",
            "_view_name": "HBoxView",
            "box_style": "",
            "children": [
              "IPY_MODEL_7b21c2802cfb402e9d264772b7addda7",
              "IPY_MODEL_00abc6570a264589971e8847e594bdc6",
              "IPY_MODEL_2950b8611f3c4520b790a1241685949e"
            ],
            "layout": "IPY_MODEL_2195f1e38c684a708bd79ccc9b17848b"
          }
        },
        "7b21c2802cfb402e9d264772b7addda7": {
          "model_module": "@jupyter-widgets/controls",
          "model_name": "HTMLModel",
          "model_module_version": "1.5.0",
          "state": {
            "_dom_classes": [],
            "_model_module": "@jupyter-widgets/controls",
            "_model_module_version": "1.5.0",
            "_model_name": "HTMLModel",
            "_view_count": null,
            "_view_module": "@jupyter-widgets/controls",
            "_view_module_version": "1.5.0",
            "_view_name": "HTMLView",
            "description": "",
            "description_tooltip": null,
            "layout": "IPY_MODEL_ec6d2cba6a7440c2bc8f7629349cf06c",
            "placeholder": "​",
            "style": "IPY_MODEL_cb26b93e075a4632896b0d77ddaf9eaf",
            "value": "Generating validation split: 100%"
          }
        },
        "00abc6570a264589971e8847e594bdc6": {
          "model_module": "@jupyter-widgets/controls",
          "model_name": "FloatProgressModel",
          "model_module_version": "1.5.0",
          "state": {
            "_dom_classes": [],
            "_model_module": "@jupyter-widgets/controls",
            "_model_module_version": "1.5.0",
            "_model_name": "FloatProgressModel",
            "_view_count": null,
            "_view_module": "@jupyter-widgets/controls",
            "_view_module_version": "1.5.0",
            "_view_name": "ProgressView",
            "bar_style": "success",
            "description": "",
            "description_tooltip": null,
            "layout": "IPY_MODEL_a87ce9ee95f14bed957f22f2e4a9b820",
            "max": 1390,
            "min": 0,
            "orientation": "horizontal",
            "style": "IPY_MODEL_113ba92701944274933ef3cd4015cf69",
            "value": 1390
          }
        },
        "2950b8611f3c4520b790a1241685949e": {
          "model_module": "@jupyter-widgets/controls",
          "model_name": "HTMLModel",
          "model_module_version": "1.5.0",
          "state": {
            "_dom_classes": [],
            "_model_module": "@jupyter-widgets/controls",
            "_model_module_version": "1.5.0",
            "_model_name": "HTMLModel",
            "_view_count": null,
            "_view_module": "@jupyter-widgets/controls",
            "_view_module_version": "1.5.0",
            "_view_name": "HTMLView",
            "description": "",
            "description_tooltip": null,
            "layout": "IPY_MODEL_fd406d4acb5946bca163610d3cdd6c98",
            "placeholder": "​",
            "style": "IPY_MODEL_fbe3f2683f0b4c5682eca59afe2a29e9",
            "value": " 1390/1390 [00:00&lt;00:00, 12306.61 examples/s]"
          }
        },
        "2195f1e38c684a708bd79ccc9b17848b": {
          "model_module": "@jupyter-widgets/base",
          "model_name": "LayoutModel",
          "model_module_version": "1.2.0",
          "state": {
            "_model_module": "@jupyter-widgets/base",
            "_model_module_version": "1.2.0",
            "_model_name": "LayoutModel",
            "_view_count": null,
            "_view_module": "@jupyter-widgets/base",
            "_view_module_version": "1.2.0",
            "_view_name": "LayoutView",
            "align_content": null,
            "align_items": null,
            "align_self": null,
            "border": null,
            "bottom": null,
            "display": null,
            "flex": null,
            "flex_flow": null,
            "grid_area": null,
            "grid_auto_columns": null,
            "grid_auto_flow": null,
            "grid_auto_rows": null,
            "grid_column": null,
            "grid_gap": null,
            "grid_row": null,
            "grid_template_areas": null,
            "grid_template_columns": null,
            "grid_template_rows": null,
            "height": null,
            "justify_content": null,
            "justify_items": null,
            "left": null,
            "margin": null,
            "max_height": null,
            "max_width": null,
            "min_height": null,
            "min_width": null,
            "object_fit": null,
            "object_position": null,
            "order": null,
            "overflow": null,
            "overflow_x": null,
            "overflow_y": null,
            "padding": null,
            "right": null,
            "top": null,
            "visibility": null,
            "width": null
          }
        },
        "ec6d2cba6a7440c2bc8f7629349cf06c": {
          "model_module": "@jupyter-widgets/base",
          "model_name": "LayoutModel",
          "model_module_version": "1.2.0",
          "state": {
            "_model_module": "@jupyter-widgets/base",
            "_model_module_version": "1.2.0",
            "_model_name": "LayoutModel",
            "_view_count": null,
            "_view_module": "@jupyter-widgets/base",
            "_view_module_version": "1.2.0",
            "_view_name": "LayoutView",
            "align_content": null,
            "align_items": null,
            "align_self": null,
            "border": null,
            "bottom": null,
            "display": null,
            "flex": null,
            "flex_flow": null,
            "grid_area": null,
            "grid_auto_columns": null,
            "grid_auto_flow": null,
            "grid_auto_rows": null,
            "grid_column": null,
            "grid_gap": null,
            "grid_row": null,
            "grid_template_areas": null,
            "grid_template_columns": null,
            "grid_template_rows": null,
            "height": null,
            "justify_content": null,
            "justify_items": null,
            "left": null,
            "margin": null,
            "max_height": null,
            "max_width": null,
            "min_height": null,
            "min_width": null,
            "object_fit": null,
            "object_position": null,
            "order": null,
            "overflow": null,
            "overflow_x": null,
            "overflow_y": null,
            "padding": null,
            "right": null,
            "top": null,
            "visibility": null,
            "width": null
          }
        },
        "cb26b93e075a4632896b0d77ddaf9eaf": {
          "model_module": "@jupyter-widgets/controls",
          "model_name": "DescriptionStyleModel",
          "model_module_version": "1.5.0",
          "state": {
            "_model_module": "@jupyter-widgets/controls",
            "_model_module_version": "1.5.0",
            "_model_name": "DescriptionStyleModel",
            "_view_count": null,
            "_view_module": "@jupyter-widgets/base",
            "_view_module_version": "1.2.0",
            "_view_name": "StyleView",
            "description_width": ""
          }
        },
        "a87ce9ee95f14bed957f22f2e4a9b820": {
          "model_module": "@jupyter-widgets/base",
          "model_name": "LayoutModel",
          "model_module_version": "1.2.0",
          "state": {
            "_model_module": "@jupyter-widgets/base",
            "_model_module_version": "1.2.0",
            "_model_name": "LayoutModel",
            "_view_count": null,
            "_view_module": "@jupyter-widgets/base",
            "_view_module_version": "1.2.0",
            "_view_name": "LayoutView",
            "align_content": null,
            "align_items": null,
            "align_self": null,
            "border": null,
            "bottom": null,
            "display": null,
            "flex": null,
            "flex_flow": null,
            "grid_area": null,
            "grid_auto_columns": null,
            "grid_auto_flow": null,
            "grid_auto_rows": null,
            "grid_column": null,
            "grid_gap": null,
            "grid_row": null,
            "grid_template_areas": null,
            "grid_template_columns": null,
            "grid_template_rows": null,
            "height": null,
            "justify_content": null,
            "justify_items": null,
            "left": null,
            "margin": null,
            "max_height": null,
            "max_width": null,
            "min_height": null,
            "min_width": null,
            "object_fit": null,
            "object_position": null,
            "order": null,
            "overflow": null,
            "overflow_x": null,
            "overflow_y": null,
            "padding": null,
            "right": null,
            "top": null,
            "visibility": null,
            "width": null
          }
        },
        "113ba92701944274933ef3cd4015cf69": {
          "model_module": "@jupyter-widgets/controls",
          "model_name": "ProgressStyleModel",
          "model_module_version": "1.5.0",
          "state": {
            "_model_module": "@jupyter-widgets/controls",
            "_model_module_version": "1.5.0",
            "_model_name": "ProgressStyleModel",
            "_view_count": null,
            "_view_module": "@jupyter-widgets/base",
            "_view_module_version": "1.2.0",
            "_view_name": "StyleView",
            "bar_color": null,
            "description_width": ""
          }
        },
        "fd406d4acb5946bca163610d3cdd6c98": {
          "model_module": "@jupyter-widgets/base",
          "model_name": "LayoutModel",
          "model_module_version": "1.2.0",
          "state": {
            "_model_module": "@jupyter-widgets/base",
            "_model_module_version": "1.2.0",
            "_model_name": "LayoutModel",
            "_view_count": null,
            "_view_module": "@jupyter-widgets/base",
            "_view_module_version": "1.2.0",
            "_view_name": "LayoutView",
            "align_content": null,
            "align_items": null,
            "align_self": null,
            "border": null,
            "bottom": null,
            "display": null,
            "flex": null,
            "flex_flow": null,
            "grid_area": null,
            "grid_auto_columns": null,
            "grid_auto_flow": null,
            "grid_auto_rows": null,
            "grid_column": null,
            "grid_gap": null,
            "grid_row": null,
            "grid_template_areas": null,
            "grid_template_columns": null,
            "grid_template_rows": null,
            "height": null,
            "justify_content": null,
            "justify_items": null,
            "left": null,
            "margin": null,
            "max_height": null,
            "max_width": null,
            "min_height": null,
            "min_width": null,
            "object_fit": null,
            "object_position": null,
            "order": null,
            "overflow": null,
            "overflow_x": null,
            "overflow_y": null,
            "padding": null,
            "right": null,
            "top": null,
            "visibility": null,
            "width": null
          }
        },
        "fbe3f2683f0b4c5682eca59afe2a29e9": {
          "model_module": "@jupyter-widgets/controls",
          "model_name": "DescriptionStyleModel",
          "model_module_version": "1.5.0",
          "state": {
            "_model_module": "@jupyter-widgets/controls",
            "_model_module_version": "1.5.0",
            "_model_name": "DescriptionStyleModel",
            "_view_count": null,
            "_view_module": "@jupyter-widgets/base",
            "_view_module_version": "1.2.0",
            "_view_name": "StyleView",
            "description_width": ""
          }
        },
        "3ce9ebcd222940b492914e83db04a65d": {
          "model_module": "@jupyter-widgets/controls",
          "model_name": "HBoxModel",
          "model_module_version": "1.5.0",
          "state": {
            "_dom_classes": [],
            "_model_module": "@jupyter-widgets/controls",
            "_model_module_version": "1.5.0",
            "_model_name": "HBoxModel",
            "_view_count": null,
            "_view_module": "@jupyter-widgets/controls",
            "_view_module_version": "1.5.0",
            "_view_name": "HBoxView",
            "box_style": "",
            "children": [
              "IPY_MODEL_7abdcdaf9330426ea723bd0b4ff92590",
              "IPY_MODEL_963edd4e85414bfc83bab37dffda1867",
              "IPY_MODEL_4171fab180fe45a8a5ced67bbd6e6b72"
            ],
            "layout": "IPY_MODEL_46287c2bedf841068e3c7c3f4f1caa67"
          }
        },
        "7abdcdaf9330426ea723bd0b4ff92590": {
          "model_module": "@jupyter-widgets/controls",
          "model_name": "HTMLModel",
          "model_module_version": "1.5.0",
          "state": {
            "_dom_classes": [],
            "_model_module": "@jupyter-widgets/controls",
            "_model_module_version": "1.5.0",
            "_model_name": "HTMLModel",
            "_view_count": null,
            "_view_module": "@jupyter-widgets/controls",
            "_view_module_version": "1.5.0",
            "_view_name": "HTMLView",
            "description": "",
            "description_tooltip": null,
            "layout": "IPY_MODEL_ede378da005e4883b1f9059142bb4e60",
            "placeholder": "​",
            "style": "IPY_MODEL_0d7c10fe494341878e06306f0f20761d",
            "value": "Generating test split: 100%"
          }
        },
        "963edd4e85414bfc83bab37dffda1867": {
          "model_module": "@jupyter-widgets/controls",
          "model_name": "FloatProgressModel",
          "model_module_version": "1.5.0",
          "state": {
            "_dom_classes": [],
            "_model_module": "@jupyter-widgets/controls",
            "_model_module_version": "1.5.0",
            "_model_name": "FloatProgressModel",
            "_view_count": null,
            "_view_module": "@jupyter-widgets/controls",
            "_view_module_version": "1.5.0",
            "_view_name": "ProgressView",
            "bar_style": "success",
            "description": "",
            "description_tooltip": null,
            "layout": "IPY_MODEL_d127d4a8a0874ea4add8351c43c4d7bb",
            "max": 732,
            "min": 0,
            "orientation": "horizontal",
            "style": "IPY_MODEL_29f3e81683424c4585b393fb87c5bf4e",
            "value": 732
          }
        },
        "4171fab180fe45a8a5ced67bbd6e6b72": {
          "model_module": "@jupyter-widgets/controls",
          "model_name": "HTMLModel",
          "model_module_version": "1.5.0",
          "state": {
            "_dom_classes": [],
            "_model_module": "@jupyter-widgets/controls",
            "_model_module_version": "1.5.0",
            "_model_name": "HTMLModel",
            "_view_count": null,
            "_view_module": "@jupyter-widgets/controls",
            "_view_module_version": "1.5.0",
            "_view_name": "HTMLView",
            "description": "",
            "description_tooltip": null,
            "layout": "IPY_MODEL_0cef59da97f347a6a71f246f58db263a",
            "placeholder": "​",
            "style": "IPY_MODEL_cc1ca27c92e34821a2adc57a0107a62b",
            "value": " 732/732 [00:00&lt;00:00, 8326.88 examples/s]"
          }
        },
        "46287c2bedf841068e3c7c3f4f1caa67": {
          "model_module": "@jupyter-widgets/base",
          "model_name": "LayoutModel",
          "model_module_version": "1.2.0",
          "state": {
            "_model_module": "@jupyter-widgets/base",
            "_model_module_version": "1.2.0",
            "_model_name": "LayoutModel",
            "_view_count": null,
            "_view_module": "@jupyter-widgets/base",
            "_view_module_version": "1.2.0",
            "_view_name": "LayoutView",
            "align_content": null,
            "align_items": null,
            "align_self": null,
            "border": null,
            "bottom": null,
            "display": null,
            "flex": null,
            "flex_flow": null,
            "grid_area": null,
            "grid_auto_columns": null,
            "grid_auto_flow": null,
            "grid_auto_rows": null,
            "grid_column": null,
            "grid_gap": null,
            "grid_row": null,
            "grid_template_areas": null,
            "grid_template_columns": null,
            "grid_template_rows": null,
            "height": null,
            "justify_content": null,
            "justify_items": null,
            "left": null,
            "margin": null,
            "max_height": null,
            "max_width": null,
            "min_height": null,
            "min_width": null,
            "object_fit": null,
            "object_position": null,
            "order": null,
            "overflow": null,
            "overflow_x": null,
            "overflow_y": null,
            "padding": null,
            "right": null,
            "top": null,
            "visibility": null,
            "width": null
          }
        },
        "ede378da005e4883b1f9059142bb4e60": {
          "model_module": "@jupyter-widgets/base",
          "model_name": "LayoutModel",
          "model_module_version": "1.2.0",
          "state": {
            "_model_module": "@jupyter-widgets/base",
            "_model_module_version": "1.2.0",
            "_model_name": "LayoutModel",
            "_view_count": null,
            "_view_module": "@jupyter-widgets/base",
            "_view_module_version": "1.2.0",
            "_view_name": "LayoutView",
            "align_content": null,
            "align_items": null,
            "align_self": null,
            "border": null,
            "bottom": null,
            "display": null,
            "flex": null,
            "flex_flow": null,
            "grid_area": null,
            "grid_auto_columns": null,
            "grid_auto_flow": null,
            "grid_auto_rows": null,
            "grid_column": null,
            "grid_gap": null,
            "grid_row": null,
            "grid_template_areas": null,
            "grid_template_columns": null,
            "grid_template_rows": null,
            "height": null,
            "justify_content": null,
            "justify_items": null,
            "left": null,
            "margin": null,
            "max_height": null,
            "max_width": null,
            "min_height": null,
            "min_width": null,
            "object_fit": null,
            "object_position": null,
            "order": null,
            "overflow": null,
            "overflow_x": null,
            "overflow_y": null,
            "padding": null,
            "right": null,
            "top": null,
            "visibility": null,
            "width": null
          }
        },
        "0d7c10fe494341878e06306f0f20761d": {
          "model_module": "@jupyter-widgets/controls",
          "model_name": "DescriptionStyleModel",
          "model_module_version": "1.5.0",
          "state": {
            "_model_module": "@jupyter-widgets/controls",
            "_model_module_version": "1.5.0",
            "_model_name": "DescriptionStyleModel",
            "_view_count": null,
            "_view_module": "@jupyter-widgets/base",
            "_view_module_version": "1.2.0",
            "_view_name": "StyleView",
            "description_width": ""
          }
        },
        "d127d4a8a0874ea4add8351c43c4d7bb": {
          "model_module": "@jupyter-widgets/base",
          "model_name": "LayoutModel",
          "model_module_version": "1.2.0",
          "state": {
            "_model_module": "@jupyter-widgets/base",
            "_model_module_version": "1.2.0",
            "_model_name": "LayoutModel",
            "_view_count": null,
            "_view_module": "@jupyter-widgets/base",
            "_view_module_version": "1.2.0",
            "_view_name": "LayoutView",
            "align_content": null,
            "align_items": null,
            "align_self": null,
            "border": null,
            "bottom": null,
            "display": null,
            "flex": null,
            "flex_flow": null,
            "grid_area": null,
            "grid_auto_columns": null,
            "grid_auto_flow": null,
            "grid_auto_rows": null,
            "grid_column": null,
            "grid_gap": null,
            "grid_row": null,
            "grid_template_areas": null,
            "grid_template_columns": null,
            "grid_template_rows": null,
            "height": null,
            "justify_content": null,
            "justify_items": null,
            "left": null,
            "margin": null,
            "max_height": null,
            "max_width": null,
            "min_height": null,
            "min_width": null,
            "object_fit": null,
            "object_position": null,
            "order": null,
            "overflow": null,
            "overflow_x": null,
            "overflow_y": null,
            "padding": null,
            "right": null,
            "top": null,
            "visibility": null,
            "width": null
          }
        },
        "29f3e81683424c4585b393fb87c5bf4e": {
          "model_module": "@jupyter-widgets/controls",
          "model_name": "ProgressStyleModel",
          "model_module_version": "1.5.0",
          "state": {
            "_model_module": "@jupyter-widgets/controls",
            "_model_module_version": "1.5.0",
            "_model_name": "ProgressStyleModel",
            "_view_count": null,
            "_view_module": "@jupyter-widgets/base",
            "_view_module_version": "1.2.0",
            "_view_name": "StyleView",
            "bar_color": null,
            "description_width": ""
          }
        },
        "0cef59da97f347a6a71f246f58db263a": {
          "model_module": "@jupyter-widgets/base",
          "model_name": "LayoutModel",
          "model_module_version": "1.2.0",
          "state": {
            "_model_module": "@jupyter-widgets/base",
            "_model_module_version": "1.2.0",
            "_model_name": "LayoutModel",
            "_view_count": null,
            "_view_module": "@jupyter-widgets/base",
            "_view_module_version": "1.2.0",
            "_view_name": "LayoutView",
            "align_content": null,
            "align_items": null,
            "align_self": null,
            "border": null,
            "bottom": null,
            "display": null,
            "flex": null,
            "flex_flow": null,
            "grid_area": null,
            "grid_auto_columns": null,
            "grid_auto_flow": null,
            "grid_auto_rows": null,
            "grid_column": null,
            "grid_gap": null,
            "grid_row": null,
            "grid_template_areas": null,
            "grid_template_columns": null,
            "grid_template_rows": null,
            "height": null,
            "justify_content": null,
            "justify_items": null,
            "left": null,
            "margin": null,
            "max_height": null,
            "max_width": null,
            "min_height": null,
            "min_width": null,
            "object_fit": null,
            "object_position": null,
            "order": null,
            "overflow": null,
            "overflow_x": null,
            "overflow_y": null,
            "padding": null,
            "right": null,
            "top": null,
            "visibility": null,
            "width": null
          }
        },
        "cc1ca27c92e34821a2adc57a0107a62b": {
          "model_module": "@jupyter-widgets/controls",
          "model_name": "DescriptionStyleModel",
          "model_module_version": "1.5.0",
          "state": {
            "_model_module": "@jupyter-widgets/controls",
            "_model_module_version": "1.5.0",
            "_model_name": "DescriptionStyleModel",
            "_view_count": null,
            "_view_module": "@jupyter-widgets/base",
            "_view_module_version": "1.2.0",
            "_view_name": "StyleView",
            "description_width": ""
          }
        },
        "7cddf6f30c24443d9d710dc8ba52f0a2": {
          "model_module": "@jupyter-widgets/controls",
          "model_name": "HBoxModel",
          "model_module_version": "1.5.0",
          "state": {
            "_dom_classes": [],
            "_model_module": "@jupyter-widgets/controls",
            "_model_module_version": "1.5.0",
            "_model_name": "HBoxModel",
            "_view_count": null,
            "_view_module": "@jupyter-widgets/controls",
            "_view_module_version": "1.5.0",
            "_view_name": "HBoxView",
            "box_style": "",
            "children": [
              "IPY_MODEL_6979787ee5da41109af9d4aee5fe81bd",
              "IPY_MODEL_de6a3dfbc516495ea279a579b7eff371",
              "IPY_MODEL_34b8c7bc0c9c4d0b949f6b981a3b23e6"
            ],
            "layout": "IPY_MODEL_5f6776ac7a67471a89d891b5eea27472"
          }
        },
        "6979787ee5da41109af9d4aee5fe81bd": {
          "model_module": "@jupyter-widgets/controls",
          "model_name": "HTMLModel",
          "model_module_version": "1.5.0",
          "state": {
            "_dom_classes": [],
            "_model_module": "@jupyter-widgets/controls",
            "_model_module_version": "1.5.0",
            "_model_name": "HTMLModel",
            "_view_count": null,
            "_view_module": "@jupyter-widgets/controls",
            "_view_module_version": "1.5.0",
            "_view_name": "HTMLView",
            "description": "",
            "description_tooltip": null,
            "layout": "IPY_MODEL_b7621ce13ad64fdd8d0786d630a7dfcb",
            "placeholder": "​",
            "style": "IPY_MODEL_cc38445bd03841a2b8dbd2cf3b301b29",
            "value": "Downloading builder script: "
          }
        },
        "de6a3dfbc516495ea279a579b7eff371": {
          "model_module": "@jupyter-widgets/controls",
          "model_name": "FloatProgressModel",
          "model_module_version": "1.5.0",
          "state": {
            "_dom_classes": [],
            "_model_module": "@jupyter-widgets/controls",
            "_model_module_version": "1.5.0",
            "_model_name": "FloatProgressModel",
            "_view_count": null,
            "_view_module": "@jupyter-widgets/controls",
            "_view_module_version": "1.5.0",
            "_view_name": "ProgressView",
            "bar_style": "success",
            "description": "",
            "description_tooltip": null,
            "layout": "IPY_MODEL_fcca3d6270384cb883db7f73a5d9f62c",
            "max": 1652,
            "min": 0,
            "orientation": "horizontal",
            "style": "IPY_MODEL_62cb2170f5d34793a8d9d4984786a839",
            "value": 1652
          }
        },
        "34b8c7bc0c9c4d0b949f6b981a3b23e6": {
          "model_module": "@jupyter-widgets/controls",
          "model_name": "HTMLModel",
          "model_module_version": "1.5.0",
          "state": {
            "_dom_classes": [],
            "_model_module": "@jupyter-widgets/controls",
            "_model_module_version": "1.5.0",
            "_model_name": "HTMLModel",
            "_view_count": null,
            "_view_module": "@jupyter-widgets/controls",
            "_view_module_version": "1.5.0",
            "_view_name": "HTMLView",
            "description": "",
            "description_tooltip": null,
            "layout": "IPY_MODEL_5090bb0cbb2d4d4b89994cbfbfe2aa4d",
            "placeholder": "​",
            "style": "IPY_MODEL_7ddf62ec3f424976b7e8cf9bbf9beff9",
            "value": " 4.21k/? [00:00&lt;00:00, 60.6kB/s]"
          }
        },
        "5f6776ac7a67471a89d891b5eea27472": {
          "model_module": "@jupyter-widgets/base",
          "model_name": "LayoutModel",
          "model_module_version": "1.2.0",
          "state": {
            "_model_module": "@jupyter-widgets/base",
            "_model_module_version": "1.2.0",
            "_model_name": "LayoutModel",
            "_view_count": null,
            "_view_module": "@jupyter-widgets/base",
            "_view_module_version": "1.2.0",
            "_view_name": "LayoutView",
            "align_content": null,
            "align_items": null,
            "align_self": null,
            "border": null,
            "bottom": null,
            "display": null,
            "flex": null,
            "flex_flow": null,
            "grid_area": null,
            "grid_auto_columns": null,
            "grid_auto_flow": null,
            "grid_auto_rows": null,
            "grid_column": null,
            "grid_gap": null,
            "grid_row": null,
            "grid_template_areas": null,
            "grid_template_columns": null,
            "grid_template_rows": null,
            "height": null,
            "justify_content": null,
            "justify_items": null,
            "left": null,
            "margin": null,
            "max_height": null,
            "max_width": null,
            "min_height": null,
            "min_width": null,
            "object_fit": null,
            "object_position": null,
            "order": null,
            "overflow": null,
            "overflow_x": null,
            "overflow_y": null,
            "padding": null,
            "right": null,
            "top": null,
            "visibility": null,
            "width": null
          }
        },
        "b7621ce13ad64fdd8d0786d630a7dfcb": {
          "model_module": "@jupyter-widgets/base",
          "model_name": "LayoutModel",
          "model_module_version": "1.2.0",
          "state": {
            "_model_module": "@jupyter-widgets/base",
            "_model_module_version": "1.2.0",
            "_model_name": "LayoutModel",
            "_view_count": null,
            "_view_module": "@jupyter-widgets/base",
            "_view_module_version": "1.2.0",
            "_view_name": "LayoutView",
            "align_content": null,
            "align_items": null,
            "align_self": null,
            "border": null,
            "bottom": null,
            "display": null,
            "flex": null,
            "flex_flow": null,
            "grid_area": null,
            "grid_auto_columns": null,
            "grid_auto_flow": null,
            "grid_auto_rows": null,
            "grid_column": null,
            "grid_gap": null,
            "grid_row": null,
            "grid_template_areas": null,
            "grid_template_columns": null,
            "grid_template_rows": null,
            "height": null,
            "justify_content": null,
            "justify_items": null,
            "left": null,
            "margin": null,
            "max_height": null,
            "max_width": null,
            "min_height": null,
            "min_width": null,
            "object_fit": null,
            "object_position": null,
            "order": null,
            "overflow": null,
            "overflow_x": null,
            "overflow_y": null,
            "padding": null,
            "right": null,
            "top": null,
            "visibility": null,
            "width": null
          }
        },
        "cc38445bd03841a2b8dbd2cf3b301b29": {
          "model_module": "@jupyter-widgets/controls",
          "model_name": "DescriptionStyleModel",
          "model_module_version": "1.5.0",
          "state": {
            "_model_module": "@jupyter-widgets/controls",
            "_model_module_version": "1.5.0",
            "_model_name": "DescriptionStyleModel",
            "_view_count": null,
            "_view_module": "@jupyter-widgets/base",
            "_view_module_version": "1.2.0",
            "_view_name": "StyleView",
            "description_width": ""
          }
        },
        "fcca3d6270384cb883db7f73a5d9f62c": {
          "model_module": "@jupyter-widgets/base",
          "model_name": "LayoutModel",
          "model_module_version": "1.2.0",
          "state": {
            "_model_module": "@jupyter-widgets/base",
            "_model_module_version": "1.2.0",
            "_model_name": "LayoutModel",
            "_view_count": null,
            "_view_module": "@jupyter-widgets/base",
            "_view_module_version": "1.2.0",
            "_view_name": "LayoutView",
            "align_content": null,
            "align_items": null,
            "align_self": null,
            "border": null,
            "bottom": null,
            "display": null,
            "flex": null,
            "flex_flow": null,
            "grid_area": null,
            "grid_auto_columns": null,
            "grid_auto_flow": null,
            "grid_auto_rows": null,
            "grid_column": null,
            "grid_gap": null,
            "grid_row": null,
            "grid_template_areas": null,
            "grid_template_columns": null,
            "grid_template_rows": null,
            "height": null,
            "justify_content": null,
            "justify_items": null,
            "left": null,
            "margin": null,
            "max_height": null,
            "max_width": null,
            "min_height": null,
            "min_width": null,
            "object_fit": null,
            "object_position": null,
            "order": null,
            "overflow": null,
            "overflow_x": null,
            "overflow_y": null,
            "padding": null,
            "right": null,
            "top": null,
            "visibility": null,
            "width": null
          }
        },
        "62cb2170f5d34793a8d9d4984786a839": {
          "model_module": "@jupyter-widgets/controls",
          "model_name": "ProgressStyleModel",
          "model_module_version": "1.5.0",
          "state": {
            "_model_module": "@jupyter-widgets/controls",
            "_model_module_version": "1.5.0",
            "_model_name": "ProgressStyleModel",
            "_view_count": null,
            "_view_module": "@jupyter-widgets/base",
            "_view_module_version": "1.2.0",
            "_view_name": "StyleView",
            "bar_color": null,
            "description_width": ""
          }
        },
        "5090bb0cbb2d4d4b89994cbfbfe2aa4d": {
          "model_module": "@jupyter-widgets/base",
          "model_name": "LayoutModel",
          "model_module_version": "1.2.0",
          "state": {
            "_model_module": "@jupyter-widgets/base",
            "_model_module_version": "1.2.0",
            "_model_name": "LayoutModel",
            "_view_count": null,
            "_view_module": "@jupyter-widgets/base",
            "_view_module_version": "1.2.0",
            "_view_name": "LayoutView",
            "align_content": null,
            "align_items": null,
            "align_self": null,
            "border": null,
            "bottom": null,
            "display": null,
            "flex": null,
            "flex_flow": null,
            "grid_area": null,
            "grid_auto_columns": null,
            "grid_auto_flow": null,
            "grid_auto_rows": null,
            "grid_column": null,
            "grid_gap": null,
            "grid_row": null,
            "grid_template_areas": null,
            "grid_template_columns": null,
            "grid_template_rows": null,
            "height": null,
            "justify_content": null,
            "justify_items": null,
            "left": null,
            "margin": null,
            "max_height": null,
            "max_width": null,
            "min_height": null,
            "min_width": null,
            "object_fit": null,
            "object_position": null,
            "order": null,
            "overflow": null,
            "overflow_x": null,
            "overflow_y": null,
            "padding": null,
            "right": null,
            "top": null,
            "visibility": null,
            "width": null
          }
        },
        "7ddf62ec3f424976b7e8cf9bbf9beff9": {
          "model_module": "@jupyter-widgets/controls",
          "model_name": "DescriptionStyleModel",
          "model_module_version": "1.5.0",
          "state": {
            "_model_module": "@jupyter-widgets/controls",
            "_model_module_version": "1.5.0",
            "_model_name": "DescriptionStyleModel",
            "_view_count": null,
            "_view_module": "@jupyter-widgets/base",
            "_view_module_version": "1.2.0",
            "_view_name": "StyleView",
            "description_width": ""
          }
        },
        "8abec6938a1440f7a5bdaa45322d35d7": {
          "model_module": "@jupyter-widgets/controls",
          "model_name": "HBoxModel",
          "model_module_version": "1.5.0",
          "state": {
            "_dom_classes": [],
            "_model_module": "@jupyter-widgets/controls",
            "_model_module_version": "1.5.0",
            "_model_name": "HBoxModel",
            "_view_count": null,
            "_view_module": "@jupyter-widgets/controls",
            "_view_module_version": "1.5.0",
            "_view_name": "HBoxView",
            "box_style": "",
            "children": [
              "IPY_MODEL_8360b8521f3b4d61983e32087166214e",
              "IPY_MODEL_3357d2d881564bd3ad704d7bbbfee1a7",
              "IPY_MODEL_7862715ed2a24dbfbb6b82f1957dad67"
            ],
            "layout": "IPY_MODEL_c6b5e6b8700d451aa27bf300d7fd4251"
          }
        },
        "8360b8521f3b4d61983e32087166214e": {
          "model_module": "@jupyter-widgets/controls",
          "model_name": "HTMLModel",
          "model_module_version": "1.5.0",
          "state": {
            "_dom_classes": [],
            "_model_module": "@jupyter-widgets/controls",
            "_model_module_version": "1.5.0",
            "_model_name": "HTMLModel",
            "_view_count": null,
            "_view_module": "@jupyter-widgets/controls",
            "_view_module_version": "1.5.0",
            "_view_name": "HTMLView",
            "description": "",
            "description_tooltip": null,
            "layout": "IPY_MODEL_5ac9a1edcb554cf78bbce258946db39a",
            "placeholder": "​",
            "style": "IPY_MODEL_f6de3131960e488a8b18b45b7b68ef45",
            "value": "events.out.tfevents.1704087738.495197ec28a5.415.0: 100%"
          }
        },
        "3357d2d881564bd3ad704d7bbbfee1a7": {
          "model_module": "@jupyter-widgets/controls",
          "model_name": "FloatProgressModel",
          "model_module_version": "1.5.0",
          "state": {
            "_dom_classes": [],
            "_model_module": "@jupyter-widgets/controls",
            "_model_module_version": "1.5.0",
            "_model_name": "FloatProgressModel",
            "_view_count": null,
            "_view_module": "@jupyter-widgets/controls",
            "_view_module_version": "1.5.0",
            "_view_name": "ProgressView",
            "bar_style": "success",
            "description": "",
            "description_tooltip": null,
            "layout": "IPY_MODEL_4a040a0ca28c4e3182f2c351f976a5bd",
            "max": 102980,
            "min": 0,
            "orientation": "horizontal",
            "style": "IPY_MODEL_a89fae93612a40e0a7c735e611105eff",
            "value": 102980
          }
        },
        "7862715ed2a24dbfbb6b82f1957dad67": {
          "model_module": "@jupyter-widgets/controls",
          "model_name": "HTMLModel",
          "model_module_version": "1.5.0",
          "state": {
            "_dom_classes": [],
            "_model_module": "@jupyter-widgets/controls",
            "_model_module_version": "1.5.0",
            "_model_name": "HTMLModel",
            "_view_count": null,
            "_view_module": "@jupyter-widgets/controls",
            "_view_module_version": "1.5.0",
            "_view_name": "HTMLView",
            "description": "",
            "description_tooltip": null,
            "layout": "IPY_MODEL_a60d504fa8bb4a83b0ba3c81c4678878",
            "placeholder": "​",
            "style": "IPY_MODEL_a8d8ab5a88234c53adfd0ba946e5e61f",
            "value": " 103k/103k [00:00&lt;00:00, 130kB/s]"
          }
        },
        "c6b5e6b8700d451aa27bf300d7fd4251": {
          "model_module": "@jupyter-widgets/base",
          "model_name": "LayoutModel",
          "model_module_version": "1.2.0",
          "state": {
            "_model_module": "@jupyter-widgets/base",
            "_model_module_version": "1.2.0",
            "_model_name": "LayoutModel",
            "_view_count": null,
            "_view_module": "@jupyter-widgets/base",
            "_view_module_version": "1.2.0",
            "_view_name": "LayoutView",
            "align_content": null,
            "align_items": null,
            "align_self": null,
            "border": null,
            "bottom": null,
            "display": null,
            "flex": null,
            "flex_flow": null,
            "grid_area": null,
            "grid_auto_columns": null,
            "grid_auto_flow": null,
            "grid_auto_rows": null,
            "grid_column": null,
            "grid_gap": null,
            "grid_row": null,
            "grid_template_areas": null,
            "grid_template_columns": null,
            "grid_template_rows": null,
            "height": null,
            "justify_content": null,
            "justify_items": null,
            "left": null,
            "margin": null,
            "max_height": null,
            "max_width": null,
            "min_height": null,
            "min_width": null,
            "object_fit": null,
            "object_position": null,
            "order": null,
            "overflow": null,
            "overflow_x": null,
            "overflow_y": null,
            "padding": null,
            "right": null,
            "top": null,
            "visibility": null,
            "width": null
          }
        },
        "5ac9a1edcb554cf78bbce258946db39a": {
          "model_module": "@jupyter-widgets/base",
          "model_name": "LayoutModel",
          "model_module_version": "1.2.0",
          "state": {
            "_model_module": "@jupyter-widgets/base",
            "_model_module_version": "1.2.0",
            "_model_name": "LayoutModel",
            "_view_count": null,
            "_view_module": "@jupyter-widgets/base",
            "_view_module_version": "1.2.0",
            "_view_name": "LayoutView",
            "align_content": null,
            "align_items": null,
            "align_self": null,
            "border": null,
            "bottom": null,
            "display": null,
            "flex": null,
            "flex_flow": null,
            "grid_area": null,
            "grid_auto_columns": null,
            "grid_auto_flow": null,
            "grid_auto_rows": null,
            "grid_column": null,
            "grid_gap": null,
            "grid_row": null,
            "grid_template_areas": null,
            "grid_template_columns": null,
            "grid_template_rows": null,
            "height": null,
            "justify_content": null,
            "justify_items": null,
            "left": null,
            "margin": null,
            "max_height": null,
            "max_width": null,
            "min_height": null,
            "min_width": null,
            "object_fit": null,
            "object_position": null,
            "order": null,
            "overflow": null,
            "overflow_x": null,
            "overflow_y": null,
            "padding": null,
            "right": null,
            "top": null,
            "visibility": null,
            "width": null
          }
        },
        "f6de3131960e488a8b18b45b7b68ef45": {
          "model_module": "@jupyter-widgets/controls",
          "model_name": "DescriptionStyleModel",
          "model_module_version": "1.5.0",
          "state": {
            "_model_module": "@jupyter-widgets/controls",
            "_model_module_version": "1.5.0",
            "_model_name": "DescriptionStyleModel",
            "_view_count": null,
            "_view_module": "@jupyter-widgets/base",
            "_view_module_version": "1.2.0",
            "_view_name": "StyleView",
            "description_width": ""
          }
        },
        "4a040a0ca28c4e3182f2c351f976a5bd": {
          "model_module": "@jupyter-widgets/base",
          "model_name": "LayoutModel",
          "model_module_version": "1.2.0",
          "state": {
            "_model_module": "@jupyter-widgets/base",
            "_model_module_version": "1.2.0",
            "_model_name": "LayoutModel",
            "_view_count": null,
            "_view_module": "@jupyter-widgets/base",
            "_view_module_version": "1.2.0",
            "_view_name": "LayoutView",
            "align_content": null,
            "align_items": null,
            "align_self": null,
            "border": null,
            "bottom": null,
            "display": null,
            "flex": null,
            "flex_flow": null,
            "grid_area": null,
            "grid_auto_columns": null,
            "grid_auto_flow": null,
            "grid_auto_rows": null,
            "grid_column": null,
            "grid_gap": null,
            "grid_row": null,
            "grid_template_areas": null,
            "grid_template_columns": null,
            "grid_template_rows": null,
            "height": null,
            "justify_content": null,
            "justify_items": null,
            "left": null,
            "margin": null,
            "max_height": null,
            "max_width": null,
            "min_height": null,
            "min_width": null,
            "object_fit": null,
            "object_position": null,
            "order": null,
            "overflow": null,
            "overflow_x": null,
            "overflow_y": null,
            "padding": null,
            "right": null,
            "top": null,
            "visibility": null,
            "width": null
          }
        },
        "a89fae93612a40e0a7c735e611105eff": {
          "model_module": "@jupyter-widgets/controls",
          "model_name": "ProgressStyleModel",
          "model_module_version": "1.5.0",
          "state": {
            "_model_module": "@jupyter-widgets/controls",
            "_model_module_version": "1.5.0",
            "_model_name": "ProgressStyleModel",
            "_view_count": null,
            "_view_module": "@jupyter-widgets/base",
            "_view_module_version": "1.2.0",
            "_view_name": "StyleView",
            "bar_color": null,
            "description_width": ""
          }
        },
        "a60d504fa8bb4a83b0ba3c81c4678878": {
          "model_module": "@jupyter-widgets/base",
          "model_name": "LayoutModel",
          "model_module_version": "1.2.0",
          "state": {
            "_model_module": "@jupyter-widgets/base",
            "_model_module_version": "1.2.0",
            "_model_name": "LayoutModel",
            "_view_count": null,
            "_view_module": "@jupyter-widgets/base",
            "_view_module_version": "1.2.0",
            "_view_name": "LayoutView",
            "align_content": null,
            "align_items": null,
            "align_self": null,
            "border": null,
            "bottom": null,
            "display": null,
            "flex": null,
            "flex_flow": null,
            "grid_area": null,
            "grid_auto_columns": null,
            "grid_auto_flow": null,
            "grid_auto_rows": null,
            "grid_column": null,
            "grid_gap": null,
            "grid_row": null,
            "grid_template_areas": null,
            "grid_template_columns": null,
            "grid_template_rows": null,
            "height": null,
            "justify_content": null,
            "justify_items": null,
            "left": null,
            "margin": null,
            "max_height": null,
            "max_width": null,
            "min_height": null,
            "min_width": null,
            "object_fit": null,
            "object_position": null,
            "order": null,
            "overflow": null,
            "overflow_x": null,
            "overflow_y": null,
            "padding": null,
            "right": null,
            "top": null,
            "visibility": null,
            "width": null
          }
        },
        "a8d8ab5a88234c53adfd0ba946e5e61f": {
          "model_module": "@jupyter-widgets/controls",
          "model_name": "DescriptionStyleModel",
          "model_module_version": "1.5.0",
          "state": {
            "_model_module": "@jupyter-widgets/controls",
            "_model_module_version": "1.5.0",
            "_model_name": "DescriptionStyleModel",
            "_view_count": null,
            "_view_module": "@jupyter-widgets/base",
            "_view_module_version": "1.2.0",
            "_view_name": "StyleView",
            "description_width": ""
          }
        },
        "5190b92837234c3daea4c150fc2381b8": {
          "model_module": "@jupyter-widgets/controls",
          "model_name": "HBoxModel",
          "model_module_version": "1.5.0",
          "state": {
            "_dom_classes": [],
            "_model_module": "@jupyter-widgets/controls",
            "_model_module_version": "1.5.0",
            "_model_name": "HBoxModel",
            "_view_count": null,
            "_view_module": "@jupyter-widgets/controls",
            "_view_module_version": "1.5.0",
            "_view_name": "HBoxView",
            "box_style": "",
            "children": [
              "IPY_MODEL_2fba0d540f1f460a9a917ec0cc66419f",
              "IPY_MODEL_abe562722fac406db0f35459ad465fb5",
              "IPY_MODEL_532f1e908df64a418e549dab6c255da4"
            ],
            "layout": "IPY_MODEL_02c8e4ee2b2f4067852d75760145753b"
          }
        },
        "2fba0d540f1f460a9a917ec0cc66419f": {
          "model_module": "@jupyter-widgets/controls",
          "model_name": "HTMLModel",
          "model_module_version": "1.5.0",
          "state": {
            "_dom_classes": [],
            "_model_module": "@jupyter-widgets/controls",
            "_model_module_version": "1.5.0",
            "_model_name": "HTMLModel",
            "_view_count": null,
            "_view_module": "@jupyter-widgets/controls",
            "_view_module_version": "1.5.0",
            "_view_name": "HTMLView",
            "description": "",
            "description_tooltip": null,
            "layout": "IPY_MODEL_c96611b5492d4641986d6a5c9c72c454",
            "placeholder": "​",
            "style": "IPY_MODEL_34b00b22e94d4514a24de865d458b02f",
            "value": "events.out.tfevents.1704094225.495197ec28a5.415.1: 100%"
          }
        },
        "abe562722fac406db0f35459ad465fb5": {
          "model_module": "@jupyter-widgets/controls",
          "model_name": "FloatProgressModel",
          "model_module_version": "1.5.0",
          "state": {
            "_dom_classes": [],
            "_model_module": "@jupyter-widgets/controls",
            "_model_module_version": "1.5.0",
            "_model_name": "FloatProgressModel",
            "_view_count": null,
            "_view_module": "@jupyter-widgets/controls",
            "_view_module_version": "1.5.0",
            "_view_name": "ProgressView",
            "bar_style": "success",
            "description": "",
            "description_tooltip": null,
            "layout": "IPY_MODEL_fb963b10d36847d0bcbf1f9d5d3f66de",
            "max": 411,
            "min": 0,
            "orientation": "horizontal",
            "style": "IPY_MODEL_a94e8164161949c59da85edbc9aa7d3d",
            "value": 411
          }
        },
        "532f1e908df64a418e549dab6c255da4": {
          "model_module": "@jupyter-widgets/controls",
          "model_name": "HTMLModel",
          "model_module_version": "1.5.0",
          "state": {
            "_dom_classes": [],
            "_model_module": "@jupyter-widgets/controls",
            "_model_module_version": "1.5.0",
            "_model_name": "HTMLModel",
            "_view_count": null,
            "_view_module": "@jupyter-widgets/controls",
            "_view_module_version": "1.5.0",
            "_view_name": "HTMLView",
            "description": "",
            "description_tooltip": null,
            "layout": "IPY_MODEL_51cb951838a84d92a05d2e248dc21863",
            "placeholder": "​",
            "style": "IPY_MODEL_eb2a8f97978c46feb20eff7244f4dbab",
            "value": " 411/411 [00:00&lt;00:00, 2.95kB/s]"
          }
        },
        "02c8e4ee2b2f4067852d75760145753b": {
          "model_module": "@jupyter-widgets/base",
          "model_name": "LayoutModel",
          "model_module_version": "1.2.0",
          "state": {
            "_model_module": "@jupyter-widgets/base",
            "_model_module_version": "1.2.0",
            "_model_name": "LayoutModel",
            "_view_count": null,
            "_view_module": "@jupyter-widgets/base",
            "_view_module_version": "1.2.0",
            "_view_name": "LayoutView",
            "align_content": null,
            "align_items": null,
            "align_self": null,
            "border": null,
            "bottom": null,
            "display": null,
            "flex": null,
            "flex_flow": null,
            "grid_area": null,
            "grid_auto_columns": null,
            "grid_auto_flow": null,
            "grid_auto_rows": null,
            "grid_column": null,
            "grid_gap": null,
            "grid_row": null,
            "grid_template_areas": null,
            "grid_template_columns": null,
            "grid_template_rows": null,
            "height": null,
            "justify_content": null,
            "justify_items": null,
            "left": null,
            "margin": null,
            "max_height": null,
            "max_width": null,
            "min_height": null,
            "min_width": null,
            "object_fit": null,
            "object_position": null,
            "order": null,
            "overflow": null,
            "overflow_x": null,
            "overflow_y": null,
            "padding": null,
            "right": null,
            "top": null,
            "visibility": null,
            "width": null
          }
        },
        "c96611b5492d4641986d6a5c9c72c454": {
          "model_module": "@jupyter-widgets/base",
          "model_name": "LayoutModel",
          "model_module_version": "1.2.0",
          "state": {
            "_model_module": "@jupyter-widgets/base",
            "_model_module_version": "1.2.0",
            "_model_name": "LayoutModel",
            "_view_count": null,
            "_view_module": "@jupyter-widgets/base",
            "_view_module_version": "1.2.0",
            "_view_name": "LayoutView",
            "align_content": null,
            "align_items": null,
            "align_self": null,
            "border": null,
            "bottom": null,
            "display": null,
            "flex": null,
            "flex_flow": null,
            "grid_area": null,
            "grid_auto_columns": null,
            "grid_auto_flow": null,
            "grid_auto_rows": null,
            "grid_column": null,
            "grid_gap": null,
            "grid_row": null,
            "grid_template_areas": null,
            "grid_template_columns": null,
            "grid_template_rows": null,
            "height": null,
            "justify_content": null,
            "justify_items": null,
            "left": null,
            "margin": null,
            "max_height": null,
            "max_width": null,
            "min_height": null,
            "min_width": null,
            "object_fit": null,
            "object_position": null,
            "order": null,
            "overflow": null,
            "overflow_x": null,
            "overflow_y": null,
            "padding": null,
            "right": null,
            "top": null,
            "visibility": null,
            "width": null
          }
        },
        "34b00b22e94d4514a24de865d458b02f": {
          "model_module": "@jupyter-widgets/controls",
          "model_name": "DescriptionStyleModel",
          "model_module_version": "1.5.0",
          "state": {
            "_model_module": "@jupyter-widgets/controls",
            "_model_module_version": "1.5.0",
            "_model_name": "DescriptionStyleModel",
            "_view_count": null,
            "_view_module": "@jupyter-widgets/base",
            "_view_module_version": "1.2.0",
            "_view_name": "StyleView",
            "description_width": ""
          }
        },
        "fb963b10d36847d0bcbf1f9d5d3f66de": {
          "model_module": "@jupyter-widgets/base",
          "model_name": "LayoutModel",
          "model_module_version": "1.2.0",
          "state": {
            "_model_module": "@jupyter-widgets/base",
            "_model_module_version": "1.2.0",
            "_model_name": "LayoutModel",
            "_view_count": null,
            "_view_module": "@jupyter-widgets/base",
            "_view_module_version": "1.2.0",
            "_view_name": "LayoutView",
            "align_content": null,
            "align_items": null,
            "align_self": null,
            "border": null,
            "bottom": null,
            "display": null,
            "flex": null,
            "flex_flow": null,
            "grid_area": null,
            "grid_auto_columns": null,
            "grid_auto_flow": null,
            "grid_auto_rows": null,
            "grid_column": null,
            "grid_gap": null,
            "grid_row": null,
            "grid_template_areas": null,
            "grid_template_columns": null,
            "grid_template_rows": null,
            "height": null,
            "justify_content": null,
            "justify_items": null,
            "left": null,
            "margin": null,
            "max_height": null,
            "max_width": null,
            "min_height": null,
            "min_width": null,
            "object_fit": null,
            "object_position": null,
            "order": null,
            "overflow": null,
            "overflow_x": null,
            "overflow_y": null,
            "padding": null,
            "right": null,
            "top": null,
            "visibility": null,
            "width": null
          }
        },
        "a94e8164161949c59da85edbc9aa7d3d": {
          "model_module": "@jupyter-widgets/controls",
          "model_name": "ProgressStyleModel",
          "model_module_version": "1.5.0",
          "state": {
            "_model_module": "@jupyter-widgets/controls",
            "_model_module_version": "1.5.0",
            "_model_name": "ProgressStyleModel",
            "_view_count": null,
            "_view_module": "@jupyter-widgets/base",
            "_view_module_version": "1.2.0",
            "_view_name": "StyleView",
            "bar_color": null,
            "description_width": ""
          }
        },
        "51cb951838a84d92a05d2e248dc21863": {
          "model_module": "@jupyter-widgets/base",
          "model_name": "LayoutModel",
          "model_module_version": "1.2.0",
          "state": {
            "_model_module": "@jupyter-widgets/base",
            "_model_module_version": "1.2.0",
            "_model_name": "LayoutModel",
            "_view_count": null,
            "_view_module": "@jupyter-widgets/base",
            "_view_module_version": "1.2.0",
            "_view_name": "LayoutView",
            "align_content": null,
            "align_items": null,
            "align_self": null,
            "border": null,
            "bottom": null,
            "display": null,
            "flex": null,
            "flex_flow": null,
            "grid_area": null,
            "grid_auto_columns": null,
            "grid_auto_flow": null,
            "grid_auto_rows": null,
            "grid_column": null,
            "grid_gap": null,
            "grid_row": null,
            "grid_template_areas": null,
            "grid_template_columns": null,
            "grid_template_rows": null,
            "height": null,
            "justify_content": null,
            "justify_items": null,
            "left": null,
            "margin": null,
            "max_height": null,
            "max_width": null,
            "min_height": null,
            "min_width": null,
            "object_fit": null,
            "object_position": null,
            "order": null,
            "overflow": null,
            "overflow_x": null,
            "overflow_y": null,
            "padding": null,
            "right": null,
            "top": null,
            "visibility": null,
            "width": null
          }
        },
        "eb2a8f97978c46feb20eff7244f4dbab": {
          "model_module": "@jupyter-widgets/controls",
          "model_name": "DescriptionStyleModel",
          "model_module_version": "1.5.0",
          "state": {
            "_model_module": "@jupyter-widgets/controls",
            "_model_module_version": "1.5.0",
            "_model_name": "DescriptionStyleModel",
            "_view_count": null,
            "_view_module": "@jupyter-widgets/base",
            "_view_module_version": "1.2.0",
            "_view_name": "StyleView",
            "description_width": ""
          }
        },
        "daf8a4bb2d63418880b11e6a6844c134": {
          "model_module": "@jupyter-widgets/controls",
          "model_name": "HBoxModel",
          "model_module_version": "1.5.0",
          "state": {
            "_dom_classes": [],
            "_model_module": "@jupyter-widgets/controls",
            "_model_module_version": "1.5.0",
            "_model_name": "HBoxModel",
            "_view_count": null,
            "_view_module": "@jupyter-widgets/controls",
            "_view_module_version": "1.5.0",
            "_view_name": "HBoxView",
            "box_style": "",
            "children": [
              "IPY_MODEL_91866f09f5254ce9a74245e54ea84133",
              "IPY_MODEL_1080d114fb144119ad2f00d627da7afa",
              "IPY_MODEL_345c65ef27614f44be78da35675b0eaa"
            ],
            "layout": "IPY_MODEL_072a4c614cc944dabeaf5e1b43c6022e"
          }
        },
        "91866f09f5254ce9a74245e54ea84133": {
          "model_module": "@jupyter-widgets/controls",
          "model_name": "HTMLModel",
          "model_module_version": "1.5.0",
          "state": {
            "_dom_classes": [],
            "_model_module": "@jupyter-widgets/controls",
            "_model_module_version": "1.5.0",
            "_model_name": "HTMLModel",
            "_view_count": null,
            "_view_module": "@jupyter-widgets/controls",
            "_view_module_version": "1.5.0",
            "_view_name": "HTMLView",
            "description": "",
            "description_tooltip": null,
            "layout": "IPY_MODEL_19868a7337724bb1a8b486f4fc7de81e",
            "placeholder": "​",
            "style": "IPY_MODEL_6c9b69a49cce48d3bd10d039d6efb53b",
            "value": "config.json: 100%"
          }
        },
        "1080d114fb144119ad2f00d627da7afa": {
          "model_module": "@jupyter-widgets/controls",
          "model_name": "FloatProgressModel",
          "model_module_version": "1.5.0",
          "state": {
            "_dom_classes": [],
            "_model_module": "@jupyter-widgets/controls",
            "_model_module_version": "1.5.0",
            "_model_name": "FloatProgressModel",
            "_view_count": null,
            "_view_module": "@jupyter-widgets/controls",
            "_view_module_version": "1.5.0",
            "_view_name": "ProgressView",
            "bar_style": "success",
            "description": "",
            "description_tooltip": null,
            "layout": "IPY_MODEL_3a48b2aea4b84b0ab8f17f708935bd96",
            "max": 6906,
            "min": 0,
            "orientation": "horizontal",
            "style": "IPY_MODEL_37830020333f4ea2a9760f36f5901be0",
            "value": 6906
          }
        },
        "345c65ef27614f44be78da35675b0eaa": {
          "model_module": "@jupyter-widgets/controls",
          "model_name": "HTMLModel",
          "model_module_version": "1.5.0",
          "state": {
            "_dom_classes": [],
            "_model_module": "@jupyter-widgets/controls",
            "_model_module_version": "1.5.0",
            "_model_name": "HTMLModel",
            "_view_count": null,
            "_view_module": "@jupyter-widgets/controls",
            "_view_module_version": "1.5.0",
            "_view_name": "HTMLView",
            "description": "",
            "description_tooltip": null,
            "layout": "IPY_MODEL_d1aaac31372542908fbd43d2059f8d89",
            "placeholder": "​",
            "style": "IPY_MODEL_52648508907e4353aef82cd32095b048",
            "value": " 6.91k/6.91k [00:00&lt;00:00, 474kB/s]"
          }
        },
        "072a4c614cc944dabeaf5e1b43c6022e": {
          "model_module": "@jupyter-widgets/base",
          "model_name": "LayoutModel",
          "model_module_version": "1.2.0",
          "state": {
            "_model_module": "@jupyter-widgets/base",
            "_model_module_version": "1.2.0",
            "_model_name": "LayoutModel",
            "_view_count": null,
            "_view_module": "@jupyter-widgets/base",
            "_view_module_version": "1.2.0",
            "_view_name": "LayoutView",
            "align_content": null,
            "align_items": null,
            "align_self": null,
            "border": null,
            "bottom": null,
            "display": null,
            "flex": null,
            "flex_flow": null,
            "grid_area": null,
            "grid_auto_columns": null,
            "grid_auto_flow": null,
            "grid_auto_rows": null,
            "grid_column": null,
            "grid_gap": null,
            "grid_row": null,
            "grid_template_areas": null,
            "grid_template_columns": null,
            "grid_template_rows": null,
            "height": null,
            "justify_content": null,
            "justify_items": null,
            "left": null,
            "margin": null,
            "max_height": null,
            "max_width": null,
            "min_height": null,
            "min_width": null,
            "object_fit": null,
            "object_position": null,
            "order": null,
            "overflow": null,
            "overflow_x": null,
            "overflow_y": null,
            "padding": null,
            "right": null,
            "top": null,
            "visibility": null,
            "width": null
          }
        },
        "19868a7337724bb1a8b486f4fc7de81e": {
          "model_module": "@jupyter-widgets/base",
          "model_name": "LayoutModel",
          "model_module_version": "1.2.0",
          "state": {
            "_model_module": "@jupyter-widgets/base",
            "_model_module_version": "1.2.0",
            "_model_name": "LayoutModel",
            "_view_count": null,
            "_view_module": "@jupyter-widgets/base",
            "_view_module_version": "1.2.0",
            "_view_name": "LayoutView",
            "align_content": null,
            "align_items": null,
            "align_self": null,
            "border": null,
            "bottom": null,
            "display": null,
            "flex": null,
            "flex_flow": null,
            "grid_area": null,
            "grid_auto_columns": null,
            "grid_auto_flow": null,
            "grid_auto_rows": null,
            "grid_column": null,
            "grid_gap": null,
            "grid_row": null,
            "grid_template_areas": null,
            "grid_template_columns": null,
            "grid_template_rows": null,
            "height": null,
            "justify_content": null,
            "justify_items": null,
            "left": null,
            "margin": null,
            "max_height": null,
            "max_width": null,
            "min_height": null,
            "min_width": null,
            "object_fit": null,
            "object_position": null,
            "order": null,
            "overflow": null,
            "overflow_x": null,
            "overflow_y": null,
            "padding": null,
            "right": null,
            "top": null,
            "visibility": null,
            "width": null
          }
        },
        "6c9b69a49cce48d3bd10d039d6efb53b": {
          "model_module": "@jupyter-widgets/controls",
          "model_name": "DescriptionStyleModel",
          "model_module_version": "1.5.0",
          "state": {
            "_model_module": "@jupyter-widgets/controls",
            "_model_module_version": "1.5.0",
            "_model_name": "DescriptionStyleModel",
            "_view_count": null,
            "_view_module": "@jupyter-widgets/base",
            "_view_module_version": "1.2.0",
            "_view_name": "StyleView",
            "description_width": ""
          }
        },
        "3a48b2aea4b84b0ab8f17f708935bd96": {
          "model_module": "@jupyter-widgets/base",
          "model_name": "LayoutModel",
          "model_module_version": "1.2.0",
          "state": {
            "_model_module": "@jupyter-widgets/base",
            "_model_module_version": "1.2.0",
            "_model_name": "LayoutModel",
            "_view_count": null,
            "_view_module": "@jupyter-widgets/base",
            "_view_module_version": "1.2.0",
            "_view_name": "LayoutView",
            "align_content": null,
            "align_items": null,
            "align_self": null,
            "border": null,
            "bottom": null,
            "display": null,
            "flex": null,
            "flex_flow": null,
            "grid_area": null,
            "grid_auto_columns": null,
            "grid_auto_flow": null,
            "grid_auto_rows": null,
            "grid_column": null,
            "grid_gap": null,
            "grid_row": null,
            "grid_template_areas": null,
            "grid_template_columns": null,
            "grid_template_rows": null,
            "height": null,
            "justify_content": null,
            "justify_items": null,
            "left": null,
            "margin": null,
            "max_height": null,
            "max_width": null,
            "min_height": null,
            "min_width": null,
            "object_fit": null,
            "object_position": null,
            "order": null,
            "overflow": null,
            "overflow_x": null,
            "overflow_y": null,
            "padding": null,
            "right": null,
            "top": null,
            "visibility": null,
            "width": null
          }
        },
        "37830020333f4ea2a9760f36f5901be0": {
          "model_module": "@jupyter-widgets/controls",
          "model_name": "ProgressStyleModel",
          "model_module_version": "1.5.0",
          "state": {
            "_model_module": "@jupyter-widgets/controls",
            "_model_module_version": "1.5.0",
            "_model_name": "ProgressStyleModel",
            "_view_count": null,
            "_view_module": "@jupyter-widgets/base",
            "_view_module_version": "1.2.0",
            "_view_name": "StyleView",
            "bar_color": null,
            "description_width": ""
          }
        },
        "d1aaac31372542908fbd43d2059f8d89": {
          "model_module": "@jupyter-widgets/base",
          "model_name": "LayoutModel",
          "model_module_version": "1.2.0",
          "state": {
            "_model_module": "@jupyter-widgets/base",
            "_model_module_version": "1.2.0",
            "_model_name": "LayoutModel",
            "_view_count": null,
            "_view_module": "@jupyter-widgets/base",
            "_view_module_version": "1.2.0",
            "_view_name": "LayoutView",
            "align_content": null,
            "align_items": null,
            "align_self": null,
            "border": null,
            "bottom": null,
            "display": null,
            "flex": null,
            "flex_flow": null,
            "grid_area": null,
            "grid_auto_columns": null,
            "grid_auto_flow": null,
            "grid_auto_rows": null,
            "grid_column": null,
            "grid_gap": null,
            "grid_row": null,
            "grid_template_areas": null,
            "grid_template_columns": null,
            "grid_template_rows": null,
            "height": null,
            "justify_content": null,
            "justify_items": null,
            "left": null,
            "margin": null,
            "max_height": null,
            "max_width": null,
            "min_height": null,
            "min_width": null,
            "object_fit": null,
            "object_position": null,
            "order": null,
            "overflow": null,
            "overflow_x": null,
            "overflow_y": null,
            "padding": null,
            "right": null,
            "top": null,
            "visibility": null,
            "width": null
          }
        },
        "52648508907e4353aef82cd32095b048": {
          "model_module": "@jupyter-widgets/controls",
          "model_name": "DescriptionStyleModel",
          "model_module_version": "1.5.0",
          "state": {
            "_model_module": "@jupyter-widgets/controls",
            "_model_module_version": "1.5.0",
            "_model_name": "DescriptionStyleModel",
            "_view_count": null,
            "_view_module": "@jupyter-widgets/base",
            "_view_module_version": "1.2.0",
            "_view_name": "StyleView",
            "description_width": ""
          }
        },
        "7ce65f6893a74ac280004e366cad3009": {
          "model_module": "@jupyter-widgets/controls",
          "model_name": "HBoxModel",
          "model_module_version": "1.5.0",
          "state": {
            "_dom_classes": [],
            "_model_module": "@jupyter-widgets/controls",
            "_model_module_version": "1.5.0",
            "_model_name": "HBoxModel",
            "_view_count": null,
            "_view_module": "@jupyter-widgets/controls",
            "_view_module_version": "1.5.0",
            "_view_name": "HBoxView",
            "box_style": "",
            "children": [
              "IPY_MODEL_149984d3d0a9425caf73db8763d78b00",
              "IPY_MODEL_966169e017f04ce685e8b76390d40edd",
              "IPY_MODEL_2321021e3fff43a481e07eae1bab4389"
            ],
            "layout": "IPY_MODEL_ed408f6e566b4a30b85e3ba45ed6ee0b"
          }
        },
        "149984d3d0a9425caf73db8763d78b00": {
          "model_module": "@jupyter-widgets/controls",
          "model_name": "HTMLModel",
          "model_module_version": "1.5.0",
          "state": {
            "_dom_classes": [],
            "_model_module": "@jupyter-widgets/controls",
            "_model_module_version": "1.5.0",
            "_model_name": "HTMLModel",
            "_view_count": null,
            "_view_module": "@jupyter-widgets/controls",
            "_view_module_version": "1.5.0",
            "_view_name": "HTMLView",
            "description": "",
            "description_tooltip": null,
            "layout": "IPY_MODEL_fda835e4deca4d41a7c6c4975e242b63",
            "placeholder": "​",
            "style": "IPY_MODEL_8a763dc751f14dbfae7a539a17fb8a03",
            "value": "model.safetensors: 100%"
          }
        },
        "966169e017f04ce685e8b76390d40edd": {
          "model_module": "@jupyter-widgets/controls",
          "model_name": "FloatProgressModel",
          "model_module_version": "1.5.0",
          "state": {
            "_dom_classes": [],
            "_model_module": "@jupyter-widgets/controls",
            "_model_module_version": "1.5.0",
            "_model_name": "FloatProgressModel",
            "_view_count": null,
            "_view_module": "@jupyter-widgets/controls",
            "_view_module_version": "1.5.0",
            "_view_name": "ProgressView",
            "bar_style": "success",
            "description": "",
            "description_tooltip": null,
            "layout": "IPY_MODEL_26ea43cd7808406799e937c21907cb13",
            "max": 95516112,
            "min": 0,
            "orientation": "horizontal",
            "style": "IPY_MODEL_bf485b538fab474cb286513416e7d4e2",
            "value": 95516112
          }
        },
        "2321021e3fff43a481e07eae1bab4389": {
          "model_module": "@jupyter-widgets/controls",
          "model_name": "HTMLModel",
          "model_module_version": "1.5.0",
          "state": {
            "_dom_classes": [],
            "_model_module": "@jupyter-widgets/controls",
            "_model_module_version": "1.5.0",
            "_model_name": "HTMLModel",
            "_view_count": null,
            "_view_module": "@jupyter-widgets/controls",
            "_view_module_version": "1.5.0",
            "_view_name": "HTMLView",
            "description": "",
            "description_tooltip": null,
            "layout": "IPY_MODEL_715f0775aa564af1893ef15fdba3fc70",
            "placeholder": "​",
            "style": "IPY_MODEL_3e4df14655734ed9a788f8b0262f6307",
            "value": " 95.5M/95.5M [00:04&lt;00:00, 20.9MB/s]"
          }
        },
        "ed408f6e566b4a30b85e3ba45ed6ee0b": {
          "model_module": "@jupyter-widgets/base",
          "model_name": "LayoutModel",
          "model_module_version": "1.2.0",
          "state": {
            "_model_module": "@jupyter-widgets/base",
            "_model_module_version": "1.2.0",
            "_model_name": "LayoutModel",
            "_view_count": null,
            "_view_module": "@jupyter-widgets/base",
            "_view_module_version": "1.2.0",
            "_view_name": "LayoutView",
            "align_content": null,
            "align_items": null,
            "align_self": null,
            "border": null,
            "bottom": null,
            "display": null,
            "flex": null,
            "flex_flow": null,
            "grid_area": null,
            "grid_auto_columns": null,
            "grid_auto_flow": null,
            "grid_auto_rows": null,
            "grid_column": null,
            "grid_gap": null,
            "grid_row": null,
            "grid_template_areas": null,
            "grid_template_columns": null,
            "grid_template_rows": null,
            "height": null,
            "justify_content": null,
            "justify_items": null,
            "left": null,
            "margin": null,
            "max_height": null,
            "max_width": null,
            "min_height": null,
            "min_width": null,
            "object_fit": null,
            "object_position": null,
            "order": null,
            "overflow": null,
            "overflow_x": null,
            "overflow_y": null,
            "padding": null,
            "right": null,
            "top": null,
            "visibility": null,
            "width": null
          }
        },
        "fda835e4deca4d41a7c6c4975e242b63": {
          "model_module": "@jupyter-widgets/base",
          "model_name": "LayoutModel",
          "model_module_version": "1.2.0",
          "state": {
            "_model_module": "@jupyter-widgets/base",
            "_model_module_version": "1.2.0",
            "_model_name": "LayoutModel",
            "_view_count": null,
            "_view_module": "@jupyter-widgets/base",
            "_view_module_version": "1.2.0",
            "_view_name": "LayoutView",
            "align_content": null,
            "align_items": null,
            "align_self": null,
            "border": null,
            "bottom": null,
            "display": null,
            "flex": null,
            "flex_flow": null,
            "grid_area": null,
            "grid_auto_columns": null,
            "grid_auto_flow": null,
            "grid_auto_rows": null,
            "grid_column": null,
            "grid_gap": null,
            "grid_row": null,
            "grid_template_areas": null,
            "grid_template_columns": null,
            "grid_template_rows": null,
            "height": null,
            "justify_content": null,
            "justify_items": null,
            "left": null,
            "margin": null,
            "max_height": null,
            "max_width": null,
            "min_height": null,
            "min_width": null,
            "object_fit": null,
            "object_position": null,
            "order": null,
            "overflow": null,
            "overflow_x": null,
            "overflow_y": null,
            "padding": null,
            "right": null,
            "top": null,
            "visibility": null,
            "width": null
          }
        },
        "8a763dc751f14dbfae7a539a17fb8a03": {
          "model_module": "@jupyter-widgets/controls",
          "model_name": "DescriptionStyleModel",
          "model_module_version": "1.5.0",
          "state": {
            "_model_module": "@jupyter-widgets/controls",
            "_model_module_version": "1.5.0",
            "_model_name": "DescriptionStyleModel",
            "_view_count": null,
            "_view_module": "@jupyter-widgets/base",
            "_view_module_version": "1.2.0",
            "_view_name": "StyleView",
            "description_width": ""
          }
        },
        "26ea43cd7808406799e937c21907cb13": {
          "model_module": "@jupyter-widgets/base",
          "model_name": "LayoutModel",
          "model_module_version": "1.2.0",
          "state": {
            "_model_module": "@jupyter-widgets/base",
            "_model_module_version": "1.2.0",
            "_model_name": "LayoutModel",
            "_view_count": null,
            "_view_module": "@jupyter-widgets/base",
            "_view_module_version": "1.2.0",
            "_view_name": "LayoutView",
            "align_content": null,
            "align_items": null,
            "align_self": null,
            "border": null,
            "bottom": null,
            "display": null,
            "flex": null,
            "flex_flow": null,
            "grid_area": null,
            "grid_auto_columns": null,
            "grid_auto_flow": null,
            "grid_auto_rows": null,
            "grid_column": null,
            "grid_gap": null,
            "grid_row": null,
            "grid_template_areas": null,
            "grid_template_columns": null,
            "grid_template_rows": null,
            "height": null,
            "justify_content": null,
            "justify_items": null,
            "left": null,
            "margin": null,
            "max_height": null,
            "max_width": null,
            "min_height": null,
            "min_width": null,
            "object_fit": null,
            "object_position": null,
            "order": null,
            "overflow": null,
            "overflow_x": null,
            "overflow_y": null,
            "padding": null,
            "right": null,
            "top": null,
            "visibility": null,
            "width": null
          }
        },
        "bf485b538fab474cb286513416e7d4e2": {
          "model_module": "@jupyter-widgets/controls",
          "model_name": "ProgressStyleModel",
          "model_module_version": "1.5.0",
          "state": {
            "_model_module": "@jupyter-widgets/controls",
            "_model_module_version": "1.5.0",
            "_model_name": "ProgressStyleModel",
            "_view_count": null,
            "_view_module": "@jupyter-widgets/base",
            "_view_module_version": "1.2.0",
            "_view_name": "StyleView",
            "bar_color": null,
            "description_width": ""
          }
        },
        "715f0775aa564af1893ef15fdba3fc70": {
          "model_module": "@jupyter-widgets/base",
          "model_name": "LayoutModel",
          "model_module_version": "1.2.0",
          "state": {
            "_model_module": "@jupyter-widgets/base",
            "_model_module_version": "1.2.0",
            "_model_name": "LayoutModel",
            "_view_count": null,
            "_view_module": "@jupyter-widgets/base",
            "_view_module_version": "1.2.0",
            "_view_name": "LayoutView",
            "align_content": null,
            "align_items": null,
            "align_self": null,
            "border": null,
            "bottom": null,
            "display": null,
            "flex": null,
            "flex_flow": null,
            "grid_area": null,
            "grid_auto_columns": null,
            "grid_auto_flow": null,
            "grid_auto_rows": null,
            "grid_column": null,
            "grid_gap": null,
            "grid_row": null,
            "grid_template_areas": null,
            "grid_template_columns": null,
            "grid_template_rows": null,
            "height": null,
            "justify_content": null,
            "justify_items": null,
            "left": null,
            "margin": null,
            "max_height": null,
            "max_width": null,
            "min_height": null,
            "min_width": null,
            "object_fit": null,
            "object_position": null,
            "order": null,
            "overflow": null,
            "overflow_x": null,
            "overflow_y": null,
            "padding": null,
            "right": null,
            "top": null,
            "visibility": null,
            "width": null
          }
        },
        "3e4df14655734ed9a788f8b0262f6307": {
          "model_module": "@jupyter-widgets/controls",
          "model_name": "DescriptionStyleModel",
          "model_module_version": "1.5.0",
          "state": {
            "_model_module": "@jupyter-widgets/controls",
            "_model_module_version": "1.5.0",
            "_model_name": "DescriptionStyleModel",
            "_view_count": null,
            "_view_module": "@jupyter-widgets/base",
            "_view_module_version": "1.2.0",
            "_view_name": "StyleView",
            "description_width": ""
          }
        }
      }
    }
  },
  "nbformat": 4,
  "nbformat_minor": 0
}